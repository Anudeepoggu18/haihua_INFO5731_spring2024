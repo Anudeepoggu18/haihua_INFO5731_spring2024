{
 "cells": [
  {
   "cell_type": "markdown",
   "metadata": {
    "id": "Ryk8D1Q4Wsrp"
   },
   "source": [
    "# **INFO5731 Assignment 2**\n",
    "\n",
    "In this assignment, you will work on gathering text data from an open data source via web scraping or API. Following this, you will need to clean the text data and perform syntactic analysis on the data. Follow the instructions carefully and design well-structured Python programs to address each question.\n",
    "\n",
    "**Expectations**:\n",
    "*   Use the provided .*ipynb* document to write your code & respond to the questions. Avoid generating a new file.\n",
    "*   Write complete answers and run all the cells before submission.\n",
    "*   Make sure the submission is \"clean\"; *i.e.*, no unnecessary code cells.\n",
    "*   Once finished, allow shared rights from top right corner (*see Canvas for details*).\n",
    "\n",
    "* **Make sure to submit the cleaned data CSV in the comment section - 10 points**\n",
    "\n",
    "**Total points**: 100\n",
    "\n",
    "**Deadline**: Wednesday, at 11:59 PM.\n",
    "\n",
    "**Late Submission will have a penalty of 10% reduction for each day after the deadline.**\n"
   ]
  },
  {
   "cell_type": "markdown",
   "metadata": {
    "id": "JkzR8cFAyGik"
   },
   "source": [
    "# Question 1 (40 points)\n",
    "\n",
    "Write a python program to collect text data from **either of the following sources** and save the data into a **csv file:**\n",
    "\n",
    "(1) Collect all the customer reviews of a product (you can choose any porduct) on amazon. [atleast 1000 reviews]\n",
    "\n",
    "(2) Collect the top 1000 User Reviews of a movie recently in 2023 or 2024 (you can choose any movie) from IMDB. [If one movie doesn't have sufficient reviews, collect reviews of atleast 2 or 3 movies]\n",
    "\n",
    "(3) Collect all the reviews of the top 1000 most popular software from G2 or Capterra.\n",
    "\n",
    "(4) Collect the **abstracts** of the top 10000 research papers by using the query \"machine learning\", \"data science\", \"artifical intelligence\", or \"information extraction\" from Semantic Scholar.\n",
    "\n",
    "(5) Collect all the information of the 904 narrators in the Densho Digital Repository.\n"
   ]
  },
  {
   "cell_type": "markdown",
   "metadata": {},
   "source": [
    "The"
   ]
  },
  {
   "cell_type": "code",
   "execution_count": 1,
   "metadata": {
    "id": "jDyTKYs-yGit"
   },
   "outputs": [
    {
     "name": "stdout",
     "output_type": "stream",
     "text": [
      "Requirement already satisfied: selenium in /home/joelnyongesa/anaconda3/lib/python3.9/site-packages (4.10.0)\n",
      "Requirement already satisfied: urllib3<3,>=1.26 in /home/joelnyongesa/anaconda3/lib/python3.9/site-packages (from urllib3[socks]<3,>=1.26->selenium) (1.26.9)\n",
      "Requirement already satisfied: trio~=0.17 in /home/joelnyongesa/anaconda3/lib/python3.9/site-packages (from selenium) (0.22.2)\n",
      "Requirement already satisfied: trio-websocket~=0.9 in /home/joelnyongesa/anaconda3/lib/python3.9/site-packages (from selenium) (0.10.3)\n",
      "Requirement already satisfied: certifi>=2021.10.8 in /home/joelnyongesa/anaconda3/lib/python3.9/site-packages (from selenium) (2021.10.8)\n",
      "Requirement already satisfied: attrs>=20.1.0 in /home/joelnyongesa/anaconda3/lib/python3.9/site-packages (from trio~=0.17->selenium) (21.4.0)\n",
      "Requirement already satisfied: sortedcontainers in /home/joelnyongesa/anaconda3/lib/python3.9/site-packages (from trio~=0.17->selenium) (2.4.0)\n",
      "Requirement already satisfied: idna in /home/joelnyongesa/anaconda3/lib/python3.9/site-packages (from trio~=0.17->selenium) (3.3)\n",
      "Requirement already satisfied: outcome in /home/joelnyongesa/anaconda3/lib/python3.9/site-packages (from trio~=0.17->selenium) (1.2.0)\n",
      "Requirement already satisfied: sniffio in /home/joelnyongesa/anaconda3/lib/python3.9/site-packages (from trio~=0.17->selenium) (1.2.0)\n",
      "Requirement already satisfied: exceptiongroup>=1.0.0rc9 in /home/joelnyongesa/anaconda3/lib/python3.9/site-packages (from trio~=0.17->selenium) (1.1.2)\n",
      "Requirement already satisfied: wsproto>=0.14 in /home/joelnyongesa/anaconda3/lib/python3.9/site-packages (from trio-websocket~=0.9->selenium) (1.2.0)\n",
      "Requirement already satisfied: PySocks!=1.5.7,<2.0,>=1.5.6 in /home/joelnyongesa/anaconda3/lib/python3.9/site-packages (from urllib3[socks]<3,>=1.26->selenium) (1.7.1)\n",
      "Requirement already satisfied: h11<1,>=0.9.0 in /home/joelnyongesa/anaconda3/lib/python3.9/site-packages (from wsproto>=0.14->trio-websocket~=0.9->selenium) (0.14.0)\n"
     ]
    }
   ],
   "source": [
    "# Your code here\n",
    "!pip install selenium\n"
   ]
  },
  {
   "cell_type": "code",
   "execution_count": 2,
   "metadata": {},
   "outputs": [],
   "source": [
    "from selenium import webdriver\n",
    "options = webdriver.ChromeOptions()\n",
    "options.add_argument('-headless')\n",
    "options.add_argument('-no-sandbox')\n",
    "options.add_argument('-disable-dev-shm-usage')"
   ]
  },
  {
   "cell_type": "code",
   "execution_count": 3,
   "metadata": {},
   "outputs": [],
   "source": [
    "from webdriver_manager.chrome import ChromeDriverManager\n",
    "from selenium.webdriver.chrome.service import Service\n",
    "\n",
    "options = webdriver.ChromeOptions()\n",
    "options.add_argument('-headless')\n",
    "options.add_argument('-no-sandbox')\n",
    "options.add_argument('-disable-dev-shm-usage')\n",
    "\n",
    "d = webdriver.Chrome(service=Service(ChromeDriverManager().install()), options=options)\n"
   ]
  },
  {
   "cell_type": "code",
   "execution_count": 4,
   "metadata": {},
   "outputs": [
    {
     "name": "stdout",
     "output_type": "stream",
     "text": [
      "Length of data frame is 125\n"
     ]
    },
    {
     "data": {
      "text/html": [
       "<div>\n",
       "<style scoped>\n",
       "    .dataframe tbody tr th:only-of-type {\n",
       "        vertical-align: middle;\n",
       "    }\n",
       "\n",
       "    .dataframe tbody tr th {\n",
       "        vertical-align: top;\n",
       "    }\n",
       "\n",
       "    .dataframe thead th {\n",
       "        text-align: right;\n",
       "    }\n",
       "</style>\n",
       "<table border=\"1\" class=\"dataframe\">\n",
       "  <thead>\n",
       "    <tr style=\"text-align: right;\">\n",
       "      <th></th>\n",
       "      <th>Title</th>\n",
       "      <th>Review</th>\n",
       "    </tr>\n",
       "  </thead>\n",
       "  <tbody>\n",
       "    <tr>\n",
       "      <th>0</th>\n",
       "      <td>Sort of disappointed..</td>\n",
       "      <td>I got to admit I wasn't particularly blown awa...</td>\n",
       "    </tr>\n",
       "    <tr>\n",
       "      <th>1</th>\n",
       "      <td>Surprisingly good</td>\n",
       "      <td>I'll be honest - Marvel movies are not in my t...</td>\n",
       "    </tr>\n",
       "    <tr>\n",
       "      <th>2</th>\n",
       "      <td>Worth a watch with family</td>\n",
       "      <td>RATED 8/10 Language: English Source: Hotstar R...</td>\n",
       "    </tr>\n",
       "    <tr>\n",
       "      <th>3</th>\n",
       "      <td>A visual feast.</td>\n",
       "      <td></td>\n",
       "    </tr>\n",
       "    <tr>\n",
       "      <th>4</th>\n",
       "      <td>Questionable script (and Awkwafina is just the...</td>\n",
       "      <td>The characters are a bit incoherent and straig...</td>\n",
       "    </tr>\n",
       "    <tr>\n",
       "      <th>...</th>\n",
       "      <td>...</td>\n",
       "      <td>...</td>\n",
       "    </tr>\n",
       "    <tr>\n",
       "      <th>120</th>\n",
       "      <td>Great movie</td>\n",
       "      <td>I thought it was a great hero movie. It develo...</td>\n",
       "    </tr>\n",
       "    <tr>\n",
       "      <th>121</th>\n",
       "      <td>ignore the bad reviews!!</td>\n",
       "      <td>Now one of my marvel favs (as a fan since the ...</td>\n",
       "    </tr>\n",
       "    <tr>\n",
       "      <th>122</th>\n",
       "      <td>A good skeleton with too much fat</td>\n",
       "      <td>I'll make this very brief:\\n\\nIf it wasn't for...</td>\n",
       "    </tr>\n",
       "    <tr>\n",
       "      <th>123</th>\n",
       "      <td>Shang-chi</td>\n",
       "      <td>I loved the movie , it is awesome , in fact i'...</td>\n",
       "    </tr>\n",
       "    <tr>\n",
       "      <th>124</th>\n",
       "      <td>More of the same from the hyperactive Marvell/...</td>\n",
       "      <td>Shang-Chi (Simu Liu) discovers that his all-po...</td>\n",
       "    </tr>\n",
       "  </tbody>\n",
       "</table>\n",
       "<p>125 rows × 2 columns</p>\n",
       "</div>"
      ],
      "text/plain": [
       "                                                 Title  \\\n",
       "0                               Sort of disappointed..   \n",
       "1                                    Surprisingly good   \n",
       "2                            Worth a watch with family   \n",
       "3                                      A visual feast.   \n",
       "4    Questionable script (and Awkwafina is just the...   \n",
       "..                                                 ...   \n",
       "120                                        Great movie   \n",
       "121                           ignore the bad reviews!!   \n",
       "122                  A good skeleton with too much fat   \n",
       "123                                          Shang-chi   \n",
       "124  More of the same from the hyperactive Marvell/...   \n",
       "\n",
       "                                                Review  \n",
       "0    I got to admit I wasn't particularly blown awa...  \n",
       "1    I'll be honest - Marvel movies are not in my t...  \n",
       "2    RATED 8/10 Language: English Source: Hotstar R...  \n",
       "3                                                       \n",
       "4    The characters are a bit incoherent and straig...  \n",
       "..                                                 ...  \n",
       "120  I thought it was a great hero movie. It develo...  \n",
       "121  Now one of my marvel favs (as a fan since the ...  \n",
       "122  I'll make this very brief:\\n\\nIf it wasn't for...  \n",
       "123  I loved the movie , it is awesome , in fact i'...  \n",
       "124  Shang-Chi (Simu Liu) discovers that his all-po...  \n",
       "\n",
       "[125 rows x 2 columns]"
      ]
     },
     "execution_count": 4,
     "metadata": {},
     "output_type": "execute_result"
    }
   ],
   "source": [
    "from selenium.webdriver.common.by import By\n",
    "import time\n",
    "import pandas as pd\n",
    "\n",
    "\n",
    "url = 'https://www.imdb.com/title/tt9376612/reviews/?ref_=tt_ql_urv'\n",
    "t1 = []\n",
    "r1 = []\n",
    "d.get(url)\n",
    "for i in range(4):\n",
    "    d.find_element(By.ID, \"load-more-trigger\").click()\n",
    "    time.sleep(5)\n",
    "    lst_title = d.find_elements(By.CLASS_NAME, \"title\")\n",
    "    lst_reviews = d.find_elements(By.CLASS_NAME, \"text\")\n",
    "for j,k in zip(lst_title, lst_reviews):\n",
    "    t1.append((j.text).replace('\\n',''))\n",
    "    r1.append(k.text)\n",
    "df = pd.DataFrame(list(zip(t1, r1)), columns =['Title', 'Review'])\n",
    "print(\"Length of data frame is {0}\".format(len(df)))\n",
    "df"
   ]
  },
  {
   "cell_type": "code",
   "execution_count": 5,
   "metadata": {},
   "outputs": [],
   "source": [
    "df.to_csv('shangchi_reviews.csv', index=False)"
   ]
  },
  {
   "cell_type": "markdown",
   "metadata": {
    "id": "90_NR8c5XGWc"
   },
   "source": [
    "# Question 2 (30 points)\n",
    "\n",
    "Write a python program to **clean the text data** you collected in the previous question and save the clean data in a new column in the csv file. The data cleaning steps include: [Code and output is required for each part]\n",
    "\n",
    "(1) Remove noise, such as special characters and punctuations.\n",
    "\n",
    "(2) Remove numbers.\n",
    "\n",
    "(3) Remove stopwords by using the stopwords list.\n",
    "\n",
    "(4) Lowercase all texts\n",
    "\n",
    "(5) Stemming.\n",
    "\n",
    "(6) Lemmatization."
   ]
  },
  {
   "cell_type": "code",
   "execution_count": 6,
   "metadata": {
    "id": "Y0oOSlsOS0cq",
    "scrolled": true
   },
   "outputs": [
    {
     "name": "stdout",
     "output_type": "stream",
     "text": [
      "showing info https://raw.githubusercontent.com/nltk/nltk_data/gh-pages/index.xml\n"
     ]
    },
    {
     "data": {
      "text/plain": [
       "True"
      ]
     },
     "execution_count": 6,
     "metadata": {},
     "output_type": "execute_result"
    }
   ],
   "source": [
    "# Write code for each of the sub parts with proper comments.\n",
    "import nltk\n",
    "nltk.download()"
   ]
  },
  {
   "cell_type": "code",
   "execution_count": 8,
   "metadata": {},
   "outputs": [
    {
     "name": "stderr",
     "output_type": "stream",
     "text": [
      "/tmp/ipykernel_33281/4116690231.py:5: FutureWarning: The default value of regex will change from True to False in a future version.\n",
      "  df['Reviews after Noise Removal'] = df['Review'].str.replace('[^\\w\\s]','')\n"
     ]
    }
   ],
   "source": [
    "#Remove punctuations and special characters\n",
    "\n",
    "import re\n",
    "\n",
    "df['Reviews after Noise Removal'] = df['Review'].str.replace('[^\\w\\s]','')\n",
    "df['Reviews after Noise Removal'] = df['Reviews after Noise Removal'].apply(lambda x: ''.join(re.sub(r\"[^a-zA-Z0-9]+\", ' ', charctr) for charctr in x ))"
   ]
  },
  {
   "cell_type": "code",
   "execution_count": 9,
   "metadata": {},
   "outputs": [],
   "source": [
    "#Removing digits\n",
    "\n",
    "df['After digits removal'] = df['Reviews after Noise Removal'].apply(lambda y: ''.join([i for i in y if not i.isdigit()]))"
   ]
  },
  {
   "cell_type": "code",
   "execution_count": 10,
   "metadata": {},
   "outputs": [],
   "source": [
    "#Removing stop words\n",
    "\n",
    "from nltk.corpus import stopwords\n",
    "s = stopwords.words('english')\n",
    "df['Stopwords Removal'] = df['After digits removal'].apply(lambda x: \" \".join(x for x in x.split() if x not in s))"
   ]
  },
  {
   "cell_type": "code",
   "execution_count": 11,
   "metadata": {},
   "outputs": [
    {
     "data": {
      "text/html": [
       "<div>\n",
       "<style scoped>\n",
       "    .dataframe tbody tr th:only-of-type {\n",
       "        vertical-align: middle;\n",
       "    }\n",
       "\n",
       "    .dataframe tbody tr th {\n",
       "        vertical-align: top;\n",
       "    }\n",
       "\n",
       "    .dataframe thead th {\n",
       "        text-align: right;\n",
       "    }\n",
       "</style>\n",
       "<table border=\"1\" class=\"dataframe\">\n",
       "  <thead>\n",
       "    <tr style=\"text-align: right;\">\n",
       "      <th></th>\n",
       "      <th>Title</th>\n",
       "      <th>Review</th>\n",
       "      <th>Reviews after Noise Removal</th>\n",
       "      <th>After digits removal</th>\n",
       "      <th>Stopwords Removal</th>\n",
       "      <th>Lower Case</th>\n",
       "    </tr>\n",
       "  </thead>\n",
       "  <tbody>\n",
       "    <tr>\n",
       "      <th>0</th>\n",
       "      <td>Sort of disappointed..</td>\n",
       "      <td>I got to admit I wasn't particularly blown awa...</td>\n",
       "      <td>I got to admit I wasnt particularly blown away...</td>\n",
       "      <td>I got to admit I wasnt particularly blown away...</td>\n",
       "      <td>I got admit I wasnt particularly blown away an...</td>\n",
       "      <td>i got admit i wasnt particularly blown away an...</td>\n",
       "    </tr>\n",
       "    <tr>\n",
       "      <th>1</th>\n",
       "      <td>Surprisingly good</td>\n",
       "      <td>I'll be honest - Marvel movies are not in my t...</td>\n",
       "      <td>Ill be honest  Marvel movies are not in my top...</td>\n",
       "      <td>Ill be honest  Marvel movies are not in my top...</td>\n",
       "      <td>Ill honest Marvel movies top even within Marve...</td>\n",
       "      <td>ill honest marvel movies top even within marve...</td>\n",
       "    </tr>\n",
       "    <tr>\n",
       "      <th>2</th>\n",
       "      <td>Worth a watch with family</td>\n",
       "      <td>RATED 8/10 Language: English Source: Hotstar R...</td>\n",
       "      <td>RATED 810 Language English Source Hotstar RECO...</td>\n",
       "      <td>RATED  Language English Source Hotstar RECOMME...</td>\n",
       "      <td>RATED Language English Source Hotstar RECOMMEN...</td>\n",
       "      <td>rated language english source hotstar recommen...</td>\n",
       "    </tr>\n",
       "    <tr>\n",
       "      <th>3</th>\n",
       "      <td>A visual feast.</td>\n",
       "      <td></td>\n",
       "      <td></td>\n",
       "      <td></td>\n",
       "      <td></td>\n",
       "      <td></td>\n",
       "    </tr>\n",
       "    <tr>\n",
       "      <th>4</th>\n",
       "      <td>Questionable script (and Awkwafina is just the...</td>\n",
       "      <td>The characters are a bit incoherent and straig...</td>\n",
       "      <td>The characters are a bit incoherent and straig...</td>\n",
       "      <td>The characters are a bit incoherent and straig...</td>\n",
       "      <td>The characters bit incoherent straight contrad...</td>\n",
       "      <td>the characters bit incoherent straight contrad...</td>\n",
       "    </tr>\n",
       "    <tr>\n",
       "      <th>...</th>\n",
       "      <td>...</td>\n",
       "      <td>...</td>\n",
       "      <td>...</td>\n",
       "      <td>...</td>\n",
       "      <td>...</td>\n",
       "      <td>...</td>\n",
       "    </tr>\n",
       "    <tr>\n",
       "      <th>120</th>\n",
       "      <td>Great movie</td>\n",
       "      <td>I thought it was a great hero movie. It develo...</td>\n",
       "      <td>I thought it was a great hero movie It develop...</td>\n",
       "      <td>I thought it was a great hero movie It develop...</td>\n",
       "      <td>I thought great hero movie It developed charac...</td>\n",
       "      <td>i thought great hero movie it developed charac...</td>\n",
       "    </tr>\n",
       "    <tr>\n",
       "      <th>121</th>\n",
       "      <td>ignore the bad reviews!!</td>\n",
       "      <td>Now one of my marvel favs (as a fan since the ...</td>\n",
       "      <td>Now one of my marvel favs as a fan since the b...</td>\n",
       "      <td>Now one of my marvel favs as a fan since the b...</td>\n",
       "      <td>Now one marvel favs fan since beginning movie ...</td>\n",
       "      <td>now one marvel favs fan since beginning movie ...</td>\n",
       "    </tr>\n",
       "    <tr>\n",
       "      <th>122</th>\n",
       "      <td>A good skeleton with too much fat</td>\n",
       "      <td>I'll make this very brief:\\n\\nIf it wasn't for...</td>\n",
       "      <td>Ill make this very brief  If it wasnt for the ...</td>\n",
       "      <td>Ill make this very brief  If it wasnt for the ...</td>\n",
       "      <td>Ill make brief If wasnt stupid Tackedon Marvel...</td>\n",
       "      <td>ill make brief if wasnt stupid tackedon marvel...</td>\n",
       "    </tr>\n",
       "    <tr>\n",
       "      <th>123</th>\n",
       "      <td>Shang-chi</td>\n",
       "      <td>I loved the movie , it is awesome , in fact i'...</td>\n",
       "      <td>I loved the movie  it is awesome  in fact ive ...</td>\n",
       "      <td>I loved the movie  it is awesome  in fact ive ...</td>\n",
       "      <td>I loved movie awesome fact ive never seen type...</td>\n",
       "      <td>i loved movie awesome fact ive never seen type...</td>\n",
       "    </tr>\n",
       "    <tr>\n",
       "      <th>124</th>\n",
       "      <td>More of the same from the hyperactive Marvell/...</td>\n",
       "      <td>Shang-Chi (Simu Liu) discovers that his all-po...</td>\n",
       "      <td>ShangChi Simu Liu discovers that his allpowerf...</td>\n",
       "      <td>ShangChi Simu Liu discovers that his allpowerf...</td>\n",
       "      <td>ShangChi Simu Liu discovers allpowerful millen...</td>\n",
       "      <td>shangchi simu liu discovers allpowerful millen...</td>\n",
       "    </tr>\n",
       "  </tbody>\n",
       "</table>\n",
       "<p>125 rows × 6 columns</p>\n",
       "</div>"
      ],
      "text/plain": [
       "                                                 Title  \\\n",
       "0                               Sort of disappointed..   \n",
       "1                                    Surprisingly good   \n",
       "2                            Worth a watch with family   \n",
       "3                                      A visual feast.   \n",
       "4    Questionable script (and Awkwafina is just the...   \n",
       "..                                                 ...   \n",
       "120                                        Great movie   \n",
       "121                           ignore the bad reviews!!   \n",
       "122                  A good skeleton with too much fat   \n",
       "123                                          Shang-chi   \n",
       "124  More of the same from the hyperactive Marvell/...   \n",
       "\n",
       "                                                Review  \\\n",
       "0    I got to admit I wasn't particularly blown awa...   \n",
       "1    I'll be honest - Marvel movies are not in my t...   \n",
       "2    RATED 8/10 Language: English Source: Hotstar R...   \n",
       "3                                                        \n",
       "4    The characters are a bit incoherent and straig...   \n",
       "..                                                 ...   \n",
       "120  I thought it was a great hero movie. It develo...   \n",
       "121  Now one of my marvel favs (as a fan since the ...   \n",
       "122  I'll make this very brief:\\n\\nIf it wasn't for...   \n",
       "123  I loved the movie , it is awesome , in fact i'...   \n",
       "124  Shang-Chi (Simu Liu) discovers that his all-po...   \n",
       "\n",
       "                           Reviews after Noise Removal  \\\n",
       "0    I got to admit I wasnt particularly blown away...   \n",
       "1    Ill be honest  Marvel movies are not in my top...   \n",
       "2    RATED 810 Language English Source Hotstar RECO...   \n",
       "3                                                        \n",
       "4    The characters are a bit incoherent and straig...   \n",
       "..                                                 ...   \n",
       "120  I thought it was a great hero movie It develop...   \n",
       "121  Now one of my marvel favs as a fan since the b...   \n",
       "122  Ill make this very brief  If it wasnt for the ...   \n",
       "123  I loved the movie  it is awesome  in fact ive ...   \n",
       "124  ShangChi Simu Liu discovers that his allpowerf...   \n",
       "\n",
       "                                  After digits removal  \\\n",
       "0    I got to admit I wasnt particularly blown away...   \n",
       "1    Ill be honest  Marvel movies are not in my top...   \n",
       "2    RATED  Language English Source Hotstar RECOMME...   \n",
       "3                                                        \n",
       "4    The characters are a bit incoherent and straig...   \n",
       "..                                                 ...   \n",
       "120  I thought it was a great hero movie It develop...   \n",
       "121  Now one of my marvel favs as a fan since the b...   \n",
       "122  Ill make this very brief  If it wasnt for the ...   \n",
       "123  I loved the movie  it is awesome  in fact ive ...   \n",
       "124  ShangChi Simu Liu discovers that his allpowerf...   \n",
       "\n",
       "                                     Stopwords Removal  \\\n",
       "0    I got admit I wasnt particularly blown away an...   \n",
       "1    Ill honest Marvel movies top even within Marve...   \n",
       "2    RATED Language English Source Hotstar RECOMMEN...   \n",
       "3                                                        \n",
       "4    The characters bit incoherent straight contrad...   \n",
       "..                                                 ...   \n",
       "120  I thought great hero movie It developed charac...   \n",
       "121  Now one marvel favs fan since beginning movie ...   \n",
       "122  Ill make brief If wasnt stupid Tackedon Marvel...   \n",
       "123  I loved movie awesome fact ive never seen type...   \n",
       "124  ShangChi Simu Liu discovers allpowerful millen...   \n",
       "\n",
       "                                            Lower Case  \n",
       "0    i got admit i wasnt particularly blown away an...  \n",
       "1    ill honest marvel movies top even within marve...  \n",
       "2    rated language english source hotstar recommen...  \n",
       "3                                                       \n",
       "4    the characters bit incoherent straight contrad...  \n",
       "..                                                 ...  \n",
       "120  i thought great hero movie it developed charac...  \n",
       "121  now one marvel favs fan since beginning movie ...  \n",
       "122  ill make brief if wasnt stupid tackedon marvel...  \n",
       "123  i loved movie awesome fact ive never seen type...  \n",
       "124  shangchi simu liu discovers allpowerful millen...  \n",
       "\n",
       "[125 rows x 6 columns]"
      ]
     },
     "execution_count": 11,
     "metadata": {},
     "output_type": "execute_result"
    }
   ],
   "source": [
    "#Convert to lower case\n",
    "\n",
    "df['Lower Case'] = df['Stopwords Removal'].apply(lambda x: \" \".join(x.lower() for x in x.split()))\n",
    "df"
   ]
  },
  {
   "cell_type": "code",
   "execution_count": 12,
   "metadata": {},
   "outputs": [],
   "source": [
    "#Stemming\n",
    "\n",
    "from nltk.stem import PorterStemmer\n",
    "s = PorterStemmer()\n",
    "df['After Stemming'] = df['Lower Case'].apply(lambda x: \" \".join([s.stem(word) for word in x]))"
   ]
  },
  {
   "cell_type": "code",
   "execution_count": 15,
   "metadata": {},
   "outputs": [
    {
     "name": "stderr",
     "output_type": "stream",
     "text": [
      "[nltk_data] Downloading package wordnet to\n",
      "[nltk_data]     /home/joelnyongesa/nltk_data...\n",
      "[nltk_data]   Package wordnet is already up-to-date!\n"
     ]
    }
   ],
   "source": [
    "#Lemmatization\n",
    "\n",
    "from textblob import Word\n",
    "import nltk\n",
    "nltk.download('wordnet')\n",
    "\n",
    "df['After Lemmatization'] = df['After Stemming'].apply(lambda x: \" \".join([Word(word).lemmatize() for word in x.split()]))"
   ]
  },
  {
   "cell_type": "code",
   "execution_count": 16,
   "metadata": {},
   "outputs": [],
   "source": [
    "df.to_csv('shangchi_reviews.csv', index=False)"
   ]
  },
  {
   "cell_type": "markdown",
   "metadata": {
    "id": "q8BFCvWp32cf"
   },
   "source": [
    "# Mandatory Question\n",
    "\n",
    "Provide your thoughts on the assignment. What did you find challenging, and what aspects did you enjoy? Your opinion on the provided time to complete the assignment."
   ]
  },
  {
   "cell_type": "code",
   "execution_count": 17,
   "metadata": {
    "id": "_e557s2w4BpK"
   },
   "outputs": [
    {
     "name": "stdout",
     "output_type": "stream",
     "text": [
      "Data Scraping was a challenge but with research, I figured my way around it!\n"
     ]
    }
   ],
   "source": [
    "# Write your response below\n",
    "print(\"Data Scraping was a challenge but with research, I figured my way around it!\")"
   ]
  }
 ],
 "metadata": {
  "colab": {
   "collapsed_sections": [
    "OP4-5qxAtInv"
   ],
   "provenance": [],
   "toc_visible": true
  },
  "kernelspec": {
   "display_name": "Python 3 (ipykernel)",
   "language": "python",
   "name": "python3"
  },
  "language_info": {
   "codemirror_mode": {
    "name": "ipython",
    "version": 3
   },
   "file_extension": ".py",
   "mimetype": "text/x-python",
   "name": "python",
   "nbconvert_exporter": "python",
   "pygments_lexer": "ipython3",
   "version": "3.9.12"
  }
 },
 "nbformat": 4,
 "nbformat_minor": 1
}
