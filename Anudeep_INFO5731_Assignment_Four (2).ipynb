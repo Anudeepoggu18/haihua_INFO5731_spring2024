{
 "cells": [
  {
   "cell_type": "markdown",
   "metadata": {
    "id": "view-in-github"
   },
   "source": [
    "<a href=\"https://colab.research.google.com/github/unt-iialab/INFO5731_Spring2020/blob/master/Assignments/INFO5731_Assignment_Four.ipynb\" target=\"_parent\"><img src=\"https://colab.research.google.com/assets/colab-badge.svg\" alt=\"Open In Colab\"/></a>"
   ]
  },
  {
   "cell_type": "markdown",
   "metadata": {
    "id": "USSdXHuqnwv9"
   },
   "source": [
    "# **INFO5731 Assignment Four**\n",
    "\n",
    "In this assignment, you are required to conduct topic modeling, sentiment analysis based on **the dataset you created from assignment three**."
   ]
  },
  {
   "cell_type": "markdown",
   "metadata": {
    "id": "YWxodXh5n4xF"
   },
   "source": [
    "# **Question 1: Topic Modeling**"
   ]
  },
  {
   "cell_type": "markdown",
   "metadata": {
    "id": "TenBkDJ5n95k"
   },
   "source": [
    "(30 points). This question is designed to help you develop a feel for the way topic modeling works, the connection to the human meanings of documents. Based on the dataset from assignment three, write a python program to **identify the top 10 topics in the dataset**. Before answering this question, please review the materials in lesson 8, especially the code for LDA, LSA, and BERTopic. The following information should be reported:\n",
    "\n",
    "1. Features (text representation) used for topic modeling.\n",
    "\n",
    "2. Top 10 clusters for topic modeling.\n",
    "\n",
    "3. Summarize and describe the topic for each cluster.\n"
   ]
  },
  {
   "cell_type": "code",
   "execution_count": 1,
   "metadata": {},
   "outputs": [],
   "source": [
    "# Write your code here\n",
    "import warnings\n",
    "warnings.filterwarnings(\"ignore\", category=DeprecationWarning)"
   ]
  },
  {
   "cell_type": "code",
   "execution_count": 2,
   "metadata": {},
   "outputs": [
    {
     "name": "stderr",
     "output_type": "stream",
     "text": [
      "/home/joelnyongesa/anaconda3/lib/python3.9/site-packages/pandas/core/computation/expressions.py:21: UserWarning: Pandas requires version '2.8.4' or newer of 'numexpr' (version '2.8.1' currently installed).\n",
      "  from pandas.core.computation.check import NUMEXPR_INSTALLED\n",
      "/home/joelnyongesa/anaconda3/lib/python3.9/site-packages/pandas/core/arrays/masked.py:60: UserWarning: Pandas requires version '1.3.6' or newer of 'bottleneck' (version '1.3.4' currently installed).\n",
      "  from pandas.core import (\n"
     ]
    }
   ],
   "source": [
    "import pandas as pd\n",
    "data = pd.read_csv('reviews.csv')"
   ]
  },
  {
   "cell_type": "code",
   "execution_count": 3,
   "metadata": {},
   "outputs": [
    {
     "data": {
      "text/html": [
       "<div>\n",
       "<style scoped>\n",
       "    .dataframe tbody tr th:only-of-type {\n",
       "        vertical-align: middle;\n",
       "    }\n",
       "\n",
       "    .dataframe tbody tr th {\n",
       "        vertical-align: top;\n",
       "    }\n",
       "\n",
       "    .dataframe thead th {\n",
       "        text-align: right;\n",
       "    }\n",
       "</style>\n",
       "<table border=\"1\" class=\"dataframe\">\n",
       "  <thead>\n",
       "    <tr style=\"text-align: right;\">\n",
       "      <th></th>\n",
       "      <th>Title</th>\n",
       "      <th>Review</th>\n",
       "      <th>Lower Case</th>\n",
       "      <th>Removal of Punctuation</th>\n",
       "      <th>Removal of Special Characters</th>\n",
       "      <th>Stopwords Removal</th>\n",
       "      <th>Spelling Correction</th>\n",
       "      <th>Tokenization</th>\n",
       "      <th>After Stemming</th>\n",
       "      <th>After Lemmatization</th>\n",
       "    </tr>\n",
       "  </thead>\n",
       "  <tbody>\n",
       "    <tr>\n",
       "      <th>0</th>\n",
       "      <td>Sort of disappointed..</td>\n",
       "      <td>I got to admit I wasn't particularly blown awa...</td>\n",
       "      <td>i got to admit i wasn't particularly blown awa...</td>\n",
       "      <td>i got to admit i wasnt particularly blown away...</td>\n",
       "      <td>i got to admit i wasnt particularly blown away...</td>\n",
       "      <td>got admit wasnt particularly blown away anythi...</td>\n",
       "      <td>got admit want particularly blown away anythin...</td>\n",
       "      <td>['got', 'admit', 'want', 'particularly', 'blow...</td>\n",
       "      <td>got admit want particularli blown away anyth m...</td>\n",
       "      <td>got admit want particularli blown away anyth m...</td>\n",
       "    </tr>\n",
       "    <tr>\n",
       "      <th>1</th>\n",
       "      <td>Surprisingly good</td>\n",
       "      <td>I'll be honest - Marvel movies are not in my t...</td>\n",
       "      <td>i'll be honest - marvel movies are not in my t...</td>\n",
       "      <td>ill be honest  marvel movies are not in my top...</td>\n",
       "      <td>ill be honest  marvel movies are not in my top...</td>\n",
       "      <td>ill honest marvel movies top 20 even 50 within...</td>\n",
       "      <td>ill honest marvel moves top 20 even 50 within ...</td>\n",
       "      <td>['ill', 'honest', 'marvel', 'moves', 'top', '2...</td>\n",
       "      <td>ill honest marvel move top 20 even 50 within m...</td>\n",
       "      <td>ill honest marvel move top 20 even 50 within m...</td>\n",
       "    </tr>\n",
       "    <tr>\n",
       "      <th>2</th>\n",
       "      <td>Worth a watch with family</td>\n",
       "      <td>RATED 8/10 Language: English Source: Hotstar R...</td>\n",
       "      <td>rated 8/10 language: english source: hotstar r...</td>\n",
       "      <td>rated 810 language english source hotstar reco...</td>\n",
       "      <td>rated 810 language english source hotstar reco...</td>\n",
       "      <td>rated 810 language english source hotstar reco...</td>\n",
       "      <td>rate 810 language english source hotstar recom...</td>\n",
       "      <td>['rate', '810', 'language', 'english', 'source...</td>\n",
       "      <td>rate 810 languag english sourc hotstar recomme...</td>\n",
       "      <td>rate 810 languag english sourc hotstar recomme...</td>\n",
       "    </tr>\n",
       "    <tr>\n",
       "      <th>3</th>\n",
       "      <td>A visual feast.</td>\n",
       "      <td>NaN</td>\n",
       "      <td>NaN</td>\n",
       "      <td>NaN</td>\n",
       "      <td>NaN</td>\n",
       "      <td>NaN</td>\n",
       "      <td>NaN</td>\n",
       "      <td>[]</td>\n",
       "      <td>NaN</td>\n",
       "      <td>NaN</td>\n",
       "    </tr>\n",
       "    <tr>\n",
       "      <th>4</th>\n",
       "      <td>Questionable script (and Awkwafina is just the...</td>\n",
       "      <td>The characters are a bit incoherent and straig...</td>\n",
       "      <td>the characters are a bit incoherent and straig...</td>\n",
       "      <td>the characters are a bit incoherent and straig...</td>\n",
       "      <td>the characters are a bit incoherent and straig...</td>\n",
       "      <td>characters bit incoherent straight contradict ...</td>\n",
       "      <td>characters bit incoherent straight contradict ...</td>\n",
       "      <td>['characters', 'bit', 'incoherent', 'straight'...</td>\n",
       "      <td>charact bit incoher straight contradict charac...</td>\n",
       "      <td>charact bit incoher straight contradict charac...</td>\n",
       "    </tr>\n",
       "    <tr>\n",
       "      <th>...</th>\n",
       "      <td>...</td>\n",
       "      <td>...</td>\n",
       "      <td>...</td>\n",
       "      <td>...</td>\n",
       "      <td>...</td>\n",
       "      <td>...</td>\n",
       "      <td>...</td>\n",
       "      <td>...</td>\n",
       "      <td>...</td>\n",
       "      <td>...</td>\n",
       "    </tr>\n",
       "    <tr>\n",
       "      <th>95</th>\n",
       "      <td>Amazing!</td>\n",
       "      <td>MCU aside, this movie stands alone as an epic ...</td>\n",
       "      <td>mcu aside, this movie stands alone as an epic ...</td>\n",
       "      <td>mcu aside this movie stands alone as an epic m...</td>\n",
       "      <td>mcu aside this movie stands alone as an epic m...</td>\n",
       "      <td>mcu aside movie stands alone epic masterpiece ...</td>\n",
       "      <td>you aside movie stands alone epic masterpiece ...</td>\n",
       "      <td>['you', 'aside', 'movie', 'stands', 'alone', '...</td>\n",
       "      <td>you asid movi stand alon epic masterpiec fight...</td>\n",
       "      <td>you asid movi stand alon epic masterpiec fight...</td>\n",
       "    </tr>\n",
       "    <tr>\n",
       "      <th>96</th>\n",
       "      <td>I was hesitant to see this... but I was wrong.</td>\n",
       "      <td>Very good movie. I am not a fan of Kung Fu so ...</td>\n",
       "      <td>very good movie. i am not a fan of kung fu so ...</td>\n",
       "      <td>very good movie i am not a fan of kung fu so i...</td>\n",
       "      <td>very good movie i am not a fan of kung fu so i...</td>\n",
       "      <td>good movie fan kung fu didnt really want see 2...</td>\n",
       "      <td>good movie fan king ff didn really want see 2 ...</td>\n",
       "      <td>['good', 'movie', 'fan', 'king', 'ff', 'didn',...</td>\n",
       "      <td>good movi fan king ff didn realli want see 2 y...</td>\n",
       "      <td>good movi fan king ff didn realli want see 2 y...</td>\n",
       "    </tr>\n",
       "    <tr>\n",
       "      <th>97</th>\n",
       "      <td>Shang Chi was disappointing</td>\n",
       "      <td>NaN</td>\n",
       "      <td>NaN</td>\n",
       "      <td>NaN</td>\n",
       "      <td>NaN</td>\n",
       "      <td>NaN</td>\n",
       "      <td>NaN</td>\n",
       "      <td>[]</td>\n",
       "      <td>NaN</td>\n",
       "      <td>NaN</td>\n",
       "    </tr>\n",
       "    <tr>\n",
       "      <th>98</th>\n",
       "      <td>Out of the Marvel patterns</td>\n",
       "      <td>I had very few expectations from this one, giv...</td>\n",
       "      <td>i had very few expectations from this one, giv...</td>\n",
       "      <td>i had very few expectations from this one give...</td>\n",
       "      <td>i had very few expectations from this one give...</td>\n",
       "      <td>expectations one given fact origin story chara...</td>\n",
       "      <td>expectations one given fact origin story chara...</td>\n",
       "      <td>['expectations', 'one', 'given', 'fact', 'orig...</td>\n",
       "      <td>expect one given fact origin stori charact kno...</td>\n",
       "      <td>expect one given fact origin stori charact kno...</td>\n",
       "    </tr>\n",
       "    <tr>\n",
       "      <th>99</th>\n",
       "      <td>Marvel is going down the drain...</td>\n",
       "      <td>This movie is pure insult in first 10 minutes ...</td>\n",
       "      <td>this movie is pure insult in first 10 minutes ...</td>\n",
       "      <td>this movie is pure insult in first 10 minutes ...</td>\n",
       "      <td>this movie is pure insult in first 10 minutes ...</td>\n",
       "      <td>movie pure insult first 10 minutes alone awful...</td>\n",
       "      <td>movie pure insult first 10 minutes alone awful...</td>\n",
       "      <td>['movie', 'pure', 'insult', 'first', '10', 'mi...</td>\n",
       "      <td>movi pure insult first 10 minut alon aw chi ri...</td>\n",
       "      <td>movi pure insult first 10 minut alon aw chi ri...</td>\n",
       "    </tr>\n",
       "  </tbody>\n",
       "</table>\n",
       "<p>100 rows × 10 columns</p>\n",
       "</div>"
      ],
      "text/plain": [
       "                                                Title  \\\n",
       "0                              Sort of disappointed..   \n",
       "1                                   Surprisingly good   \n",
       "2                           Worth a watch with family   \n",
       "3                                     A visual feast.   \n",
       "4   Questionable script (and Awkwafina is just the...   \n",
       "..                                                ...   \n",
       "95                                           Amazing!   \n",
       "96     I was hesitant to see this... but I was wrong.   \n",
       "97                        Shang Chi was disappointing   \n",
       "98                         Out of the Marvel patterns   \n",
       "99                  Marvel is going down the drain...   \n",
       "\n",
       "                                               Review  \\\n",
       "0   I got to admit I wasn't particularly blown awa...   \n",
       "1   I'll be honest - Marvel movies are not in my t...   \n",
       "2   RATED 8/10 Language: English Source: Hotstar R...   \n",
       "3                                                 NaN   \n",
       "4   The characters are a bit incoherent and straig...   \n",
       "..                                                ...   \n",
       "95  MCU aside, this movie stands alone as an epic ...   \n",
       "96  Very good movie. I am not a fan of Kung Fu so ...   \n",
       "97                                                NaN   \n",
       "98  I had very few expectations from this one, giv...   \n",
       "99  This movie is pure insult in first 10 minutes ...   \n",
       "\n",
       "                                           Lower Case  \\\n",
       "0   i got to admit i wasn't particularly blown awa...   \n",
       "1   i'll be honest - marvel movies are not in my t...   \n",
       "2   rated 8/10 language: english source: hotstar r...   \n",
       "3                                                 NaN   \n",
       "4   the characters are a bit incoherent and straig...   \n",
       "..                                                ...   \n",
       "95  mcu aside, this movie stands alone as an epic ...   \n",
       "96  very good movie. i am not a fan of kung fu so ...   \n",
       "97                                                NaN   \n",
       "98  i had very few expectations from this one, giv...   \n",
       "99  this movie is pure insult in first 10 minutes ...   \n",
       "\n",
       "                               Removal of Punctuation  \\\n",
       "0   i got to admit i wasnt particularly blown away...   \n",
       "1   ill be honest  marvel movies are not in my top...   \n",
       "2   rated 810 language english source hotstar reco...   \n",
       "3                                                 NaN   \n",
       "4   the characters are a bit incoherent and straig...   \n",
       "..                                                ...   \n",
       "95  mcu aside this movie stands alone as an epic m...   \n",
       "96  very good movie i am not a fan of kung fu so i...   \n",
       "97                                                NaN   \n",
       "98  i had very few expectations from this one give...   \n",
       "99  this movie is pure insult in first 10 minutes ...   \n",
       "\n",
       "                        Removal of Special Characters  \\\n",
       "0   i got to admit i wasnt particularly blown away...   \n",
       "1   ill be honest  marvel movies are not in my top...   \n",
       "2   rated 810 language english source hotstar reco...   \n",
       "3                                                 NaN   \n",
       "4   the characters are a bit incoherent and straig...   \n",
       "..                                                ...   \n",
       "95  mcu aside this movie stands alone as an epic m...   \n",
       "96  very good movie i am not a fan of kung fu so i...   \n",
       "97                                                NaN   \n",
       "98  i had very few expectations from this one give...   \n",
       "99  this movie is pure insult in first 10 minutes ...   \n",
       "\n",
       "                                    Stopwords Removal  \\\n",
       "0   got admit wasnt particularly blown away anythi...   \n",
       "1   ill honest marvel movies top 20 even 50 within...   \n",
       "2   rated 810 language english source hotstar reco...   \n",
       "3                                                 NaN   \n",
       "4   characters bit incoherent straight contradict ...   \n",
       "..                                                ...   \n",
       "95  mcu aside movie stands alone epic masterpiece ...   \n",
       "96  good movie fan kung fu didnt really want see 2...   \n",
       "97                                                NaN   \n",
       "98  expectations one given fact origin story chara...   \n",
       "99  movie pure insult first 10 minutes alone awful...   \n",
       "\n",
       "                                  Spelling Correction  \\\n",
       "0   got admit want particularly blown away anythin...   \n",
       "1   ill honest marvel moves top 20 even 50 within ...   \n",
       "2   rate 810 language english source hotstar recom...   \n",
       "3                                                 NaN   \n",
       "4   characters bit incoherent straight contradict ...   \n",
       "..                                                ...   \n",
       "95  you aside movie stands alone epic masterpiece ...   \n",
       "96  good movie fan king ff didn really want see 2 ...   \n",
       "97                                                NaN   \n",
       "98  expectations one given fact origin story chara...   \n",
       "99  movie pure insult first 10 minutes alone awful...   \n",
       "\n",
       "                                         Tokenization  \\\n",
       "0   ['got', 'admit', 'want', 'particularly', 'blow...   \n",
       "1   ['ill', 'honest', 'marvel', 'moves', 'top', '2...   \n",
       "2   ['rate', '810', 'language', 'english', 'source...   \n",
       "3                                                  []   \n",
       "4   ['characters', 'bit', 'incoherent', 'straight'...   \n",
       "..                                                ...   \n",
       "95  ['you', 'aside', 'movie', 'stands', 'alone', '...   \n",
       "96  ['good', 'movie', 'fan', 'king', 'ff', 'didn',...   \n",
       "97                                                 []   \n",
       "98  ['expectations', 'one', 'given', 'fact', 'orig...   \n",
       "99  ['movie', 'pure', 'insult', 'first', '10', 'mi...   \n",
       "\n",
       "                                       After Stemming  \\\n",
       "0   got admit want particularli blown away anyth m...   \n",
       "1   ill honest marvel move top 20 even 50 within m...   \n",
       "2   rate 810 languag english sourc hotstar recomme...   \n",
       "3                                                 NaN   \n",
       "4   charact bit incoher straight contradict charac...   \n",
       "..                                                ...   \n",
       "95  you asid movi stand alon epic masterpiec fight...   \n",
       "96  good movi fan king ff didn realli want see 2 y...   \n",
       "97                                                NaN   \n",
       "98  expect one given fact origin stori charact kno...   \n",
       "99  movi pure insult first 10 minut alon aw chi ri...   \n",
       "\n",
       "                                  After Lemmatization  \n",
       "0   got admit want particularli blown away anyth m...  \n",
       "1   ill honest marvel move top 20 even 50 within m...  \n",
       "2   rate 810 languag english sourc hotstar recomme...  \n",
       "3                                                 NaN  \n",
       "4   charact bit incoher straight contradict charac...  \n",
       "..                                                ...  \n",
       "95  you asid movi stand alon epic masterpiec fight...  \n",
       "96  good movi fan king ff didn realli want see 2 y...  \n",
       "97                                                NaN  \n",
       "98  expect one given fact origin stori charact kno...  \n",
       "99  movi pure insult first 10 minut alon aw chi ri...  \n",
       "\n",
       "[100 rows x 10 columns]"
      ]
     },
     "execution_count": 3,
     "metadata": {},
     "output_type": "execute_result"
    }
   ],
   "source": [
    "data.head(100)"
   ]
  },
  {
   "cell_type": "markdown",
   "metadata": {},
   "source": [
    "## Data Cleaning"
   ]
  },
  {
   "cell_type": "code",
   "execution_count": 4,
   "metadata": {},
   "outputs": [],
   "source": [
    "from nltk.tokenize import RegexpTokenizer\n",
    "from stop_words import get_stop_words\n",
    "from nltk.stem.porter import PorterStemmer\n"
   ]
  },
  {
   "cell_type": "code",
   "execution_count": 5,
   "metadata": {},
   "outputs": [],
   "source": [
    "tokenizer = RegexpTokenizer(r'\\w+')\n",
    "en_stop = get_stop_words('en')\n",
    "p_stemmer = PorterStemmer()"
   ]
  },
  {
   "cell_type": "code",
   "execution_count": 6,
   "metadata": {},
   "outputs": [],
   "source": [
    "data['Lower Case'] = data['Lower Case'].fillna('')"
   ]
  },
  {
   "cell_type": "code",
   "execution_count": 7,
   "metadata": {},
   "outputs": [
    {
     "data": {
      "text/plain": [
       "0      i got to admit i wasn't particularly blown awa...\n",
       "1      i'll be honest - marvel movies are not in my t...\n",
       "2      rated 8/10 language: english source: hotstar r...\n",
       "3                                                       \n",
       "4      the characters are a bit incoherent and straig...\n",
       "                             ...                        \n",
       "120                                                     \n",
       "121                                                     \n",
       "122    i'll make this very brief: if it wasn't for th...\n",
       "123    i loved the movie , it is awesome , in fact i'...\n",
       "124    shang-chi (simu liu) discovers that his all-po...\n",
       "Name: Lower Case, Length: 125, dtype: object"
      ]
     },
     "execution_count": 7,
     "metadata": {},
     "output_type": "execute_result"
    }
   ],
   "source": [
    "data['Lower Case']"
   ]
  },
  {
   "cell_type": "code",
   "execution_count": 8,
   "metadata": {},
   "outputs": [],
   "source": [
    "data['Tokenization'] = data['Lower Case'].apply(lambda x: tokenizer.tokenize(x))\n",
    "data['Tokens'] = data['Tokenization'].apply(lambda x: [i for i in x if not i in en_stop])\n",
    "data['Stemming'] = data['Tokens'].apply(lambda x: [p_stemmer.stem(i) for i in x])"
   ]
  },
  {
   "cell_type": "code",
   "execution_count": 9,
   "metadata": {},
   "outputs": [],
   "source": [
    "texts = []\n",
    "for line in data['Stemming']:\n",
    "  texts.append(line)"
   ]
  },
  {
   "cell_type": "markdown",
   "metadata": {},
   "source": [
    "## Bigrams and Trigrams"
   ]
  },
  {
   "cell_type": "code",
   "execution_count": 10,
   "metadata": {},
   "outputs": [
    {
     "name": "stdout",
     "output_type": "stream",
     "text": [
      "['got', 'admit', 'wasn', 't', 'particularli', 'blown', 'away', 'anyth', 'movi', 'might', 'even', 'say', 'bore', 'don', 't', 'get', 'wrong', 'spectacl', 'action', 'great', 'locat', 'nice', 'costum', 'design', 'sound', 'design', 'etc', 'overal', 'soft', 'releas', 'worth', 'see', 'theater', 'special', 'follow', 'endgam', 'biggest', 'problem', 'underwritten', 'lead', 'muddl', 'person', 'reason', 'cover', 'stori', 'devoid', 'charm', 'person', 'good', 'dialogu', 'next', 'issu', 'humor', 'didn', 't', 'land', 'support', 'lead', 'awkwafina', 'isn', 't', 'normal', 'loud', 'self', 's', 'suppos', 'funni', 'everi', 'time', 'open', 'mouth', 'role', 'support', 'littl', 'dramat', 'question', 'even', 'doesn', 't', 'ultim', 'matter', 'anoth', 'forgett', 'charact', 'given', 'import', 'role', 'deserv', 'final', 'third', 'act', 'weak', 's', 'balanc', 'problem', 'stake', 'can', 't', 'feel', 'tension', 'weight', 'action', 's', 'lot', 'superfici', 'can', 't', 'can', 'end', 'feel', 'like', 'safe', 'plot', 'written', 'way', 'appeal', 'china', 'consid', 'mandarin', 'portray', 'end', 'appeal', 'one', 'specif', 'certainli', 'doesn', 't', 'feel', 'like', 'marvel', 'movi', 'bound', 'happen', 'introduc', 'differ', 'aspect', 'narr', 'also', 'doesn', 't', 'feel', 'like', 'comic', 'book', 's', 'gener']\n"
     ]
    }
   ],
   "source": [
    "from gensim import corpora, models\n",
    "bigram = models.Phrases(texts, min_count=5, threshold=100)\n",
    "trigram = models.Phrases(bigram[texts], threshold=100)\n",
    "bigram_mod = models.phrases.Phraser(bigram)\n",
    "trigram_mod = models.phrases.Phraser(trigram)\n",
    "print(trigram_mod[bigram_mod[texts[0]]])"
   ]
  },
  {
   "cell_type": "code",
   "execution_count": 11,
   "metadata": {},
   "outputs": [],
   "source": [
    "def make_bigrams(texts):\n",
    "    return [bigram_mod[doc] for doc in texts]"
   ]
  },
  {
   "cell_type": "code",
   "execution_count": 12,
   "metadata": {},
   "outputs": [],
   "source": [
    "def make_trigrams(texts):\n",
    "    return [trigram_mod[bigram_mod[doc]] for doc in texts]"
   ]
  },
  {
   "cell_type": "code",
   "execution_count": 13,
   "metadata": {},
   "outputs": [],
   "source": [
    "def lemmatization(texts, allowed_postags=['NOUN', 'ADJ', 'VERB', 'ADV']):\n",
    "    texts_out = []\n",
    "    for sent in texts:\n",
    "        doc = nlp(\" \".join(sent)) \n",
    "        texts_out.append([token.lemma_ for token in doc if token.pos_ in allowed_postags])\n",
    "    return texts_out"
   ]
  },
  {
   "cell_type": "code",
   "execution_count": 16,
   "metadata": {},
   "outputs": [
    {
     "name": "stdout",
     "output_type": "stream",
     "text": [
      "Collecting en-core-web-sm==3.7.1\n",
      "  Downloading https://github.com/explosion/spacy-models/releases/download/en_core_web_sm-3.7.1/en_core_web_sm-3.7.1-py3-none-any.whl (12.8 MB)\n",
      "     ━━━━━━━━━━━━━━━━━━━━━━━━━━━━━━━━━━━━━━━ 12.8/12.8 MB 792.8 kB/s eta 0:00:00\n",
      "Requirement already satisfied: spacy<3.8.0,>=3.7.2 in /home/joelnyongesa/anaconda3/lib/python3.9/site-packages (from en-core-web-sm==3.7.1) (3.7.4)\n",
      "Requirement already satisfied: spacy-legacy<3.1.0,>=3.0.11 in /home/joelnyongesa/anaconda3/lib/python3.9/site-packages (from spacy<3.8.0,>=3.7.2->en-core-web-sm==3.7.1) (3.0.12)\n",
      "Requirement already satisfied: spacy-loggers<2.0.0,>=1.0.0 in /home/joelnyongesa/anaconda3/lib/python3.9/site-packages (from spacy<3.8.0,>=3.7.2->en-core-web-sm==3.7.1) (1.0.5)\n",
      "Requirement already satisfied: murmurhash<1.1.0,>=0.28.0 in /home/joelnyongesa/anaconda3/lib/python3.9/site-packages (from spacy<3.8.0,>=3.7.2->en-core-web-sm==3.7.1) (1.0.10)\n",
      "Requirement already satisfied: cymem<2.1.0,>=2.0.2 in /home/joelnyongesa/anaconda3/lib/python3.9/site-packages (from spacy<3.8.0,>=3.7.2->en-core-web-sm==3.7.1) (2.0.8)\n",
      "Requirement already satisfied: preshed<3.1.0,>=3.0.2 in /home/joelnyongesa/anaconda3/lib/python3.9/site-packages (from spacy<3.8.0,>=3.7.2->en-core-web-sm==3.7.1) (3.0.9)\n",
      "Requirement already satisfied: thinc<8.3.0,>=8.2.2 in /home/joelnyongesa/anaconda3/lib/python3.9/site-packages (from spacy<3.8.0,>=3.7.2->en-core-web-sm==3.7.1) (8.2.3)\n",
      "Requirement already satisfied: wasabi<1.2.0,>=0.9.1 in /home/joelnyongesa/anaconda3/lib/python3.9/site-packages (from spacy<3.8.0,>=3.7.2->en-core-web-sm==3.7.1) (1.1.2)\n",
      "Requirement already satisfied: srsly<3.0.0,>=2.4.3 in /home/joelnyongesa/anaconda3/lib/python3.9/site-packages (from spacy<3.8.0,>=3.7.2->en-core-web-sm==3.7.1) (2.4.8)\n",
      "Requirement already satisfied: catalogue<2.1.0,>=2.0.6 in /home/joelnyongesa/anaconda3/lib/python3.9/site-packages (from spacy<3.8.0,>=3.7.2->en-core-web-sm==3.7.1) (2.0.10)\n",
      "Requirement already satisfied: weasel<0.4.0,>=0.1.0 in /home/joelnyongesa/anaconda3/lib/python3.9/site-packages (from spacy<3.8.0,>=3.7.2->en-core-web-sm==3.7.1) (0.3.4)\n",
      "Requirement already satisfied: typer<0.10.0,>=0.3.0 in /home/joelnyongesa/anaconda3/lib/python3.9/site-packages (from spacy<3.8.0,>=3.7.2->en-core-web-sm==3.7.1) (0.9.4)\n",
      "Requirement already satisfied: smart-open<7.0.0,>=5.2.1 in /home/joelnyongesa/anaconda3/lib/python3.9/site-packages (from spacy<3.8.0,>=3.7.2->en-core-web-sm==3.7.1) (6.4.0)\n",
      "Requirement already satisfied: tqdm<5.0.0,>=4.38.0 in /home/joelnyongesa/anaconda3/lib/python3.9/site-packages (from spacy<3.8.0,>=3.7.2->en-core-web-sm==3.7.1) (4.64.0)\n",
      "Requirement already satisfied: requests<3.0.0,>=2.13.0 in /home/joelnyongesa/anaconda3/lib/python3.9/site-packages (from spacy<3.8.0,>=3.7.2->en-core-web-sm==3.7.1) (2.27.1)\n",
      "Requirement already satisfied: pydantic!=1.8,!=1.8.1,<3.0.0,>=1.7.4 in /home/joelnyongesa/anaconda3/lib/python3.9/site-packages (from spacy<3.8.0,>=3.7.2->en-core-web-sm==3.7.1) (2.7.0)\n",
      "Requirement already satisfied: jinja2 in /home/joelnyongesa/anaconda3/lib/python3.9/site-packages (from spacy<3.8.0,>=3.7.2->en-core-web-sm==3.7.1) (3.1.2)\n",
      "Requirement already satisfied: setuptools in /home/joelnyongesa/anaconda3/lib/python3.9/site-packages (from spacy<3.8.0,>=3.7.2->en-core-web-sm==3.7.1) (68.2.0)\n",
      "Requirement already satisfied: packaging>=20.0 in /home/joelnyongesa/anaconda3/lib/python3.9/site-packages (from spacy<3.8.0,>=3.7.2->en-core-web-sm==3.7.1) (21.3)\n",
      "Requirement already satisfied: langcodes<4.0.0,>=3.2.0 in /home/joelnyongesa/anaconda3/lib/python3.9/site-packages (from spacy<3.8.0,>=3.7.2->en-core-web-sm==3.7.1) (3.3.0)\n",
      "Requirement already satisfied: numpy>=1.19.0 in /home/joelnyongesa/anaconda3/lib/python3.9/site-packages (from spacy<3.8.0,>=3.7.2->en-core-web-sm==3.7.1) (1.26.4)\n",
      "Requirement already satisfied: pyparsing!=3.0.5,>=2.0.2 in /home/joelnyongesa/anaconda3/lib/python3.9/site-packages (from packaging>=20.0->spacy<3.8.0,>=3.7.2->en-core-web-sm==3.7.1) (3.0.4)\n",
      "Requirement already satisfied: annotated-types>=0.4.0 in /home/joelnyongesa/anaconda3/lib/python3.9/site-packages (from pydantic!=1.8,!=1.8.1,<3.0.0,>=1.7.4->spacy<3.8.0,>=3.7.2->en-core-web-sm==3.7.1) (0.6.0)\n",
      "Requirement already satisfied: pydantic-core==2.18.1 in /home/joelnyongesa/anaconda3/lib/python3.9/site-packages (from pydantic!=1.8,!=1.8.1,<3.0.0,>=1.7.4->spacy<3.8.0,>=3.7.2->en-core-web-sm==3.7.1) (2.18.1)\n",
      "Requirement already satisfied: typing-extensions>=4.6.1 in /home/joelnyongesa/anaconda3/lib/python3.9/site-packages (from pydantic!=1.8,!=1.8.1,<3.0.0,>=1.7.4->spacy<3.8.0,>=3.7.2->en-core-web-sm==3.7.1) (4.8.0)\n",
      "Requirement already satisfied: urllib3<1.27,>=1.21.1 in /home/joelnyongesa/anaconda3/lib/python3.9/site-packages (from requests<3.0.0,>=2.13.0->spacy<3.8.0,>=3.7.2->en-core-web-sm==3.7.1) (1.26.9)\n",
      "Requirement already satisfied: certifi>=2017.4.17 in /home/joelnyongesa/anaconda3/lib/python3.9/site-packages (from requests<3.0.0,>=2.13.0->spacy<3.8.0,>=3.7.2->en-core-web-sm==3.7.1) (2021.10.8)\n",
      "Requirement already satisfied: charset-normalizer~=2.0.0 in /home/joelnyongesa/anaconda3/lib/python3.9/site-packages (from requests<3.0.0,>=2.13.0->spacy<3.8.0,>=3.7.2->en-core-web-sm==3.7.1) (2.0.4)\n",
      "Requirement already satisfied: idna<4,>=2.5 in /home/joelnyongesa/anaconda3/lib/python3.9/site-packages (from requests<3.0.0,>=2.13.0->spacy<3.8.0,>=3.7.2->en-core-web-sm==3.7.1) (3.3)\n",
      "Requirement already satisfied: blis<0.8.0,>=0.7.8 in /home/joelnyongesa/anaconda3/lib/python3.9/site-packages (from thinc<8.3.0,>=8.2.2->spacy<3.8.0,>=3.7.2->en-core-web-sm==3.7.1) (0.7.11)\n",
      "Requirement already satisfied: confection<1.0.0,>=0.0.1 in /home/joelnyongesa/anaconda3/lib/python3.9/site-packages (from thinc<8.3.0,>=8.2.2->spacy<3.8.0,>=3.7.2->en-core-web-sm==3.7.1) (0.1.4)\n",
      "Requirement already satisfied: click<9.0.0,>=7.1.1 in /home/joelnyongesa/anaconda3/lib/python3.9/site-packages (from typer<0.10.0,>=0.3.0->spacy<3.8.0,>=3.7.2->en-core-web-sm==3.7.1) (8.0.4)\n",
      "Requirement already satisfied: cloudpathlib<0.17.0,>=0.7.0 in /home/joelnyongesa/anaconda3/lib/python3.9/site-packages (from weasel<0.4.0,>=0.1.0->spacy<3.8.0,>=3.7.2->en-core-web-sm==3.7.1) (0.16.0)\n",
      "Requirement already satisfied: MarkupSafe>=2.0 in /home/joelnyongesa/anaconda3/lib/python3.9/site-packages (from jinja2->spacy<3.8.0,>=3.7.2->en-core-web-sm==3.7.1) (2.0.1)\n",
      "\u001b[38;5;2m✔ Download and installation successful\u001b[0m\n",
      "You can now load the package via spacy.load('en_core_web_sm')\n",
      "\u001b[38;5;3m⚠ Restart to reload dependencies\u001b[0m\n",
      "If you are in a Jupyter or Colab notebook, you may need to restart Python in\n",
      "order to load all the package's dependencies. You can do this by selecting the\n",
      "'Restart kernel' or 'Restart runtime' option.\n"
     ]
    }
   ],
   "source": [
    "from spacy.cli.download import download\n",
    "download(model=\"en_core_web_sm\")"
   ]
  },
  {
   "cell_type": "code",
   "execution_count": 14,
   "metadata": {},
   "outputs": [
    {
     "name": "stdout",
     "output_type": "stream",
     "text": [
      "[['get', 'admit', 'wasn', 'particularli', 'blow', 'movi', 'even', 'say', 'get', 'wrong', 'spectacl', 'action', 'great', 'design', 'sound', 'design', 'overal', 'soft', 'relea', 'worth', 'see', 'theater', 'special', 'follow', 'endgam', 'big', 'problem', 'underwrite', 'lead', 'muddl', 'person', 'reason', 'cover', 'stori', 'devoid', 'charm', 'person', 'good', 'dialogu', 'next', 'land', 'support', 'normal', 'loud', 'self', 'suppos', 'time', 'open', 'mouth', 'role', 'support', 'dramat', 'question', 'even', 'matter', 'charact', 'give', 'import', 'role', 'final', 'act', 'stake', 't', 'feel', 'tension', 'weight', 'action', 'lot', 'superfici', 'end', 'feel', 'safe', 'plot', 'write', 'way', 'appeal', 'portray', 'end', 'appeal', 'feel', 'marvel', 'movi', 'bind', 'happen', 'differ', 'also', 'doesn', 'feel', 'comic', 'book', 'gener']]\n"
     ]
    }
   ],
   "source": [
    "import spacy\n",
    "data_words_bigrams = make_bigrams(texts)\n",
    "nlp = spacy.load(\"en_core_web_sm\", disable=['parser', 'ner'])\n",
    "data_lemmatized = lemmatization(data_words_bigrams, allowed_postags=['NOUN', 'ADJ', 'VERB', 'ADV'])\n",
    "print(data_lemmatized[:1])"
   ]
  },
  {
   "cell_type": "markdown",
   "metadata": {},
   "source": [
    "## Preparing Corpus and Dictionary"
   ]
  },
  {
   "cell_type": "code",
   "execution_count": 15,
   "metadata": {},
   "outputs": [
    {
     "name": "stdout",
     "output_type": "stream",
     "text": [
      "[[(0, 1), (1, 2), (2, 1), (3, 1), (4, 2), (5, 1), (6, 1), (7, 1), (8, 1), (9, 1), (10, 1), (11, 1), (12, 1), (13, 2), (14, 1), (15, 1), (16, 1), (17, 1), (18, 1), (19, 2), (20, 1), (21, 2), (22, 4), (23, 1), (24, 1), (25, 1), (26, 2), (27, 1), (28, 1), (29, 1), (30, 1), (31, 1), (32, 1), (33, 1), (34, 1), (35, 1), (36, 1), (37, 1), (38, 1), (39, 2), (40, 1), (41, 1), (42, 1), (43, 1), (44, 1), (45, 1), (46, 2), (47, 1), (48, 1), (49, 1), (50, 1), (51, 1), (52, 1), (53, 2), (54, 1), (55, 1), (56, 1), (57, 1), (58, 1), (59, 1), (60, 1), (61, 1), (62, 1), (63, 1), (64, 1), (65, 2), (66, 1), (67, 1), (68, 1), (69, 1), (70, 1), (71, 1), (72, 1), (73, 1), (74, 1), (75, 1), (76, 1), (77, 1)]]\n"
     ]
    }
   ],
   "source": [
    "id2word = corpora.Dictionary(data_lemmatized)\n",
    "texts = data_lemmatized\n",
    "corpus = [id2word.doc2bow(text) for text in texts]\n",
    "print(corpus[:1])"
   ]
  },
  {
   "cell_type": "code",
   "execution_count": 16,
   "metadata": {},
   "outputs": [
    {
     "data": {
      "text/plain": [
       "'act'"
      ]
     },
     "execution_count": 16,
     "metadata": {},
     "output_type": "execute_result"
    }
   ],
   "source": [
    "id2word[0]"
   ]
  },
  {
   "cell_type": "code",
   "execution_count": 17,
   "metadata": {},
   "outputs": [
    {
     "data": {
      "text/plain": [
       "[[('act', 1),\n",
       "  ('action', 2),\n",
       "  ('admit', 1),\n",
       "  ('also', 1),\n",
       "  ('appeal', 2),\n",
       "  ('big', 1),\n",
       "  ('bind', 1),\n",
       "  ('blow', 1),\n",
       "  ('book', 1),\n",
       "  ('charact', 1),\n",
       "  ('charm', 1),\n",
       "  ('comic', 1),\n",
       "  ('cover', 1),\n",
       "  ('design', 2),\n",
       "  ('devoid', 1),\n",
       "  ('dialogu', 1),\n",
       "  ('differ', 1),\n",
       "  ('doesn', 1),\n",
       "  ('dramat', 1),\n",
       "  ('end', 2),\n",
       "  ('endgam', 1),\n",
       "  ('even', 2),\n",
       "  ('feel', 4),\n",
       "  ('final', 1),\n",
       "  ('follow', 1),\n",
       "  ('gener', 1),\n",
       "  ('get', 2),\n",
       "  ('give', 1),\n",
       "  ('good', 1),\n",
       "  ('great', 1),\n",
       "  ('happen', 1),\n",
       "  ('import', 1),\n",
       "  ('land', 1),\n",
       "  ('lead', 1),\n",
       "  ('lot', 1),\n",
       "  ('loud', 1),\n",
       "  ('marvel', 1),\n",
       "  ('matter', 1),\n",
       "  ('mouth', 1),\n",
       "  ('movi', 2),\n",
       "  ('muddl', 1),\n",
       "  ('next', 1),\n",
       "  ('normal', 1),\n",
       "  ('open', 1),\n",
       "  ('overal', 1),\n",
       "  ('particularli', 1),\n",
       "  ('person', 2),\n",
       "  ('plot', 1),\n",
       "  ('portray', 1),\n",
       "  ('problem', 1),\n",
       "  ('question', 1),\n",
       "  ('reason', 1),\n",
       "  ('relea', 1),\n",
       "  ('role', 2),\n",
       "  ('safe', 1),\n",
       "  ('say', 1),\n",
       "  ('see', 1),\n",
       "  ('self', 1),\n",
       "  ('soft', 1),\n",
       "  ('sound', 1),\n",
       "  ('special', 1),\n",
       "  ('spectacl', 1),\n",
       "  ('stake', 1),\n",
       "  ('stori', 1),\n",
       "  ('superfici', 1),\n",
       "  ('support', 2),\n",
       "  ('suppos', 1),\n",
       "  ('t', 1),\n",
       "  ('tension', 1),\n",
       "  ('theater', 1),\n",
       "  ('time', 1),\n",
       "  ('underwrite', 1),\n",
       "  ('wasn', 1),\n",
       "  ('way', 1),\n",
       "  ('weight', 1),\n",
       "  ('worth', 1),\n",
       "  ('write', 1),\n",
       "  ('wrong', 1)]]"
      ]
     },
     "execution_count": 17,
     "metadata": {},
     "output_type": "execute_result"
    }
   ],
   "source": [
    "[[(id2word[id], freq) for id, freq in cp] for cp in corpus[:1]]"
   ]
  },
  {
   "cell_type": "markdown",
   "metadata": {},
   "source": [
    "## LDA"
   ]
  },
  {
   "cell_type": "code",
   "execution_count": 18,
   "metadata": {},
   "outputs": [],
   "source": [
    "lda_model = models.ldamodel.LdaModel(corpus=corpus,\n",
    "                                           id2word=id2word,\n",
    "                                           num_topics = 10, \n",
    "                                           random_state=100,\n",
    "                                           update_every=1,\n",
    "                                           chunksize=100,\n",
    "                                           passes=10,\n",
    "                                           alpha='auto',\n",
    "                                           per_word_topics=True)"
   ]
  },
  {
   "cell_type": "code",
   "execution_count": 19,
   "metadata": {},
   "outputs": [
    {
     "name": "stdout",
     "output_type": "stream",
     "text": [
      "[(0,\n",
      "  '0.027*\"see\" + 0.027*\"movi\" + 0.024*\"phase\" + 0.020*\"seem\" + 0.017*\"now\" + '\n",
      "  '0.016*\"start\" + 0.015*\"love\" + 0.013*\"laugh\" + 0.012*\"asian\" + '\n",
      "  '0.012*\"anoth\"'),\n",
      " (1,\n",
      "  '0.027*\"cinema\" + 0.026*\"bad\" + 0.024*\"low\" + 0.018*\"come\" + 0.018*\"friend\" '\n",
      "  '+ 0.016*\"movi\" + 0.015*\"histori\" + 0.015*\"touch\" + 0.014*\"sure\" + '\n",
      "  '0.014*\"charact\"'),\n",
      " (2,\n",
      "  '0.035*\"good\" + 0.022*\"charact\" + 0.022*\"film\" + 0.020*\"make\" + 0.020*\"feel\" '\n",
      "  '+ 0.018*\"movi\" + 0.017*\"well\" + 0.016*\"stori\" + 0.015*\"marvel\" + '\n",
      "  '0.015*\"fight\"'),\n",
      " (3,\n",
      "  '0.023*\"regret\" + 0.009*\"music\" + 0.008*\"go\" + 0.007*\"obsess\" + 0.007*\"find\" '\n",
      "  '+ 0.007*\"background\" + 0.005*\"point\" + 0.005*\"watch\" + 0.004*\"invest\" + '\n",
      "  '0.004*\"crave\"'),\n",
      " (4,\n",
      "  '0.018*\"fight\" + 0.018*\"stori\" + 0.016*\"power\" + 0.016*\"great\" + '\n",
      "  '0.015*\"effect\" + 0.013*\"much\" + 0.012*\"special\" + 0.011*\"look\" + '\n",
      "  '0.010*\"just\" + 0.010*\"see\"'),\n",
      " (5,\n",
      "  '0.024*\"slow\" + 0.024*\"writer\" + 0.019*\"usual\" + 0.019*\"arm\" + '\n",
      "  '0.007*\"dramat\" + 0.006*\"lead\" + 0.006*\"immort\" + 0.006*\"corner\" + '\n",
      "  '0.006*\"appeal\" + 0.006*\"creat\"'),\n",
      " (6,\n",
      "  '0.044*\"movi\" + 0.031*\"marvel\" + 0.019*\"just\" + 0.018*\"good\" + 0.018*\"see\" + '\n",
      "  '0.018*\"great\" + 0.013*\"action\" + 0.012*\"get\" + 0.011*\"give\" + '\n",
      "  '0.011*\"stori\"'),\n",
      " (7,\n",
      "  '0.028*\"forc\" + 0.024*\"stori\" + 0.023*\"scene\" + 0.021*\"part\" + '\n",
      "  '0.021*\"develop\" + 0.019*\"away\" + 0.016*\"film\" + 0.016*\"solid\" + '\n",
      "  '0.016*\"perform\" + 0.015*\"hide\"'),\n",
      " (8,\n",
      "  '0.036*\"bear\" + 0.023*\"guess\" + 0.022*\"care\" + 0.020*\"superhero\" + '\n",
      "  '0.020*\"singl\" + 0.009*\"migrant\" + 0.006*\"direct\" + 0.006*\"live\" + '\n",
      "  '0.006*\"anim\" + 0.006*\"villain\"'),\n",
      " (9,\n",
      "  '0.032*\"decent\" + 0.019*\"sound\" + 0.016*\"predict\" + 0.016*\"claim\" + '\n",
      "  '0.016*\"play\" + 0.015*\"mytholog\" + 0.014*\"hole\" + 0.011*\"watch\" + '\n",
      "  '0.010*\"half\" + 0.009*\"second\"')]\n"
     ]
    }
   ],
   "source": [
    "from pprint import pprint\n",
    "pprint(lda_model.print_topics())\n",
    "doc_lda = lda_model[corpus]"
   ]
  },
  {
   "cell_type": "code",
   "execution_count": 20,
   "metadata": {},
   "outputs": [
    {
     "name": "stdout",
     "output_type": "stream",
     "text": [
      "\n",
      "Perplexity:  -7.105172119272514\n",
      "\n",
      "Coherence Score:  0.3611639284182605\n"
     ]
    }
   ],
   "source": [
    "from gensim.models import CoherenceModel\n",
    "print('\\nPerplexity: ', lda_model.log_perplexity(corpus))\n",
    "coherence_model_lda = CoherenceModel(model=lda_model, texts=data_lemmatized, dictionary=id2word, coherence='c_v')\n",
    "coherence_lda = coherence_model_lda.get_coherence()\n",
    "print('\\nCoherence Score: ', coherence_lda)"
   ]
  },
  {
   "cell_type": "markdown",
   "metadata": {},
   "source": [
    "## Visualization using pyLDAvis"
   ]
  },
  {
   "cell_type": "code",
   "execution_count": 21,
   "metadata": {},
   "outputs": [],
   "source": [
    "import pyLDAvis\n",
    "import pyLDAvis.gensim_models as gensimvis \n",
    "import matplotlib.pyplot as plt\n",
    "%matplotlib inline"
   ]
  },
  {
   "cell_type": "code",
   "execution_count": 22,
   "metadata": {},
   "outputs": [],
   "source": [
    "pyLDAvis.enable_notebook()"
   ]
  },
  {
   "cell_type": "code",
   "execution_count": 23,
   "metadata": {},
   "outputs": [],
   "source": [
    "try:\n",
    "    vis = gensimvis.prepare(lda_model, corpus, id2word, n_jobs=1)  # Using n_jobs=1 to disable parallel processing\n",
    "    pyLDAvis.display(vis)\n",
    "except Exception as e:\n",
    "    print(\"An error occurred:\", e)"
   ]
  },
  {
   "cell_type": "code",
   "execution_count": 24,
   "metadata": {},
   "outputs": [
    {
     "data": {
      "text/html": [
       "\n",
       "<link rel=\"stylesheet\" type=\"text/css\" href=\"https://cdn.jsdelivr.net/gh/bmabey/pyLDAvis@3.4.0/pyLDAvis/js/ldavis.v1.0.0.css\">\n",
       "\n",
       "\n",
       "<div id=\"ldavis_el2237851403713909368967395013239\" style=\"background-color:white;\"></div>\n",
       "<script type=\"text/javascript\">\n",
       "\n",
       "var ldavis_el2237851403713909368967395013239_data = {\"mdsDat\": {\"x\": [0.15995926766704288, 0.2502610712901549, 0.06330792145398872, -0.03916980215072984, -0.014065642231873614, -0.07063868002529737, -0.08637783373089612, -0.09970898358171079, -0.09330031622953286, -0.0702670024611457], \"y\": [0.07469955556518643, 0.038827253949487446, -0.23490715432841697, 0.019768253643251608, 0.0371712776109452, 0.005638170168286626, 0.02507793481291807, 0.012753332687131103, 0.008141602178611282, 0.012829773712599196], \"topics\": [1, 2, 3, 4, 5, 6, 7, 8, 9, 10], \"cluster\": [1, 1, 1, 1, 1, 1, 1, 1, 1, 1], \"Freq\": [37.09521058051293, 29.358011648310615, 11.128410621259155, 7.76364085818604, 4.345296157569277, 3.302917287581148, 2.5764417503017696, 2.1704512311582436, 1.4056425831474757, 0.8539772819733431]}, \"tinfo\": {\"Term\": [\"charact\", \"stori\", \"scene\", \"see\", \"bad\", \"movi\", \"come\", \"watch\", \"well\", \"film\", \"time\", \"superhero\", \"phase\", \"care\", \"feel\", \"love\", \"now\", \"usual\", \"good\", \"go\", \"part\", \"seem\", \"action\", \"forc\", \"start\", \"low\", \"effect\", \"find\", \"decent\", \"power\", \"want\", \"sequenc\", \"overal\", \"give\", \"help\", \"fact\", \"cgi\", \"ten_re\", \"eye\", \"widow\", \"mix\", \"send\", \"bu\", \"return\", \"type\", \"organi\", \"line\", \"absolut\", \"magic\", \"throw\", \"surpris\", \"fresh\", \"blow\", \"origin\", \"howev\", \"amaz\", \"sen\", \"cast\", \"fan\", \"stare\", \"say\", \"marvel\", \"movi\", \"see\", \"just\", \"enjoy\", \"man\", \"get\", \"great\", \"love\", \"action\", \"watch\", \"visual\", \"good\", \"way\", \"screen\", \"stori\", \"start\", \"fight\", \"act\", \"scene\", \"much\", \"well\", \"t\", \"film\", \"keep\", \"main\", \"wasn\", \"final\", \"soundtrack\", \"gener\", \"addit\", \"ground\", \"remind\", \"combat\", \"cre\", \"mysteri\", \"stylish\", \"quit\", \"interest\", \"level\", \"fantasi\", \"emot\", \"introduct\", \"somewhat\", \"dimension\", \"less\", \"bit\", \"young\", \"pretti\", \"averag\", \"theatric\", \"continu\", \"heavi\", \"antagonist\", \"score\", \"realm\", \"set\", \"almost\", \"charact\", \"take\", \"feel\", \"actor\", \"time\", \"think\", \"make\", \"good\", \"well\", \"lot\", \"film\", \"come\", \"scene\", \"nice\", \"chine\", \"much\", \"plot\", \"fight\", \"stori\", \"action\", \"univer\", \"great\", \"marvel\", \"t\", \"movi\", \"watch\", \"just\", \"way\", \"treat\", \"entir\", \"father\", \"reason\", \"soon\", \"relief\", \"land\", \"humour\", \"other\", \"drag\", \"child\", \"monster\", \"dialogu\", \"matter\", \"fortun\", \"scaffold\", \"consum\", \"number\", \"sidekick\", \"crack\", \"instal\", \"cultur\", \"long\", \"aquafina\", \"beast\", \"belief\", \"blood\", \"captiv\", \"chase\", \"clich\\u00e9d\", \"power\", \"lead\", \"high\", \"minut\", \"special\", \"hero\", \"effect\", \"look\", \"dragon\", \"point\", \"fight\", \"disappoint\", \"stori\", \"offer\", \"wife\", \"hold\", \"guy\", \"much\", \"great\", \"just\", \"get\", \"see\", \"make\", \"movi\", \"even\", \"film\", \"phase\", \"problem\", \"perfect\", \"iron_man\", \"impecc\", \"car\", \"accept\", \"mistaken\", \"astonish\", \"chill\", \"seem\", \"attach\", \"excit\", \"heavili\", \"complet\", \"stop\", \"moment\", \"blend\", \"kind\", \"black\", \"everybodi\", \"tv\", \"goal\", \"master\", \"purpos\", \"n\", \"mythic\", \"alot\", \"futur\", \"hate\", \"anoth\", \"now\", \"asian\", \"bloat\", \"everyon\", \"begin\", \"door\", \"laugh\", \"hit\", \"old\", \"see\", \"start\", \"love\", \"movi\", \"villain\", \"everi\", \"look\", \"year\", \"film\", \"fight\", \"forc\", \"develop\", \"solid\", \"miss\", \"next\", \"rather\", \"hide\", \"area\", \"break\", \"cape\", \"anyth\", \"complic\", \"crimin\", \"leader\", \"preview\", \"seldom\", \"drama\", \"glad\", \"away\", \"least\", \"part\", \"henchman\", \"lack\", \"regard\", \"top\", \"perform\", \"later\", \"sever\", \"mudan\", \"sorrow\", \"element\", \"soul\", \"script\", \"expect\", \"now\", \"scene\", \"stori\", \"hero\", \"film\", \"action\", \"charact\", \"movi\", \"well\", \"cinema\", \"histori\", \"touch\", \"pop\", \"color\", \"clear\", \"disgrac\", \"jar\", \"shut\", \"low\", \"sure\", \"promo\", \"boss\", \"wake\", \"son\", \"friend\", \"simu_liu\", \"anyon\", \"darker\", \"equal\", \"offend\", \"though\", \"hasn\", \"goofbal\", \"goon\", \"dad\", \"goodwil\", \"product\", \"killer\", \"spend\", \"train\", \"bad\", \"come\", \"run\", \"day\", \"hate\", \"mean\", \"charact\", \"support\", \"time\", \"peopl\", \"life\", \"movi\", \"just\", \"see\", \"look\", \"villain\", \"decent\", \"sound\", \"claim\", \"mytholog\", \"design\", \"hole\", \"play\", \"predict\", \"colour\", \"mode\", \"sentiment\", \"seriou\", \"clich\", \"hook\", \"ok\", \"twitter\", \"servic\", \"everytim\", \"presenc\", \"vision\", \"snake\", \"relentless\", \"banquet\", \"energet\", \"nevertheless\", \"fiction\", \"aboutth\", \"attent\", \"journey\", \"result\", \"half\", \"theme\", \"second\", \"lose\", \"rate\", \"endgam\", \"watch\", \"worth\", \"role\", \"moment\", \"visual\", \"world\", \"understand\", \"good\", \"feel\", \"make\", \"find\", \"high\", \"movi\", \"grand\", \"slow\", \"arm\", \"writer\", \"immort\", \"corner\", \"appeal\", \"dramat\", \"creat\", \"armi\", \"odd\", \"hor\", \"vast\", \"barrag\", \"toss\", \"cheap\", \"arrow\", \"plain\", \"destruct\", \"digit\", \"contradict\", \"unnee\", \"character\", \"mortal\", \"kombat\", \"trap\", \"incoher\", \"awkwafin\", \"destroy\", \"otherwis\", \"unfinish\", \"usual\", \"suppos\", \"engag\", \"pace\", \"lead\", \"disney\", \"role\", \"everi\", \"style\", \"open\", \"ridicul\", \"lot\", \"see\", \"old\", \"year\", \"bear\", \"guess\", \"singl\", \"migrant\", \"anim\", \"sensit\", \"milleni\", \"elev\", \"sceptic\", \"school\", \"night\", \"superb\", \"deliv\", \"fatigu\", \"mulan\", \"shakespearean\", \"slowli\", \"care\", \"depict\", \"blockbust\", \"experi\", \"huge\", \"today\", \"karaok\", \"rush\", \"treatment\", \"superhero\", \"insan\", \"date\", \"live\", \"direct\", \"villain\", \"fresh\", \"old\", \"second\", \"cultur\", \"write\", \"develop\", \"wish\", \"solid\", \"glad\", \"regret\", \"obsess\", \"crave\", \"simpli\", \"dear\", \"seri\", \"inform\", \"critic\", \"repre\", \"sceneri\", \"minor\", \"singular\", \"pick\", \"screenplay\", \"liter\", \"mani\", \"detail\", \"thor\", \"realli\", \"background\", \"move\", \"likeabl\", \"music\", \"hour\", \"invest\", \"spoiler\", \"slow\", \"strong\", \"everyth\", \"whole\", \"find\", \"go\", \"point\", \"direct\", \"watch\", \"write\"], \"Freq\": [41.0, 57.0, 42.0, 52.0, 20.0, 126.0, 22.0, 35.0, 39.0, 53.0, 30.0, 8.0, 10.0, 7.0, 36.0, 26.0, 12.0, 7.0, 87.0, 21.0, 8.0, 9.0, 48.0, 6.0, 26.0, 6.0, 15.0, 10.0, 4.0, 11.0, 18.88015383164375, 15.065118741013901, 13.452330054595244, 20.364951828604084, 9.760747560799189, 9.230388668181185, 7.586686933070325, 8.049496788363054, 12.303185288031788, 7.519216885566139, 7.122603473081641, 7.037774350701887, 7.035735054353113, 7.029145774438999, 7.086595580929166, 6.470852513801492, 6.037263371517943, 6.036921506969679, 5.490885682924146, 5.490830474984675, 5.490541270317137, 7.978411045499963, 5.487453872471326, 17.341087279536158, 4.942656404975778, 11.617824584554498, 4.937497435370425, 11.698885128050659, 6.039645806444352, 4.395032715655762, 10.20260048226866, 55.6960320146915, 79.89993331459851, 32.403404854636584, 35.40158327285086, 12.891120965400743, 11.498866763346575, 21.081433672237733, 31.967815910914805, 16.78759116416224, 24.179181732670564, 19.189700501494077, 15.341486288594968, 33.026350859159415, 17.3200963715963, 10.287384588943922, 19.76863303796466, 13.214886652400104, 18.091808237876922, 10.311073041741633, 13.750804559846399, 12.01086774206104, 11.822524582525737, 11.044331304151203, 11.737134037869208, 12.15526242282153, 10.749650117115111, 9.78533623006927, 9.829029076253718, 7.971663662091237, 6.557189774980979, 6.083448409731999, 6.083449081929633, 6.083076684440615, 6.079658559473724, 5.6093548129230095, 5.608723283246236, 5.608723283246236, 5.679199508042936, 5.670460266608413, 7.31112327984633, 4.703571526527039, 4.272056944423612, 3.798677221501513, 3.798513877476547, 3.7983895209143292, 3.7978937751595443, 15.585283943432284, 3.3250629016052855, 3.32500038722536, 3.325024250241353, 3.32491837911406, 3.324748649211574, 3.3239534394110173, 3.3242004720413676, 4.9347211350919, 4.134424142843779, 4.959289622501416, 10.87354958494154, 32.326247701629065, 13.867544732932096, 28.534574443370918, 11.604370918570584, 21.859056374550846, 17.60597859421331, 28.634403858333147, 50.90089669575162, 24.60807447255443, 13.224004228841109, 31.30662875427821, 14.414052164216658, 21.838284123277123, 10.449693350477796, 12.069051731916176, 19.069301755555415, 14.497131758544672, 21.867780155439796, 22.400065229192503, 19.954219019107775, 9.767323350081504, 21.244881496281607, 22.32436636488149, 12.665296410506581, 25.672924254275426, 13.219856769441753, 14.824518894016585, 11.582679100934088, 5.393674648712062, 5.388273857432833, 5.375265176645432, 5.092482435978171, 5.03082484608714, 3.277602532156859, 3.2776550214474574, 3.276754549831077, 2.913813527953563, 2.9127461607772704, 2.9088408046753296, 2.5512901271794006, 2.551170624862456, 2.5511652740124435, 2.5511619615814833, 2.551165528814825, 2.550804219037794, 2.5511403033790523, 2.5509234665523572, 2.5507761907758244, 2.5454113266323932, 3.2706084615858293, 3.630997128007407, 2.187636932645468, 2.187636932645468, 2.187636932645468, 2.187636932645468, 2.187636932645468, 2.187636932645468, 2.187636932645468, 8.839306611378795, 4.636534467998613, 2.8848447903933256, 3.474612421136522, 6.686986308024996, 4.16035187849342, 8.283680461343582, 6.288844337137035, 3.5906703194874185, 4.262679240909999, 10.111620516033367, 3.1242624589430554, 9.775311948679702, 2.893225750327105, 2.8761254528968547, 2.8752183564185545, 2.7650784981814227, 7.148089437787973, 8.52485754033788, 5.743652854230853, 5.032166635428356, 5.433032443775034, 4.6560018795534175, 5.262477412059285, 3.972426968427745, 3.4205010585773286, 9.219773991337842, 3.5265730512191, 3.527412081773235, 3.0880000483659007, 3.0878126885769053, 3.0842546301930995, 3.082531773385753, 3.0837320137038713, 2.6478305765706067, 2.6478305765706067, 7.795351108540224, 3.0010206660943926, 2.6156505551267433, 2.6156505551267433, 3.5271600170855733, 2.2849379519396624, 3.967160793966487, 2.2853853756482976, 1.3815396223261496, 3.8330801562015218, 0.9660206726745566, 0.9659591674686815, 0.9659835206860367, 0.9657650527726824, 0.9658545552904806, 0.9657952720934881, 0.965506766460149, 0.9653268726209998, 1.4045394585110165, 1.8453008734726808, 4.485285625558573, 6.6692697147219056, 4.531973765160545, 2.7351777457523916, 2.7351777457523916, 3.3999018353942723, 1.3610498562556177, 5.054549369425181, 2.7728455958545712, 3.3647660088541897, 10.365637308076996, 6.031235329215623, 5.801373309832002, 10.33616387121306, 2.868981432330208, 3.134990736697351, 3.185333636509707, 3.219157944526822, 3.4313061090969827, 3.175629323795442, 5.927634481273596, 4.395508287345966, 3.4991267176084073, 2.546084648165729, 2.546191701942547, 2.542316872581998, 3.1617654445299097, 1.9113663871370459, 1.9113663871370459, 1.9113663871370459, 1.8959788991048319, 1.8959788991048319, 1.8959788991048319, 1.8959788991048319, 1.8959788991048319, 1.8959788991048319, 2.229181590618798, 2.5302068617950777, 3.9683279005936414, 1.0142306653285953, 4.54666424051859, 0.6968965073960206, 0.6955746519324489, 0.6939469569614996, 2.429969107414168, 3.364135486765862, 0.5392028119106796, 0.6933893022969415, 0.37983436156922684, 0.37983436156922684, 2.875601545798657, 0.8353019179832544, 2.1119089537479128, 2.161643989422602, 2.4899305645609844, 4.969272754452756, 5.033980196043596, 1.4578114718062414, 3.522579454120147, 2.527095536787038, 2.312025096113945, 2.4571382814530986, 2.2796359560392063, 4.3201867785853185, 2.502776253779934, 2.5007405676026138, 2.1886527398898594, 2.1884679112615304, 1.8785576430921949, 1.8785576430921949, 1.8785576430921949, 1.8785576430921949, 3.976129043204825, 2.345715328714975, 0.6849376888614783, 0.6846311032398551, 0.6846285319741582, 0.6843742791720128, 2.907601165127791, 0.663376567236595, 0.6848778691212948, 0.3733046726752269, 0.3733046726752269, 0.3733046726752269, 0.3733046726752269, 0.37329650512536616, 0.3732960135598653, 0.3732960135598653, 0.37329484136520935, 0.3732943876124393, 0.3732941229233235, 0.37329355573236095, 0.37329336666870677, 0.9934513060046325, 4.173824285081425, 2.971647158611459, 0.8008983686454273, 0.9523106011016277, 0.683681096190316, 0.7440808080394095, 2.331883885527712, 0.685279591573703, 1.8354447773996756, 0.5817546492691067, 0.6853516626386775, 2.5656579176556806, 1.5892475994317228, 1.1720741089490911, 0.8765096883573201, 0.685042354500434, 4.102357450065812, 2.3773835303821143, 2.076266701185381, 1.8792463316546366, 0.6497427744072086, 1.718050775624955, 2.0717285902244664, 2.080819206113049, 0.35460041477595206, 0.35460041477595206, 0.35460041477595206, 0.35460041477595206, 0.35456696650074876, 0.3545666420465801, 0.35456534422990554, 0.35456469532156826, 0.35456442985906667, 0.35456437086739967, 0.3545642823798991, 0.3545562890090172, 0.354555876067348, 0.3545556401006799, 0.3545550206881761, 0.3545544012756724, 0.35453437360471735, 0.35453369520054656, 0.35453334125054436, 0.35453272183804063, 0.35453160099636716, 0.3545314535171996, 1.2438790596097966, 0.6432860774596341, 1.0912985286491401, 0.6180886717648277, 0.6084648891896716, 0.5620875283078086, 1.4030003506435385, 0.8583882778086054, 0.6179171829887855, 0.6510215367733138, 0.9338848104091096, 0.5067065052545583, 0.4807230945883083, 0.7351638291013635, 0.6395080151366725, 0.46968660906706633, 0.39390334746898614, 0.37849395715033407, 0.3580792713637618, 0.35460041477595206, 2.559929722805509, 1.9913233952434832, 2.5267624946754546, 0.6234134769205233, 0.6234045316623836, 0.6219965480312087, 0.6944297818991481, 0.6192458811532779, 0.6083605456108194, 0.3395706957584291, 0.33957039758315777, 0.3395695279052831, 0.3395692048820725, 0.3395689067068012, 0.3395681612686229, 0.3395677637015944, 0.33956624797729856, 0.3395656516267559, 0.33956550253912027, 0.33952924939571555, 0.33952905061220134, 0.33952919969983697, 0.3395287772848693, 0.3395285536534158, 0.33952830517402305, 0.33952741064820907, 0.33952639188269873, 0.33952604401154884, 0.3395124521887645, 0.3395124521887645, 2.04237915181762, 0.6005047702167333, 0.5439879832442417, 0.5692323962400415, 0.6475654254180837, 0.5002814022782176, 0.476603403374421, 0.4840884972103772, 0.45315470125426976, 0.3968688758773551, 0.3500852503510007, 0.3832507888211843, 0.392364913556121, 0.354523589264605, 0.34900302320374327, 2.5169872203414365, 1.5729372629101672, 1.3761700292482828, 0.6269082231332833, 0.43074866288855146, 0.23463412860169236, 0.23463338836078382, 0.23463256765890694, 0.23463057222689254, 0.23463057222689254, 0.23463047567373058, 0.23463047567373058, 0.2346170065076335, 0.2346170065076335, 0.2346170065076335, 0.2346170065076335, 0.2346170065076335, 1.515645835026401, 0.2346329377793612, 0.2346337102046571, 0.23463338836078382, 0.23459158084164386, 0.23459034174273172, 0.23392383526554228, 0.23462944577333605, 0.21811364120298085, 1.383116321196655, 0.2346302825674066, 0.23341076785494227, 0.43077190001620275, 0.44743826315048146, 0.42851303879154, 0.28710465710749716, 0.25327949362061736, 0.2418160263575042, 0.23820600018400923, 0.2388393245578628, 0.2346394390256016, 0.23463586655860813, 0.23463428952362902, 0.2346306044112799, 0.9842093589929893, 0.3079898452872221, 0.1677928059088926, 0.16779276680259922, 0.16776122757699866, 0.16773054868985218, 0.16772917996958434, 0.1677291017569976, 0.16772880845979735, 0.16772869114091726, 0.16772730286750273, 0.1677242134703267, 0.1677191100990423, 0.16779259082427905, 0.16776228344691957, 0.13307246909782075, 0.16773127215627948, 0.1437534732394389, 0.16769279156360628, 0.27527148672906476, 0.16519301952584886, 0.11818323672697068, 0.3674541124084891, 0.1676891742314698, 0.1849235914623972, 0.08862017922570979, 0.16776316333852034, 0.1067904589397782, 0.16754723793969398, 0.1264046016643994, 0.2811098999035969, 0.34177027211378946, 0.19643175236816926, 0.16714342635438548, 0.194166207474534, 0.16698084193971183], \"Total\": [41.0, 57.0, 42.0, 52.0, 20.0, 126.0, 22.0, 35.0, 39.0, 53.0, 30.0, 8.0, 10.0, 7.0, 36.0, 26.0, 12.0, 7.0, 87.0, 21.0, 8.0, 9.0, 48.0, 6.0, 26.0, 6.0, 15.0, 10.0, 4.0, 11.0, 19.44753057500499, 15.62010880986172, 14.0507705638324, 21.504323587329903, 10.327306227470935, 9.78541144430618, 8.141460228855616, 8.660773353639922, 13.245224278236764, 8.109955801778925, 7.684157628109867, 7.59303571970361, 7.591261808405553, 7.592027430192319, 7.666379460743057, 7.038320737431621, 6.59312197030127, 6.5928737945105205, 6.0457088756982955, 6.045658213716904, 6.045544583291107, 8.785983222672622, 6.044500131779704, 19.244442541307308, 5.4975534435704905, 12.933086817524764, 5.496841414374775, 13.107026857215525, 6.790648274660124, 4.94976137225788, 11.630200650113173, 81.2192030493601, 126.67494825497269, 52.13523260488514, 59.218174737186786, 17.693603860621288, 15.609831216827168, 35.05039875723546, 62.16813116443299, 26.116830289097013, 48.37087647879904, 35.33144904379759, 25.73271234260927, 87.22141762291459, 31.846002543124925, 14.07064950008459, 57.52025421562341, 26.742089281468616, 54.355289738413326, 15.99910527318726, 42.13480700681006, 39.88309058120139, 39.4628260825649, 25.584522479580595, 53.67406342988196, 12.726368895876268, 11.378780277159043, 10.359418697458416, 10.438567255281503, 8.544543116635108, 7.126627894536474, 6.6528188638645425, 6.65292857061491, 6.653146652080583, 6.649707545974829, 6.178779194748673, 6.17885782471454, 6.17885782471454, 6.2643389021570055, 6.260461370877691, 8.104068802235137, 5.3214461694878255, 4.841549984482782, 4.3680389435618565, 4.367977047645788, 4.368022392958797, 4.36773696358099, 18.1167000967954, 3.894412455247267, 3.8943629197132816, 3.8944123434947304, 3.894371781964352, 3.894198687668401, 3.893712685027278, 3.894447015019982, 5.787021397846642, 4.847076763932783, 5.829014793508123, 13.090634271567703, 41.072564479964, 17.035469296730987, 36.896931392829764, 14.464562739954303, 30.522693833280915, 24.63949570188723, 44.6683004092067, 87.22141762291459, 39.4628260825649, 18.776011464085517, 53.67406342988196, 22.084405992079304, 42.13480700681006, 15.18698590587605, 18.884021802089762, 39.88309058120139, 27.39645974963987, 54.355289738413326, 57.52025421562341, 48.37087647879904, 14.826395043972624, 62.16813116443299, 81.2192030493601, 25.584522479580595, 126.67494825497269, 35.33144904379759, 59.218174737186786, 31.846002543124925, 5.984915264849743, 5.9883259271700835, 5.9952049565231444, 5.686611017948877, 5.622356431171293, 3.868823844604891, 3.8689922158809984, 3.868124281652029, 3.5052714198310797, 3.5042033237118684, 3.507125799286795, 3.142285569069942, 3.1422097086587533, 3.142207683127778, 3.14229640184084, 3.142301738895504, 3.1418860682981387, 3.1423057981326257, 3.1424139674682303, 3.1424861529985386, 3.1437677033905773, 4.062047473425136, 4.548358607902533, 2.7786591176425, 2.7786591176425, 2.7786591176425, 2.7786591176425, 2.7786591176425, 2.7786591176425, 2.7786591176425, 11.448102938370337, 6.131495423245954, 3.7963808564503547, 4.707322512916499, 10.80802545057873, 6.14731484995688, 15.746780087360376, 15.23994911536417, 6.0134868847913, 8.736764423881173, 54.355289738413326, 4.780416306985789, 57.52025421562341, 4.116698061030574, 4.07275233663404, 4.073172849426401, 3.804222038879658, 39.88309058120139, 62.16813116443299, 59.218174737186786, 35.05039875723546, 52.13523260488514, 44.6683004092067, 126.67494825497269, 22.430440248988063, 53.67406342988196, 10.7016372359645, 4.102964420865568, 4.104081066545168, 3.6640504096561965, 3.664203077362671, 3.661056448624522, 3.659416301847265, 3.660844890389313, 3.223943377413531, 3.223943377413531, 9.534065249503172, 3.670594611056298, 3.2262816021456118, 3.2262816021456118, 4.415312635837249, 2.8613486584331533, 5.136665666873025, 3.157904137906558, 1.9773560593887465, 5.496840842305958, 1.5419978498902212, 1.5419382306986802, 1.5419799409619304, 1.54181689282478, 1.5419605081161247, 1.541958391194136, 1.5415986108121247, 1.5418696602234714, 2.2654875498640283, 3.0462294441542936, 7.881543634264055, 12.33536682522344, 8.471156805889157, 5.356132637839128, 5.356132637839128, 7.136497200549941, 2.337296987075275, 12.046650406116928, 5.973645616524209, 8.209880225361639, 52.13523260488514, 26.742089281468616, 26.116830289097013, 126.67494825497269, 7.025549912373304, 13.461901771132643, 15.23994911536417, 16.93181393834587, 53.67406342988196, 54.355289738413326, 6.527728796131767, 5.191822505087609, 4.295336550832707, 3.146273126342947, 3.1464070005651235, 3.143674038306022, 4.093429130198766, 2.5115640880843273, 2.5115640880843273, 2.5115640880843273, 2.52253918728029, 2.52253918728029, 2.52253918728029, 2.52253918728029, 2.52253918728029, 2.52253918728029, 3.0252871571742803, 3.6547041932307556, 5.955007163265822, 1.6144528649012009, 8.167181014118574, 1.2970599785221189, 1.2974443142521157, 1.2976754283764274, 4.6218800399887074, 6.923873424735798, 1.3199547749949665, 1.7384621552847974, 0.9798322584054883, 0.9798322584054883, 7.646978604154294, 2.2862711672511216, 7.748592888953942, 8.738051030877658, 12.33536682522344, 42.13480700681006, 57.52025421562341, 6.14731484995688, 53.67406342988196, 48.37087647879904, 41.072564479964, 126.67494825497269, 39.4628260825649, 5.217945341217374, 3.103938848891031, 3.102898541385529, 2.79024866050405, 2.7906639061492413, 2.4797142703560575, 2.4797142703560575, 2.4797142703560575, 2.4797142703560575, 6.277173538253105, 3.8901952115100955, 1.2862077153182339, 1.2859349665531332, 1.2859384812922081, 1.2860071901297658, 6.072623941170006, 1.6525842970746933, 1.7259354832531113, 0.9743780281577554, 0.9743780281577554, 0.9743780281577554, 0.9743780281577554, 0.9743749957660155, 0.9743746789295596, 0.9743748107956341, 0.9743741642465292, 0.9743743305441483, 0.974373806236008, 0.9743739528080696, 0.9743738741613227, 3.1147177990129737, 20.193990238180046, 22.084405992079304, 3.5791891293388916, 4.962118460985384, 3.0462294441542936, 3.975030952055777, 41.072564479964, 3.3670667301418247, 30.522693833280915, 2.585842433350903, 4.325811432783729, 126.67494825497269, 59.218174737186786, 52.13523260488514, 15.23994911536417, 7.025549912373304, 4.70691899608236, 2.9815879458462504, 2.681624268759657, 2.805680148675604, 1.255060665564031, 3.5400668167968865, 5.173996426916341, 5.5273227854951426, 0.9587484891555842, 0.9587484891555842, 0.9587484891555842, 0.9587484891555842, 0.9587256942269574, 0.9587255452844353, 0.958722372068494, 0.9587221858107245, 0.958722085293208, 0.9587242438033337, 0.9587243835602334, 0.9587152247211703, 0.9587150334996841, 0.9587149099636095, 0.9587145520744427, 0.9587142308474258, 0.9587003058655421, 0.9587005795778003, 0.9587007303029933, 0.9587008146215965, 0.958700773027697, 0.9587010498555322, 3.609079691977132, 1.8091744549924649, 6.4477480971004555, 2.716314148442205, 2.6865038700665864, 2.4259563949643685, 35.33144904379759, 9.739968858891864, 4.289912762291012, 5.136665666873025, 25.73271234260927, 3.540000383425053, 4.402504898860768, 87.22141762291459, 36.896931392829764, 44.6683004092067, 10.082294970076504, 3.7963808564503547, 126.67494825497269, 1.2425048054990455, 3.3069977323933757, 2.598588494104522, 3.5397505291095626, 1.2300568069495805, 1.2300464452207869, 1.2300014346245702, 1.6304991160037117, 1.54553878879485, 1.5484475872329138, 0.9461965308822652, 0.9461968853047105, 0.9461967976183561, 0.9461968665621316, 0.9461970422705273, 0.9461969569025654, 0.9461971331432176, 0.9461970648006011, 0.9461972481432284, 0.9461973353149246, 0.9461652519684376, 0.9461647640514123, 0.9461655183546623, 0.9461656198820522, 0.946165182137151, 0.946165092245035, 0.9461654586266706, 0.9461655971463692, 0.9461653063132119, 0.9461424026386466, 0.9461424026386466, 7.484854003507787, 2.110795950947014, 1.8513160281655663, 4.019632448267609, 6.131495423245954, 5.018049137776642, 4.289912762291012, 13.461901771132643, 8.41144603315761, 8.639841045474846, 1.669770591884211, 18.776011464085517, 52.13523260488514, 8.209880225361639, 16.93181393834587, 3.1418759762065323, 2.1969382434237152, 2.0005601207333457, 1.2507835888230316, 1.0546108454035006, 0.8584930432066459, 0.8584931939320707, 0.858493345463016, 0.8584860984348449, 0.8584861143599937, 0.8584861372454481, 0.8584861452080225, 0.8584766522918184, 0.8584766522918184, 0.8584766522918184, 0.8584766522918184, 0.8584766522918184, 7.027754013284827, 1.2216323945833667, 1.2981159574728198, 1.2981250030253628, 1.4059573641275172, 1.4060166031845964, 1.4068248495596185, 1.4385337848276745, 1.3549810137758638, 8.695281309519057, 1.7380381172539474, 1.813472339333993, 3.487052157532413, 6.543817706834432, 7.025549912373304, 8.785983222672622, 8.209880225361639, 6.4477480971004555, 4.062047473425136, 10.033805423634437, 5.191822505087609, 2.868769512234895, 4.295336550832707, 3.6547041932307556, 1.6192806892092488, 0.9429025644882898, 0.8026216744660479, 0.802621691267618, 0.8026041261345469, 0.8026146598523971, 0.8026177901613064, 0.8026181821457099, 0.8026185241841434, 0.8026181518290552, 0.8026209000396496, 0.8026276459980484, 0.8026362415132186, 1.1657227779625787, 1.3501603183061275, 1.2201742161022828, 1.5542061151710649, 1.332667337617552, 1.681968790348876, 3.004594628679563, 2.0141652682667948, 1.494197457220408, 4.871393233793247, 2.2597499528250347, 3.210553530295589, 1.5800981816406496, 3.3069977323933757, 2.1687741775339564, 4.213403245195184, 3.6994894449297346, 10.082294970076504, 21.428557568084482, 8.736764423881173, 6.543817706834432, 35.33144904379759, 10.033805423634437], \"Category\": [\"Default\", \"Default\", \"Default\", \"Default\", \"Default\", \"Default\", \"Default\", \"Default\", \"Default\", \"Default\", \"Default\", \"Default\", \"Default\", \"Default\", \"Default\", \"Default\", \"Default\", \"Default\", \"Default\", \"Default\", \"Default\", \"Default\", \"Default\", \"Default\", \"Default\", \"Default\", \"Default\", \"Default\", \"Default\", \"Default\", \"Topic1\", \"Topic1\", \"Topic1\", \"Topic1\", \"Topic1\", \"Topic1\", \"Topic1\", \"Topic1\", \"Topic1\", \"Topic1\", \"Topic1\", \"Topic1\", \"Topic1\", \"Topic1\", \"Topic1\", \"Topic1\", \"Topic1\", \"Topic1\", \"Topic1\", \"Topic1\", \"Topic1\", \"Topic1\", \"Topic1\", \"Topic1\", \"Topic1\", \"Topic1\", \"Topic1\", \"Topic1\", \"Topic1\", \"Topic1\", \"Topic1\", \"Topic1\", \"Topic1\", \"Topic1\", \"Topic1\", \"Topic1\", \"Topic1\", \"Topic1\", \"Topic1\", \"Topic1\", \"Topic1\", \"Topic1\", \"Topic1\", \"Topic1\", \"Topic1\", \"Topic1\", \"Topic1\", \"Topic1\", \"Topic1\", \"Topic1\", \"Topic1\", \"Topic1\", \"Topic1\", \"Topic1\", \"Topic1\", \"Topic2\", \"Topic2\", \"Topic2\", \"Topic2\", \"Topic2\", \"Topic2\", \"Topic2\", \"Topic2\", \"Topic2\", \"Topic2\", \"Topic2\", \"Topic2\", \"Topic2\", \"Topic2\", \"Topic2\", \"Topic2\", \"Topic2\", \"Topic2\", \"Topic2\", \"Topic2\", \"Topic2\", \"Topic2\", \"Topic2\", \"Topic2\", \"Topic2\", \"Topic2\", \"Topic2\", \"Topic2\", \"Topic2\", \"Topic2\", \"Topic2\", \"Topic2\", \"Topic2\", \"Topic2\", \"Topic2\", \"Topic2\", \"Topic2\", \"Topic2\", \"Topic2\", \"Topic2\", \"Topic2\", \"Topic2\", \"Topic2\", \"Topic2\", \"Topic2\", \"Topic2\", \"Topic2\", \"Topic2\", \"Topic2\", \"Topic2\", \"Topic2\", \"Topic2\", \"Topic2\", \"Topic2\", \"Topic2\", \"Topic2\", \"Topic2\", \"Topic2\", \"Topic2\", \"Topic2\", \"Topic2\", \"Topic2\", \"Topic3\", \"Topic3\", \"Topic3\", \"Topic3\", \"Topic3\", \"Topic3\", \"Topic3\", \"Topic3\", \"Topic3\", \"Topic3\", \"Topic3\", \"Topic3\", \"Topic3\", \"Topic3\", \"Topic3\", \"Topic3\", \"Topic3\", \"Topic3\", \"Topic3\", \"Topic3\", \"Topic3\", \"Topic3\", \"Topic3\", \"Topic3\", \"Topic3\", \"Topic3\", \"Topic3\", \"Topic3\", \"Topic3\", \"Topic3\", \"Topic3\", \"Topic3\", \"Topic3\", \"Topic3\", \"Topic3\", \"Topic3\", \"Topic3\", \"Topic3\", \"Topic3\", \"Topic3\", \"Topic3\", \"Topic3\", \"Topic3\", \"Topic3\", \"Topic3\", \"Topic3\", \"Topic3\", \"Topic3\", \"Topic3\", \"Topic3\", \"Topic3\", \"Topic3\", \"Topic3\", \"Topic3\", \"Topic3\", \"Topic3\", \"Topic4\", \"Topic4\", \"Topic4\", \"Topic4\", \"Topic4\", \"Topic4\", \"Topic4\", \"Topic4\", \"Topic4\", \"Topic4\", \"Topic4\", \"Topic4\", \"Topic4\", \"Topic4\", \"Topic4\", \"Topic4\", \"Topic4\", \"Topic4\", \"Topic4\", \"Topic4\", \"Topic4\", \"Topic4\", \"Topic4\", \"Topic4\", \"Topic4\", \"Topic4\", \"Topic4\", \"Topic4\", \"Topic4\", \"Topic4\", \"Topic4\", \"Topic4\", \"Topic4\", \"Topic4\", \"Topic4\", \"Topic4\", \"Topic4\", \"Topic4\", \"Topic4\", \"Topic4\", \"Topic4\", \"Topic4\", \"Topic4\", \"Topic4\", \"Topic4\", \"Topic4\", \"Topic4\", \"Topic4\", \"Topic4\", \"Topic4\", \"Topic5\", \"Topic5\", \"Topic5\", \"Topic5\", \"Topic5\", \"Topic5\", \"Topic5\", \"Topic5\", \"Topic5\", \"Topic5\", \"Topic5\", \"Topic5\", \"Topic5\", \"Topic5\", \"Topic5\", \"Topic5\", \"Topic5\", \"Topic5\", \"Topic5\", \"Topic5\", \"Topic5\", \"Topic5\", \"Topic5\", \"Topic5\", \"Topic5\", \"Topic5\", \"Topic5\", \"Topic5\", \"Topic5\", \"Topic5\", \"Topic5\", \"Topic5\", \"Topic5\", \"Topic5\", \"Topic5\", \"Topic5\", \"Topic5\", \"Topic5\", \"Topic5\", \"Topic5\", \"Topic5\", \"Topic5\", \"Topic5\", \"Topic6\", \"Topic6\", \"Topic6\", \"Topic6\", \"Topic6\", \"Topic6\", \"Topic6\", \"Topic6\", \"Topic6\", \"Topic6\", \"Topic6\", \"Topic6\", \"Topic6\", \"Topic6\", \"Topic6\", \"Topic6\", \"Topic6\", \"Topic6\", \"Topic6\", \"Topic6\", \"Topic6\", \"Topic6\", \"Topic6\", \"Topic6\", \"Topic6\", \"Topic6\", \"Topic6\", \"Topic6\", \"Topic6\", \"Topic6\", \"Topic6\", \"Topic6\", \"Topic6\", \"Topic6\", \"Topic6\", \"Topic6\", \"Topic6\", \"Topic6\", \"Topic6\", \"Topic6\", \"Topic6\", \"Topic6\", \"Topic6\", \"Topic6\", \"Topic6\", \"Topic6\", \"Topic6\", \"Topic7\", \"Topic7\", \"Topic7\", \"Topic7\", \"Topic7\", \"Topic7\", \"Topic7\", \"Topic7\", \"Topic7\", \"Topic7\", \"Topic7\", \"Topic7\", \"Topic7\", \"Topic7\", \"Topic7\", \"Topic7\", \"Topic7\", \"Topic7\", \"Topic7\", \"Topic7\", \"Topic7\", \"Topic7\", \"Topic7\", \"Topic7\", \"Topic7\", \"Topic7\", \"Topic7\", \"Topic7\", \"Topic7\", \"Topic7\", \"Topic7\", \"Topic7\", \"Topic7\", \"Topic7\", \"Topic7\", \"Topic7\", \"Topic7\", \"Topic7\", \"Topic7\", \"Topic7\", \"Topic7\", \"Topic7\", \"Topic7\", \"Topic7\", \"Topic7\", \"Topic7\", \"Topic7\", \"Topic7\", \"Topic7\", \"Topic7\", \"Topic8\", \"Topic8\", \"Topic8\", \"Topic8\", \"Topic8\", \"Topic8\", \"Topic8\", \"Topic8\", \"Topic8\", \"Topic8\", \"Topic8\", \"Topic8\", \"Topic8\", \"Topic8\", \"Topic8\", \"Topic8\", \"Topic8\", \"Topic8\", \"Topic8\", \"Topic8\", \"Topic8\", \"Topic8\", \"Topic8\", \"Topic8\", \"Topic8\", \"Topic8\", \"Topic8\", \"Topic8\", \"Topic8\", \"Topic8\", \"Topic8\", \"Topic8\", \"Topic8\", \"Topic8\", \"Topic8\", \"Topic8\", \"Topic8\", \"Topic8\", \"Topic8\", \"Topic8\", \"Topic8\", \"Topic8\", \"Topic8\", \"Topic8\", \"Topic8\", \"Topic9\", \"Topic9\", \"Topic9\", \"Topic9\", \"Topic9\", \"Topic9\", \"Topic9\", \"Topic9\", \"Topic9\", \"Topic9\", \"Topic9\", \"Topic9\", \"Topic9\", \"Topic9\", \"Topic9\", \"Topic9\", \"Topic9\", \"Topic9\", \"Topic9\", \"Topic9\", \"Topic9\", \"Topic9\", \"Topic9\", \"Topic9\", \"Topic9\", \"Topic9\", \"Topic9\", \"Topic9\", \"Topic9\", \"Topic9\", \"Topic9\", \"Topic9\", \"Topic9\", \"Topic9\", \"Topic9\", \"Topic9\", \"Topic9\", \"Topic9\", \"Topic9\", \"Topic9\", \"Topic9\", \"Topic10\", \"Topic10\", \"Topic10\", \"Topic10\", \"Topic10\", \"Topic10\", \"Topic10\", \"Topic10\", \"Topic10\", \"Topic10\", \"Topic10\", \"Topic10\", \"Topic10\", \"Topic10\", \"Topic10\", \"Topic10\", \"Topic10\", \"Topic10\", \"Topic10\", \"Topic10\", \"Topic10\", \"Topic10\", \"Topic10\", \"Topic10\", \"Topic10\", \"Topic10\", \"Topic10\", \"Topic10\", \"Topic10\", \"Topic10\", \"Topic10\", \"Topic10\", \"Topic10\", \"Topic10\", \"Topic10\", \"Topic10\"], \"logprob\": [30.0, 29.0, 28.0, 27.0, 26.0, 25.0, 24.0, 23.0, 22.0, 21.0, 20.0, 19.0, 18.0, 17.0, 16.0, 15.0, 14.0, 13.0, 12.0, 11.0, 10.0, 9.0, 8.0, 7.0, 6.0, 5.0, 4.0, 3.0, 2.0, 1.0, -4.5707, -4.7964, -4.9096, -4.495, -5.2304, -5.2863, -5.4824, -5.4232, -4.9989, -5.4913, -5.5455, -5.5575, -5.5578, -5.5587, -5.5506, -5.6415, -5.7108, -5.7109, -5.8057, -5.8057, -5.8057, -5.432, -5.8063, -4.6557, -5.9109, -5.0562, -5.9119, -5.0493, -5.7104, -6.0283, -5.1861, -3.4889, -3.128, -4.0305, -3.942, -4.9522, -5.0665, -4.4604, -4.044, -4.6881, -4.3233, -4.5544, -4.7782, -4.0115, -4.6569, -5.1779, -4.5247, -4.9274, -4.6133, -5.1756, -4.8877, -5.023, -5.0388, -5.1069, -5.046, -4.7771, -4.9, -4.994, -4.9895, -5.199, -5.3943, -5.4693, -5.4693, -5.4693, -5.4699, -5.5504, -5.5505, -5.5505, -5.538, -5.5396, -5.2855, -5.7265, -5.8228, -5.9402, -5.9402, -5.9403, -5.9404, -4.5285, -6.0734, -6.0734, -6.0734, -6.0734, -6.0735, -6.0737, -6.0736, -5.6786, -5.8555, -5.6736, -4.8885, -3.799, -4.6453, -3.9237, -4.8235, -4.1902, -4.4066, -3.9202, -3.345, -4.0718, -4.6928, -3.831, -4.6066, -4.1912, -4.9283, -4.7842, -4.3268, -4.6009, -4.1898, -4.1658, -4.2814, -4.9958, -4.2187, -4.1692, -4.736, -4.0294, -4.6931, -4.5786, -4.8253, -4.6196, -4.6206, -4.623, -4.677, -4.6892, -5.1177, -5.1177, -5.1179, -5.2353, -5.2357, -5.237, -5.3682, -5.3682, -5.3682, -5.3682, -5.3682, -5.3684, -5.3682, -5.3683, -5.3684, -5.3705, -5.1198, -5.0153, -5.522, -5.522, -5.522, -5.522, -5.522, -5.522, -5.522, -4.1256, -4.7708, -5.2453, -5.0593, -4.4046, -4.8792, -4.1905, -4.466, -5.0264, -4.8549, -3.9911, -5.1656, -4.0249, -5.2424, -5.2483, -5.2487, -5.2877, -4.3379, -4.1618, -4.5567, -4.6889, -4.6123, -4.7666, -4.6442, -4.9254, -5.075, -3.7234, -4.6844, -4.6842, -4.8172, -4.8173, -4.8184, -4.819, -4.8186, -4.971, -4.971, -3.8912, -4.8458, -4.9832, -4.9832, -4.6842, -5.1184, -4.5667, -5.1182, -5.6215, -4.6011, -5.9793, -5.9794, -5.9793, -5.9796, -5.9795, -5.9795, -5.9798, -5.98, -5.605, -5.3321, -4.4439, -4.0472, -4.4336, -4.9385, -4.9385, -4.721, -5.6365, -4.3244, -4.9249, -4.7314, -3.6062, -4.1478, -4.1866, -3.6091, -4.8908, -4.8021, -4.7862, -4.7756, -4.7118, -4.7892, -3.5848, -3.8838, -4.1119, -4.4298, -4.4298, -4.4313, -4.2132, -4.7166, -4.7166, -4.7166, -4.7246, -4.7246, -4.7246, -4.7246, -4.7246, -4.7246, -4.5627, -4.4361, -3.986, -5.3502, -3.85, -5.7255, -5.7274, -5.7297, -4.4765, -4.1512, -5.982, -5.7305, -6.3324, -6.3324, -4.3081, -5.5443, -4.6168, -4.5935, -4.4521, -3.7611, -3.7482, -4.9874, -4.1052, -4.4373, -4.5263, -4.4654, -4.5404, -3.6268, -4.1727, -4.1735, -4.3068, -4.3069, -4.4596, -4.4596, -4.4596, -4.4596, -3.7098, -4.2375, -5.4685, -5.469, -5.469, -5.4693, -4.0228, -5.5005, -5.4686, -6.0755, -6.0755, -6.0755, -6.0755, -6.0755, -6.0755, -6.0755, -6.0755, -6.0755, -6.0755, -6.0755, -6.0755, -5.0967, -3.6613, -4.001, -5.3121, -5.139, -5.4704, -5.3857, -4.2434, -5.468, -4.4828, -5.6318, -5.4679, -4.1479, -4.6268, -4.9313, -5.2219, -5.4684, -3.4301, -3.9757, -4.1111, -4.2108, -5.2729, -4.3005, -4.1133, -4.1089, -5.8785, -5.8785, -5.8785, -5.8785, -5.8786, -5.8786, -5.8786, -5.8786, -5.8786, -5.8786, -5.8786, -5.8786, -5.8786, -5.8786, -5.8786, -5.8786, -5.8786, -5.8786, -5.8786, -5.8786, -5.8787, -5.8787, -4.6235, -5.2829, -4.7543, -5.3228, -5.3385, -5.4178, -4.5031, -4.9944, -5.3231, -5.2709, -4.9101, -5.5215, -5.5742, -5.1494, -5.2887, -5.5974, -5.7733, -5.8132, -5.8687, -5.8785, -3.7302, -3.9814, -3.7433, -5.1428, -5.1428, -5.145, -5.0349, -5.1495, -5.1672, -5.7503, -5.7503, -5.7503, -5.7503, -5.7503, -5.7503, -5.7503, -5.7503, -5.7503, -5.7503, -5.7504, -5.7504, -5.7504, -5.7504, -5.7504, -5.7504, -5.7504, -5.7504, -5.7504, -5.7505, -5.7505, -3.9561, -5.1802, -5.279, -5.2337, -5.1048, -5.3628, -5.4113, -5.3957, -5.4617, -5.5944, -5.7198, -5.6293, -5.6058, -5.7072, -5.7229, -3.3127, -3.7828, -3.9165, -4.7027, -5.078, -5.6855, -5.6855, -5.6855, -5.6855, -5.6855, -5.6855, -5.6855, -5.6856, -5.6856, -5.6856, -5.6856, -5.6856, -3.8199, -5.6855, -5.6855, -5.6855, -5.6857, -5.6857, -5.6885, -5.6855, -5.7585, -3.9114, -5.6855, -5.6907, -5.078, -5.04, -5.0832, -5.4837, -5.609, -5.6554, -5.6704, -5.6677, -5.6855, -5.6855, -5.6855, -5.6855, -3.7533, -4.9151, -5.5225, -5.5225, -5.5226, -5.5228, -5.5228, -5.5228, -5.5228, -5.5228, -5.5228, -5.5229, -5.5229, -5.5225, -5.5226, -5.7543, -5.5228, -5.6771, -5.5231, -5.0274, -5.5381, -5.873, -4.7386, -5.5231, -5.4252, -6.1608, -5.5226, -5.9743, -5.5239, -5.8057, -5.0064, -4.811, -5.3649, -5.5263, -5.3765, -5.5273], \"loglift\": [30.0, 29.0, 28.0, 27.0, 26.0, 25.0, 24.0, 23.0, 22.0, 21.0, 20.0, 19.0, 18.0, 17.0, 16.0, 15.0, 14.0, 13.0, 12.0, 11.0, 10.0, 9.0, 8.0, 7.0, 6.0, 5.0, 4.0, 3.0, 2.0, 1.0, 0.9621, 0.9555, 0.9482, 0.9372, 0.9353, 0.9333, 0.9211, 0.9185, 0.9179, 0.9161, 0.9158, 0.9157, 0.9157, 0.9146, 0.913, 0.9076, 0.9036, 0.9036, 0.8954, 0.8954, 0.8954, 0.8953, 0.895, 0.8875, 0.8853, 0.8844, 0.8844, 0.878, 0.8745, 0.8728, 0.8607, 0.6144, 0.5308, 0.5161, 0.4772, 0.675, 0.686, 0.4833, 0.3266, 0.5497, 0.2983, 0.3813, 0.4745, 0.0205, 0.3826, 0.6785, -0.0764, 0.2868, -0.1084, 0.5524, -0.1281, -0.2085, -0.2137, 0.1516, -0.5285, 1.1797, 1.1687, 1.1686, 1.1654, 1.1562, 1.1423, 1.1361, 1.1361, 1.136, 1.136, 1.1289, 1.1288, 1.1288, 1.1275, 1.1266, 1.1226, 1.1022, 1.1005, 1.0859, 1.0859, 1.0859, 1.0858, 1.0751, 1.0676, 1.0675, 1.0675, 1.0675, 1.0675, 1.0674, 1.0673, 1.0663, 1.0666, 1.064, 1.04, 0.9861, 1.0199, 0.9686, 1.0053, 0.8917, 0.8895, 0.7809, 0.687, 0.7533, 0.8751, 0.6865, 0.7989, 0.5684, 0.8517, 0.7779, 0.4877, 0.5891, 0.3151, 0.2825, 0.3401, 0.8082, 0.1519, -0.0659, 0.5225, -0.3706, 0.2426, -0.1593, 0.2142, 2.0917, 2.0901, 2.0865, 2.0853, 2.0845, 2.0298, 2.0298, 2.0298, 2.0109, 2.0108, 2.0086, 1.9873, 1.9873, 1.9873, 1.9873, 1.9873, 1.9873, 1.9873, 1.9871, 1.9871, 1.9845, 1.979, 1.9704, 1.9565, 1.9565, 1.9565, 1.9565, 1.9565, 1.9565, 1.9565, 1.9371, 1.9162, 1.9211, 1.892, 1.7155, 1.8053, 1.5533, 1.3105, 1.68, 1.478, 0.5138, 1.7703, 0.4234, 1.843, 1.8478, 1.8474, 1.8766, 0.4766, 0.2088, -0.1375, 0.2547, -0.0657, -0.0654, -0.9854, 0.4646, -0.5575, 2.4067, 2.4043, 2.4043, 2.3847, 2.3846, 2.3843, 2.3842, 2.3842, 2.3589, 2.3589, 2.3544, 2.3543, 2.3459, 2.3459, 2.3311, 2.3308, 2.2974, 2.2323, 2.1972, 2.1952, 2.0881, 2.088, 2.088, 2.0879, 2.0879, 2.0879, 2.0878, 2.0874, 2.0776, 2.0545, 1.992, 1.9408, 1.9302, 1.8837, 1.8837, 1.8142, 2.015, 1.6872, 1.7882, 1.6637, 0.9404, 1.0664, 1.0512, 0.0497, 1.6601, 1.0985, 0.9904, 0.8956, -0.1943, -0.2843, 3.0396, 2.9696, 2.9311, 2.9244, 2.9244, 2.9238, 2.8778, 2.863, 2.863, 2.863, 2.8505, 2.8505, 2.8505, 2.8505, 2.8505, 2.8505, 2.8307, 2.7684, 2.7302, 2.6712, 2.5503, 2.5149, 2.5127, 2.5101, 2.4932, 2.4143, 2.2408, 2.2169, 2.1884, 2.1884, 2.158, 2.1292, 1.8362, 1.7393, 1.5359, 0.9985, 0.7002, 1.697, 0.4123, 0.1842, 0.2589, -0.8066, 0.2847, 3.2216, 3.1951, 3.1946, 3.1675, 3.1673, 3.1327, 3.1327, 3.1327, 3.1327, 2.9538, 2.9045, 2.7802, 2.78, 2.78, 2.7796, 2.6739, 2.4976, 2.4861, 2.451, 2.451, 2.451, 2.451, 2.4509, 2.4509, 2.4509, 2.4509, 2.4509, 2.4509, 2.4509, 2.4509, 2.2677, 1.8338, 1.4046, 1.9132, 1.7597, 1.9162, 1.7347, 0.5417, 1.8184, 0.5992, 1.9186, 1.5679, -0.489, -0.2076, -0.3847, 0.5546, 1.0825, 3.5213, 3.4323, 3.4029, 3.258, 3.0004, 2.9358, 2.7435, 2.6818, 2.6641, 2.6641, 2.6641, 2.6641, 2.6641, 2.6641, 2.6641, 2.6641, 2.664, 2.664, 2.664, 2.664, 2.664, 2.664, 2.664, 2.664, 2.664, 2.664, 2.664, 2.664, 2.664, 2.664, 2.5935, 2.6247, 1.8824, 2.1784, 2.1737, 2.1964, 0.4326, 1.2298, 1.7211, 1.5931, 0.3426, 1.7148, 1.4441, -1.1174, -0.3964, -0.8962, 0.4163, 1.3532, -2.2099, 2.4049, 3.5742, 3.5641, 3.4931, 3.1506, 3.1506, 3.1484, 2.9767, 2.9156, 2.896, 2.8055, 2.8055, 2.8055, 2.8055, 2.8055, 2.8055, 2.8055, 2.8055, 2.8055, 2.8055, 2.8054, 2.8054, 2.8054, 2.8054, 2.8054, 2.8054, 2.8054, 2.8054, 2.8054, 2.8054, 2.8054, 2.5315, 2.5732, 2.6055, 1.8756, 1.5823, 1.5246, 1.6329, 0.5049, 0.9091, 0.7497, 2.268, -0.0614, -1.0592, 0.6879, -0.0516, 4.0429, 3.9306, 3.8906, 3.574, 3.3693, 2.9675, 2.9675, 2.9675, 2.9675, 2.9675, 2.9675, 2.9675, 2.9675, 2.9675, 2.9675, 2.9675, 2.9675, 2.7307, 2.6148, 2.554, 2.554, 2.474, 2.474, 2.4706, 2.4513, 2.4381, 2.4262, 2.2622, 2.2145, 2.1734, 1.5819, 1.4677, 0.8436, 0.7861, 0.9814, 1.4284, 0.5268, 1.1679, 1.7611, 1.3574, 1.5189, 4.2651, 3.6441, 3.1979, 3.1979, 3.1977, 3.1975, 3.1975, 3.1975, 3.1975, 3.1975, 3.1975, 3.1975, 3.1974, 2.8247, 2.6776, 2.5472, 2.5367, 2.5362, 2.4574, 2.3729, 2.2622, 2.2259, 2.1785, 2.1621, 1.9088, 1.8821, 1.7818, 1.752, 1.5383, 1.3866, 1.1832, 0.6247, 0.968, 1.0956, -0.4408, 0.6672]}, \"token.table\": {\"Topic\": [1, 4, 1, 2, 1, 2, 3, 5, 1, 2, 3, 2, 2, 3, 4, 1, 2, 1, 3, 4, 2, 4, 6, 5, 8, 3, 5, 8, 8, 1, 2, 3, 4, 4, 4, 2, 2, 5, 1, 2, 1, 2, 6, 9, 3, 1, 2, 4, 3, 1, 2, 2, 4, 4, 3, 4, 4, 3, 1, 6, 5, 1, 5, 3, 4, 1, 4, 9, 1, 3, 1, 1, 2, 4, 5, 6, 3, 3, 4, 1, 2, 3, 4, 6, 7, 6, 3, 6, 2, 1, 2, 6, 4, 5, 3, 2, 8, 3, 2, 8, 5, 3, 1, 1, 4, 6, 7, 7, 4, 5, 3, 2, 1, 3, 4, 6, 2, 8, 4, 3, 1, 3, 5, 5, 8, 1, 2, 3, 2, 5, 2, 1, 7, 1, 8, 1, 2, 3, 1, 2, 3, 1, 4, 4, 3, 4, 1, 3, 4, 1, 2, 5, 4, 1, 1, 1, 2, 3, 1, 2, 5, 7, 1, 2, 3, 4, 5, 1, 2, 3, 4, 5, 2, 1, 2, 5, 3, 1, 1, 6, 4, 2, 1, 2, 3, 4, 1, 4, 5, 1, 2, 3, 4, 4, 1, 2, 3, 4, 7, 1, 2, 3, 2, 9, 3, 5, 3, 7, 4, 6, 2, 4, 1, 5, 3, 5, 5, 3, 6, 2, 4, 1, 3, 1, 7, 1, 1, 1, 3, 8, 4, 4, 3, 2, 2, 1, 2, 4, 6, 1, 2, 3, 4, 6, 1, 2, 4, 5, 3, 5, 1, 2, 4, 3, 8, 5, 5, 2, 2, 3, 6, 1, 1, 1, 4, 3, 1, 3, 4, 5, 6, 1, 4, 7, 1, 2, 3, 6, 1, 2, 4, 1, 6, 1, 2, 1, 2, 3, 4, 1, 2, 3, 1, 2, 3, 4, 3, 1, 3, 6, 9, 3, 4, 5, 4, 1, 4, 7, 3, 4, 1, 2, 3, 4, 5, 6, 1, 2, 3, 5, 2, 2, 4, 7, 4, 5, 1, 2, 1, 4, 5, 3, 3, 1, 3, 4, 1, 4, 1, 1, 2, 3, 1, 3, 8, 1, 5, 1, 3, 6, 4, 2, 5, 1, 4, 1, 4, 7, 1, 2, 3, 2, 3, 6, 1, 3, 4, 5, 3, 7, 2, 5, 4, 6, 4, 2, 1, 7, 5, 4, 2, 3, 5, 10, 3, 2, 1, 3, 1, 6, 7, 1, 3, 6, 1, 3, 3, 1, 2, 3, 5, 2, 1, 2, 1, 5, 1, 7, 1, 2, 3, 4, 6, 1, 4, 5, 1, 1, 1, 2, 4, 5, 6, 3, 6, 9, 8, 5, 2, 6, 3, 1, 5, 7, 2, 1, 3, 1, 1, 1, 2, 3, 4, 4, 1, 2, 3, 5, 1, 1, 2, 2, 1, 3, 9, 3, 5, 6, 1, 8, 4, 6, 1, 1, 2, 4, 2, 3, 1, 2, 1, 7, 1, 2, 3, 4, 5, 2, 1, 1, 2, 3, 5, 6, 1, 2, 5, 6, 1, 4, 6, 3, 2, 4, 1, 1, 4, 1, 2, 1, 8, 1, 4, 6, 1, 2, 3, 7, 6, 1, 2, 1, 2, 3, 7, 1, 2, 3, 4, 1, 2, 5, 1, 2, 4, 1, 1, 3, 3, 1, 7, 1, 2, 5, 7, 1, 4, 8, 1, 2, 4, 6, 2], \"Freq\": [0.9100735410703341, 0.8198028736128237, 0.6250349522206657, 0.31251747611033287, 0.4961663245965618, 0.4134719371638015, 0.020673596858190074, 0.062020790574570224, 0.06913447837851193, 0.8296137405421431, 0.06913447837851193, 0.9018733446343483, 0.8402954182206075, 0.15278098513101954, 0.6485632513548938, 0.927852736884098, 0.07732106140700816, 0.1268786986920457, 0.2537573973840914, 0.5075147947681828, 0.770327594246293, 0.5793959332217683, 0.5793959332217683, 0.7928519049713266, 0.8130071818210741, 0.7197716291650995, 0.7963165302007013, 0.769648601360872, 0.6458081037066336, 0.11804763185410509, 0.11804763185410509, 0.23609526370821018, 0.5902381592705255, 0.9305374346886968, 0.8173062726577374, 0.770334452388236, 0.16792591051252134, 0.6717036420500854, 0.3328235997145054, 0.3328235997145054, 0.2971180994559469, 0.4456771491839204, 0.19807873297063128, 0.9548435465686868, 0.7197716291650995, 0.14012476595982404, 0.2802495319196481, 0.4203742978794721, 0.7197716291650995, 0.110395380467427, 0.883163043739416, 0.18192267680439042, 0.7276907072175617, 0.6333314479032421, 0.3734037476724769, 0.5601056215087155, 0.7703472053042212, 0.7197716291650995, 0.8271982613933424, 0.7776443024023496, 0.7963165302007013, 0.9221128419321715, 0.7963165302007013, 0.7197716291650995, 0.819435603383585, 0.7114648564176139, 0.1422929712835228, 0.2845859425670456, 0.9155394377935453, 0.07629495314946211, 0.9826247104476122, 0.07304145816031182, 0.779108887043326, 0.02434715272010394, 0.04869430544020788, 0.04869430544020788, 0.7197716291650995, 0.8554013091318471, 0.9305374346886968, 0.0529548213023847, 0.6354578556286163, 0.15886446390715409, 0.1059096426047694, 0.7665852626709921, 0.7458166393031148, 0.8065445377756462, 0.7197716291650995, 0.7166753386507743, 0.9022953202854602, 0.18112327772975295, 0.6339314720541354, 0.1358424582973147, 0.9059381135400629, 0.7928519049713266, 0.954840479503767, 0.7703767169096885, 0.8129774317753549, 0.9546581445195615, 0.9710656119738642, 0.6470235540188289, 0.7928519049713266, 0.7385438057104702, 0.5514283169972447, 0.20152682928924245, 0.4030536585784849, 0.20152682928924245, 0.8498127975708231, 0.7967742336587328, 0.6434153039540281, 0.7704423631740666, 0.9547421331342474, 0.9157462210926288, 0.7640799643269323, 0.6275604063219339, 0.20918680210731128, 0.8065445377756462, 0.797122525143763, 0.19928063128594076, 0.4278446451305822, 0.8561147065011669, 0.16629287120075018, 0.6651714848030007, 0.16629287120075018, 0.6610942684422946, 0.6133091334946321, 0.38103027836250025, 0.06350504639375004, 0.5080403711500003, 0.523082410329612, 0.392311807747209, 0.8261817006578558, 0.4122085632189146, 0.4122085632189146, 0.5401562914090259, 0.5401562914090259, 0.7347287812254389, 0.22607039422321198, 0.8349578932092063, 0.3566581801871194, 0.44582272523389926, 0.1783290900935597, 0.6685533851761843, 0.22285112839206145, 0.6485093348678745, 0.3734037476724769, 0.5601056215087155, 0.7120135020119648, 0.23733783400398828, 0.9298630342760145, 0.5722099793571239, 0.11444199587142478, 0.22888399174284957, 0.7703418373958104, 0.9059869238844983, 0.9197364925556416, 0.8835680714593194, 0.9395942081814268, 0.8339998442521467, 0.16261514910603078, 0.7859732206791488, 0.02710252485100513, 0.02710252485100513, 0.33115452215645635, 0.4047444159690022, 0.18397473453136465, 0.05519242035940939, 0.018397473453136463, 0.2235716700613958, 0.5775601476586059, 0.05589291751534895, 0.05589291751534895, 0.07452389002046526, 0.9579858763606083, 0.6942863723760786, 0.1983675349645939, 0.9191558331215458, 0.9547157926421329, 0.9105412333767772, 0.4940203821384654, 0.4940203821384654, 0.44140608941330034, 0.9822317235570063, 0.5991372636142966, 0.17118207531837049, 0.1426517294319754, 0.05706069177279016, 0.9300455286946931, 0.04650227643473466, 0.8208598675527834, 0.46666696851746653, 0.2800001811104799, 0.0933333937034933, 0.14000009055523996, 0.6485168668122699, 0.3783474391882657, 0.5847187696545924, 0.01146507391479593, 0.01146507391479593, 0.01146507391479593, 0.5147331824300924, 0.3377936509697481, 0.1447687075584635, 0.9018584727485565, 0.9103578609852928, 0.7885975028112446, 0.2628658342704149, 0.2770789468082314, 0.2770789468082314, 0.6565493626351734, 0.3282746813175867, 0.7704728732389722, 0.9298630342760145, 0.9683067181061901, 0.7709743701593572, 0.6506906019346086, 0.16267265048365215, 0.7328818710620569, 0.7902263006365022, 0.9665138864033465, 0.502205887758297, 0.502205887758297, 0.2455088543911962, 0.7365265631735887, 0.28248054394205396, 0.5649610878841079, 0.4425268374272323, 0.9094954785473909, 0.7112591217305949, 0.7755697029255576, 0.8129705834317533, 0.8187319143237185, 0.5753613744559138, 0.9542689801045023, 0.9583958185431348, 0.9157427513084981, 0.31147276959058584, 0.6229455391811717, 0.8187660279164922, 0.8065445377756462, 0.5910347651769368, 0.2533006136472586, 0.10132024545890345, 0.016886707576483907, 0.03377341515296781, 0.7108205405335513, 0.9429241049179681, 0.5057258126334246, 0.7707459881054154, 0.7753957187315967, 0.757601714046463, 0.4150531335632642, 0.16602125342530566, 0.4150531335632642, 0.815461751964099, 0.1630923503928198, 0.7928519049713266, 0.6194048904990463, 0.9158060646400528, 0.8637636440190846, 0.6935115056713076, 0.23117050189043586, 0.6692555894588774, 0.9100392844280769, 0.7406527850370921, 0.5735503541809037, 0.8794381324837076, 0.1968510509641759, 0.3937021019283518, 0.1968510509641759, 0.06561701698805864, 0.06561701698805864, 0.3681459306072885, 0.3681459306072885, 0.3681459306072885, 0.10651889533757321, 0.6923728196942259, 0.15977834300635982, 0.053259447668786604, 0.6509212569756976, 0.1148684571133584, 0.2297369142267168, 0.31861473763820564, 0.6372294752764113, 0.8270328761774005, 0.9667116977450229, 0.20148516772635, 0.6492299848960167, 0.11193620429241666, 0.022387240858483332, 0.7046841088289387, 0.2562487668468868, 0.8195550986107492, 0.6894921139027503, 0.2708719018903662, 0.03693707753050448, 0.6485854478918627, 0.954742748580443, 0.5031407362917903, 0.2515703681458952, 0.2515703681458952, 0.7994988173301705, 0.6373049630162902, 0.21243498767209676, 0.9535090818663392, 0.8194829581214419, 0.9109651752057883, 0.7787152716199696, 0.1946788179049924, 0.9547190839462576, 0.49648358839019596, 0.6315376568299451, 0.20524973846973216, 0.03947110355187157, 0.07894220710374314, 0.015788441420748627, 0.023682662131122943, 0.3008793908678711, 0.4763923688741292, 0.17551297800625815, 0.02507328257232259, 0.8211203259576085, 0.9710532545353068, 0.6486772840779826, 0.7128396303278126, 0.6485259302137018, 0.9534685116900555, 0.26338340107712527, 0.6584585026928131, 0.24320314446308805, 0.5674740037472055, 0.16213542964205868, 0.9547129377996267, 0.7287393817872035, 0.12180445664856832, 0.24360891329713663, 0.36541336994570495, 0.6944572207312224, 0.2314857402437408, 0.8524760697662496, 0.8833719118394978, 0.051963053637617516, 0.8558538386007698, 0.9252161609885545, 0.7463368948802638, 0.24877896496008792, 0.3673238042372162, 0.6122063403953604, 0.38672116564509107, 0.38672116564509107, 0.38672116564509107, 0.9746396172839772, 0.43328348396468186, 0.43328348396468186, 0.09344364586003215, 0.8409928127402894, 0.38654839218588005, 0.19327419609294003, 0.38654839218588005, 0.32850959876734825, 0.5110149314158751, 0.10950319958911608, 0.45783539602674345, 0.45783539602674345, 0.7167819944903068, 0.08735071700380362, 0.7861564530342326, 0.08735071700380362, 0.08735071700380362, 0.5427582423578791, 0.3618388282385861, 0.7703442287861738, 0.7928519049713266, 0.9749048711361122, 0.7774793978378366, 0.6485250398674219, 0.9578025859894034, 0.37223099178904756, 0.37223099178904756, 0.9542974123413122, 0.5945413528110582, 0.8252396639896644, 0.8792583111836383, 0.7706087193553007, 0.617558158177218, 0.7754294639657804, 0.9018289110046402, 0.9220198510034464, 0.5988846640732695, 0.46620994664047843, 0.23310497332023922, 0.23310497332023922, 0.5587857829601248, 0.2793928914800624, 0.2793928914800624, 0.8598303933735392, 0.08598303933735392, 0.9547141711013652, 0.33226685950495144, 0.5221336363649237, 0.02373334710749653, 0.11866673553748265, 0.8640023349249246, 0.7106992466794004, 0.21320977400382013, 0.6452784488300816, 0.2581113795320326, 0.7754645381150194, 0.15509290762300387, 0.6137883807389316, 0.038361773796183225, 0.09590443449045806, 0.19180886898091612, 0.019180886898091613, 0.1048870522521451, 0.8390964180171608, 0.7928519049713266, 0.9096132893564136, 0.9218974147369402, 0.9603006088235304, 0.8577778882236821, 0.5752210348439702, 0.5752210348439702, 0.8065445377756462, 0.9546800743178436, 0.6051128537104828, 0.49986000902258804, 0.907167238312198, 0.6984318840902957, 0.915755727735768, 0.7776006290439901, 0.8893068344580852, 0.43739343535628866, 0.43739343535628866, 0.6707835007135264, 0.9362700721148035, 0.3700953535213793, 0.6476668686624137, 0.6328720655584065, 0.8081197656151579, 0.486125069106271, 0.2243654165105866, 0.03739423608509777, 0.2243654165105866, 0.6989710932659219, 0.3477036093238907, 0.38247397025627977, 0.17385180466194536, 0.08692590233097268, 0.46108996056798685, 0.5944281138213554, 0.35665686829281323, 0.9710532545353068, 0.4600196195632046, 0.3450147146724034, 0.11500490489080115, 0.2969944109061001, 0.2969944109061001, 0.2969944109061001, 0.4737549356920774, 0.4737549356920774, 0.2570565088973569, 0.5141130177947137, 0.8270553514433057, 0.4299474421998406, 0.5081197044179934, 0.03908613110907642, 0.8218147534501161, 0.1761031614535963, 0.9237050403400507, 0.7703424757475971, 0.5527382930045655, 0.5527382930045655, 0.12175573868462815, 0.7305344321077688, 0.04058524622820938, 0.08117049245641876, 0.04058524622820938, 0.750374809806421, 0.827039806626113, 0.06552501594139333, 0.7207751753553266, 0.09828752391209, 0.032762507970696665, 0.06552501594139333, 0.7112291545740087, 0.4327243421932012, 0.4327243421932012, 0.9668379291126993, 0.3210563731702728, 0.3210563731702728, 0.3210563731702728, 0.8354337160570526, 0.738017721158576, 0.6485344095443316, 0.9130776836503643, 0.45428683123499497, 0.22714341561749748, 0.3372363939562403, 0.6744727879124806, 0.668015701796821, 0.26720628071872843, 0.4270128370615431, 0.4270128370615431, 0.1423376123538477, 0.5829156211862825, 0.3108883312993507, 0.038861041412418834, 0.038861041412418834, 0.7776421769376747, 0.9769877942457034, 0.9653051287958275, 0.5377645274737305, 0.367944150376763, 0.028303396182827924, 0.028303396182827924, 0.5338189613273785, 0.3768133844663848, 0.03140111537219873, 0.03140111537219873, 0.304083645071272, 0.6335075938984833, 0.05068060751187866, 0.27030756943246076, 0.27030756943246076, 0.27030756943246076, 0.9864418741030861, 0.24553420324754102, 0.736602609742623, 0.34858150706605806, 0.5649716902191242, 0.2824858451095621, 0.6160183966627828, 0.10266973277713047, 0.10266973277713047, 0.10266973277713047, 0.6976415930402272, 0.29898925416009736, 0.8475173533640692, 0.47248333989084396, 0.23624166994542198, 0.1771812524590665, 0.059060417486355495, 0.7703344302830198], \"Term\": [\"absolut\", \"accept\", \"act\", \"act\", \"action\", \"action\", \"action\", \"action\", \"actor\", \"actor\", \"actor\", \"addit\", \"almost\", \"almost\", \"alot\", \"amaz\", \"amaz\", \"anoth\", \"anoth\", \"anoth\", \"antagonist\", \"anyon\", \"anyon\", \"anyth\", \"appeal\", \"aquafina\", \"area\", \"arm\", \"armi\", \"asian\", \"asian\", \"asian\", \"asian\", \"astonish\", \"attach\", \"averag\", \"away\", \"away\", \"background\", \"background\", \"bad\", \"bad\", \"bad\", \"bear\", \"beast\", \"begin\", \"begin\", \"begin\", \"belief\", \"bit\", \"bit\", \"black\", \"black\", \"blend\", \"bloat\", \"bloat\", \"blockbust\", \"blood\", \"blow\", \"boss\", \"break\", \"bu\", \"cape\", \"captiv\", \"car\", \"care\", \"care\", \"care\", \"cast\", \"cast\", \"cgi\", \"charact\", \"charact\", \"charact\", \"charact\", \"charact\", \"chase\", \"child\", \"chill\", \"chine\", \"chine\", \"chine\", \"chine\", \"cinema\", \"claim\", \"clear\", \"clich\\u00e9d\", \"color\", \"combat\", \"come\", \"come\", \"come\", \"complet\", \"complic\", \"consum\", \"continu\", \"corner\", \"crack\", \"cre\", \"creat\", \"crimin\", \"cultur\", \"date\", \"day\", \"day\", \"day\", \"decent\", \"design\", \"detail\", \"develop\", \"dialogu\", \"dimension\", \"direct\", \"disappoint\", \"disappoint\", \"disgrac\", \"disney\", \"disney\", \"door\", \"drag\", \"dragon\", \"dragon\", \"dragon\", \"drama\", \"dramat\", \"effect\", \"effect\", \"effect\", \"element\", \"element\", \"emot\", \"endgam\", \"endgam\", \"engag\", \"engag\", \"enjoy\", \"enjoy\", \"entir\", \"even\", \"even\", \"even\", \"everi\", \"everi\", \"everybodi\", \"everyon\", \"everyon\", \"everyth\", \"everyth\", \"excit\", \"expect\", \"expect\", \"expect\", \"experi\", \"eye\", \"fact\", \"fan\", \"fantasi\", \"father\", \"feel\", \"feel\", \"feel\", \"feel\", \"fight\", \"fight\", \"fight\", \"fight\", \"fight\", \"film\", \"film\", \"film\", \"film\", \"film\", \"final\", \"find\", \"find\", \"forc\", \"fortun\", \"fresh\", \"friend\", \"friend\", \"futur\", \"gener\", \"get\", \"get\", \"get\", \"get\", \"give\", \"give\", \"glad\", \"go\", \"go\", \"go\", \"go\", \"goal\", \"good\", \"good\", \"good\", \"good\", \"good\", \"great\", \"great\", \"great\", \"ground\", \"guess\", \"guy\", \"guy\", \"half\", \"half\", \"hate\", \"hate\", \"heavi\", \"heavili\", \"help\", \"henchman\", \"hero\", \"hero\", \"hide\", \"high\", \"histori\", \"hit\", \"hit\", \"hold\", \"hold\", \"hole\", \"hole\", \"hour\", \"howev\", \"huge\", \"humour\", \"immort\", \"impecc\", \"insan\", \"instal\", \"interest\", \"introduct\", \"invest\", \"invest\", \"iron_man\", \"jar\", \"just\", \"just\", \"just\", \"just\", \"just\", \"karaok\", \"keep\", \"kind\", \"lack\", \"land\", \"later\", \"laugh\", \"laugh\", \"laugh\", \"lead\", \"lead\", \"leader\", \"least\", \"less\", \"level\", \"life\", \"life\", \"likeabl\", \"line\", \"liter\", \"live\", \"long\", \"look\", \"look\", \"look\", \"look\", \"look\", \"lose\", \"lose\", \"lose\", \"lot\", \"lot\", \"lot\", \"lot\", \"love\", \"love\", \"love\", \"low\", \"low\", \"magic\", \"main\", \"make\", \"make\", \"make\", \"make\", \"man\", \"man\", \"mani\", \"marvel\", \"marvel\", \"marvel\", \"master\", \"matter\", \"mean\", \"mean\", \"mean\", \"migrant\", \"minut\", \"minut\", \"miss\", \"mistaken\", \"mix\", \"moment\", \"moment\", \"monster\", \"move\", \"movi\", \"movi\", \"movi\", \"movi\", \"movi\", \"movi\", \"much\", \"much\", \"much\", \"much\", \"music\", \"mysteri\", \"mythic\", \"mytholog\", \"n\", \"next\", \"nice\", \"nice\", \"now\", \"now\", \"now\", \"number\", \"offer\", \"old\", \"old\", \"old\", \"open\", \"open\", \"organi\", \"origin\", \"origin\", \"other\", \"overal\", \"pace\", \"pace\", \"part\", \"part\", \"peopl\", \"peopl\", \"peopl\", \"perfect\", \"perform\", \"perform\", \"phase\", \"phase\", \"play\", \"play\", \"play\", \"plot\", \"plot\", \"plot\", \"point\", \"point\", \"pop\", \"power\", \"power\", \"power\", \"power\", \"predict\", \"predict\", \"pretti\", \"preview\", \"problem\", \"promo\", \"purpos\", \"quit\", \"rate\", \"rate\", \"rather\", \"realli\", \"realm\", \"reason\", \"regard\", \"regret\", \"relief\", \"remind\", \"return\", \"ridicul\", \"role\", \"role\", \"role\", \"run\", \"run\", \"run\", \"say\", \"say\", \"scaffold\", \"scene\", \"scene\", \"scene\", \"scene\", \"score\", \"screen\", \"screen\", \"script\", \"script\", \"second\", \"second\", \"see\", \"see\", \"see\", \"see\", \"see\", \"seem\", \"seem\", \"seldom\", \"sen\", \"send\", \"sequenc\", \"set\", \"sever\", \"sever\", \"shut\", \"sidekick\", \"simu_liu\", \"singl\", \"slow\", \"solid\", \"somewhat\", \"son\", \"soon\", \"soul\", \"soul\", \"sound\", \"soundtrack\", \"special\", \"special\", \"spoiler\", \"stare\", \"start\", \"start\", \"start\", \"start\", \"stop\", \"stori\", \"stori\", \"stori\", \"stori\", \"strong\", \"style\", \"style\", \"stylish\", \"superhero\", \"superhero\", \"superhero\", \"support\", \"support\", \"support\", \"suppos\", \"suppos\", \"sure\", \"sure\", \"surpris\", \"t\", \"t\", \"t\", \"take\", \"take\", \"ten_re\", \"theatric\", \"theme\", \"theme\", \"think\", \"think\", \"think\", \"think\", \"think\", \"thor\", \"throw\", \"time\", \"time\", \"time\", \"time\", \"time\", \"today\", \"top\", \"top\", \"touch\", \"train\", \"train\", \"train\", \"treat\", \"treatment\", \"tv\", \"type\", \"understand\", \"understand\", \"univer\", \"univer\", \"usual\", \"usual\", \"villain\", \"villain\", \"villain\", \"visual\", \"visual\", \"visual\", \"visual\", \"wake\", \"want\", \"wasn\", \"watch\", \"watch\", \"watch\", \"watch\", \"way\", \"way\", \"way\", \"way\", \"well\", \"well\", \"well\", \"whole\", \"whole\", \"whole\", \"widow\", \"wife\", \"wife\", \"wish\", \"world\", \"world\", \"worth\", \"worth\", \"worth\", \"worth\", \"write\", \"write\", \"writer\", \"year\", \"year\", \"year\", \"year\", \"young\"]}, \"R\": 30, \"lambda.step\": 0.01, \"plot.opts\": {\"xlab\": \"PC1\", \"ylab\": \"PC2\"}, \"topic.order\": [7, 3, 5, 1, 8, 2, 10, 6, 9, 4]};\n",
       "\n",
       "function LDAvis_load_lib(url, callback){\n",
       "  var s = document.createElement('script');\n",
       "  s.src = url;\n",
       "  s.async = true;\n",
       "  s.onreadystatechange = s.onload = callback;\n",
       "  s.onerror = function(){console.warn(\"failed to load library \" + url);};\n",
       "  document.getElementsByTagName(\"head\")[0].appendChild(s);\n",
       "}\n",
       "\n",
       "if(typeof(LDAvis) !== \"undefined\"){\n",
       "   // already loaded: just create the visualization\n",
       "   !function(LDAvis){\n",
       "       new LDAvis(\"#\" + \"ldavis_el2237851403713909368967395013239\", ldavis_el2237851403713909368967395013239_data);\n",
       "   }(LDAvis);\n",
       "}else if(typeof define === \"function\" && define.amd){\n",
       "   // require.js is available: use it to load d3/LDAvis\n",
       "   require.config({paths: {d3: \"https://d3js.org/d3.v5\"}});\n",
       "   require([\"d3\"], function(d3){\n",
       "      window.d3 = d3;\n",
       "      LDAvis_load_lib(\"https://cdn.jsdelivr.net/gh/bmabey/pyLDAvis@3.4.0/pyLDAvis/js/ldavis.v3.0.0.js\", function(){\n",
       "        new LDAvis(\"#\" + \"ldavis_el2237851403713909368967395013239\", ldavis_el2237851403713909368967395013239_data);\n",
       "      });\n",
       "    });\n",
       "}else{\n",
       "    // require.js not available: dynamically load d3 & LDAvis\n",
       "    LDAvis_load_lib(\"https://d3js.org/d3.v5.js\", function(){\n",
       "         LDAvis_load_lib(\"https://cdn.jsdelivr.net/gh/bmabey/pyLDAvis@3.4.0/pyLDAvis/js/ldavis.v3.0.0.js\", function(){\n",
       "                 new LDAvis(\"#\" + \"ldavis_el2237851403713909368967395013239\", ldavis_el2237851403713909368967395013239_data);\n",
       "            })\n",
       "         });\n",
       "}\n",
       "</script>"
      ],
      "text/plain": [
       "PreparedData(topic_coordinates=              x         y  topics  cluster       Freq\n",
       "topic                                                \n",
       "6      0.159959  0.074700       1        1  37.095211\n",
       "2      0.250261  0.038827       2        1  29.358012\n",
       "4      0.063308 -0.234907       3        1  11.128411\n",
       "0     -0.039170  0.019768       4        1   7.763641\n",
       "7     -0.014066  0.037171       5        1   4.345296\n",
       "1     -0.070639  0.005638       6        1   3.302917\n",
       "9     -0.086378  0.025078       7        1   2.576442\n",
       "5     -0.099709  0.012753       8        1   2.170451\n",
       "8     -0.093300  0.008142       9        1   1.405643\n",
       "3     -0.070267  0.012830      10        1   0.853977, topic_info=        Term       Freq      Total Category  logprob  loglift\n",
       "9    charact  41.000000  41.000000  Default  30.0000  30.0000\n",
       "63     stori  57.000000  57.000000  Default  29.0000  29.0000\n",
       "160    scene  42.000000  42.000000  Default  28.0000  28.0000\n",
       "56       see  52.000000  52.000000  Default  27.0000  27.0000\n",
       "136      bad  20.000000  20.000000  Default  26.0000  26.0000\n",
       "..       ...        ...        ...      ...      ...      ...\n",
       "192       go   0.341770  21.428558  Topic10  -4.8110   0.6247\n",
       "301    point   0.196432   8.736764  Topic10  -5.3649   0.9680\n",
       "223   direct   0.167143   6.543818  Topic10  -5.5263   1.0956\n",
       "133    watch   0.194166  35.331449  Topic10  -5.3765  -0.4408\n",
       "76     write   0.166981  10.033805  Topic10  -5.5273   0.6672\n",
       "\n",
       "[515 rows x 6 columns], token_table=      Topic      Freq     Term\n",
       "term                          \n",
       "254       1  0.910074  absolut\n",
       "169       4  0.819803   accept\n",
       "0         1  0.625035      act\n",
       "0         2  0.312517      act\n",
       "1         1  0.496166   action\n",
       "...     ...       ...      ...\n",
       "305       1  0.472483     year\n",
       "305       2  0.236242     year\n",
       "305       4  0.177181     year\n",
       "305       6  0.059060     year\n",
       "876       2  0.770334    young\n",
       "\n",
       "[543 rows x 3 columns], R=30, lambda_step=0.01, plot_opts={'xlab': 'PC1', 'ylab': 'PC2'}, topic_order=[7, 3, 5, 1, 8, 2, 10, 6, 9, 4])"
      ]
     },
     "execution_count": 24,
     "metadata": {},
     "output_type": "execute_result"
    }
   ],
   "source": [
    "vis"
   ]
  },
  {
   "cell_type": "markdown",
   "metadata": {},
   "source": [
    "## LSA"
   ]
  },
  {
   "cell_type": "code",
   "execution_count": 25,
   "metadata": {},
   "outputs": [
    {
     "name": "stderr",
     "output_type": "stream",
     "text": [
      "/home/joelnyongesa/anaconda3/lib/python3.9/site-packages/gensim/models/lsimodel.py:932: DeprecationWarning: `scipy.sparse.sparsetools.csc_matvecs` is deprecated along with the `scipy.sparse.sparsetools` namespace. `scipy.sparse.sparsetools.csc_matvecs` will be removed in SciPy 1.14.0, and the `scipy.sparse.sparsetools` namespace will be removed in SciPy 2.0.0.\n",
      "  sparsetools.csc_matvecs(m, n, samples, corpus.indptr, corpus.indices,\n",
      "/home/joelnyongesa/anaconda3/lib/python3.9/site-packages/scipy/linalg/_special_matrices.py:154: DeprecationWarning: 'tri'/'tril/'triu' are deprecated as of SciPy 1.11.0 and will be removed in v1.13.0. Please use numpy.(tri/tril/triu) instead.\n",
      "  out = (1 - tri(m.shape[0], m.shape[1], k - 1, m.dtype.char)) * m\n",
      "/home/joelnyongesa/anaconda3/lib/python3.9/site-packages/scipy/linalg/_special_matrices.py:154: DeprecationWarning: 'tri'/'tril/'triu' are deprecated as of SciPy 1.11.0 and will be removed in v1.13.0. Please use numpy.(tri/tril/triu) instead.\n",
      "  out = (1 - tri(m.shape[0], m.shape[1], k - 1, m.dtype.char)) * m\n",
      "/home/joelnyongesa/anaconda3/lib/python3.9/site-packages/scipy/linalg/_special_matrices.py:154: DeprecationWarning: 'tri'/'tril/'triu' are deprecated as of SciPy 1.11.0 and will be removed in v1.13.0. Please use numpy.(tri/tril/triu) instead.\n",
      "  out = (1 - tri(m.shape[0], m.shape[1], k - 1, m.dtype.char)) * m\n"
     ]
    }
   ],
   "source": [
    "lsamodel = models.LsiModel(corpus, num_topics = 20, id2word = id2word)"
   ]
  },
  {
   "cell_type": "code",
   "execution_count": 26,
   "metadata": {},
   "outputs": [
    {
     "name": "stdout",
     "output_type": "stream",
     "text": [
      "[(0,\n",
      "  '-0.447*\"movi\" + -0.266*\"good\" + -0.239*\"just\" + -0.222*\"marvel\" + '\n",
      "  '-0.215*\"fight\" + -0.187*\"make\" + -0.183*\"way\" + -0.172*\"see\" + -0.149*\"get\" '\n",
      "  '+ -0.144*\"charact\"'),\n",
      " (1,\n",
      "  '-0.324*\"marvel\" + 0.216*\"movi\" + -0.212*\"film\" + 0.211*\"villain\" + '\n",
      "  '0.192*\"asian\" + 0.181*\"chine\" + -0.163*\"stori\" + 0.140*\"make\" + '\n",
      "  '-0.120*\"start\" + 0.119*\"blend\"'),\n",
      " (2,\n",
      "  '-0.320*\"movi\" + 0.253*\"way\" + -0.252*\"good\" + 0.191*\"chine\" + '\n",
      "  '-0.170*\"great\" + 0.159*\"get\" + 0.149*\"cour\" + -0.144*\"stori\" + 0.137*\"type\" '\n",
      "  '+ -0.133*\"action\"'),\n",
      " (3,\n",
      "  '-0.381*\"good\" + 0.312*\"film\" + -0.176*\"also\" + 0.175*\"fight\" + '\n",
      "  '0.174*\"action\" + 0.149*\"way\" + -0.139*\"make\" + 0.139*\"just\" + '\n",
      "  '-0.136*\"watch\" + 0.121*\"power\"'),\n",
      " (4,\n",
      "  '-0.488*\"movi\" + 0.359*\"fight\" + -0.296*\"marvel\" + 0.255*\"scene\" + '\n",
      "  '0.189*\"stori\" + 0.171*\"much\" + 0.170*\"great\" + 0.143*\"good\" + -0.128*\"just\" '\n",
      "  '+ 0.125*\"way\"'),\n",
      " (5,\n",
      "  '0.370*\"stori\" + -0.264*\"also\" + 0.192*\"fight\" + -0.162*\"well\" + '\n",
      "  '-0.161*\"much\" + 0.157*\"good\" + -0.141*\"quit\" + -0.139*\"plot\" + '\n",
      "  '-0.137*\"make\" + -0.134*\"tea\"'),\n",
      " (6,\n",
      "  '-0.394*\"film\" + -0.356*\"good\" + 0.320*\"great\" + 0.221*\"movi\" + 0.218*\"see\" '\n",
      "  '+ 0.139*\"action\" + 0.116*\"scene\" + -0.112*\"just\" + -0.112*\"marvel\" + '\n",
      "  '-0.102*\"think\"'),\n",
      " (7,\n",
      "  '-0.470*\"feel\" + 0.255*\"marvel\" + -0.232*\"charact\" + -0.201*\"action\" + '\n",
      "  '-0.165*\"even\" + 0.159*\"look\" + -0.146*\"plot\" + 0.133*\"fight\" + '\n",
      "  '-0.117*\"time\" + -0.116*\"wasn\"'),\n",
      " (8,\n",
      "  '0.279*\"marvel\" + 0.244*\"good\" + -0.235*\"just\" + 0.224*\"see\" + '\n",
      "  '-0.186*\"scene\" + 0.144*\"way\" + 0.134*\"usual\" + 0.128*\"effect\" + 0.128*\"lot\" '\n",
      "  '+ 0.124*\"well\"'),\n",
      " (9,\n",
      "  '-0.326*\"well\" + 0.281*\"good\" + -0.260*\"marvel\" + 0.198*\"get\" + '\n",
      "  '-0.149*\"think\" + -0.145*\"univer\" + -0.140*\"great\" + -0.133*\"scene\" + '\n",
      "  '0.131*\"give\" + 0.131*\"see\"')]\n"
     ]
    }
   ],
   "source": [
    "pprint(lsamodel.print_topics(num_topics = 10))"
   ]
  },
  {
   "cell_type": "code",
   "execution_count": 27,
   "metadata": {
    "scrolled": false
   },
   "outputs": [
    {
     "name": "stdout",
     "output_type": "stream",
     "text": [
      "LSA Model with 2 topics:\n",
      "[(0,\n",
      "  '-0.447*\"movi\" + -0.266*\"good\" + -0.239*\"just\" + -0.222*\"marvel\" + '\n",
      "  '-0.215*\"fight\" + -0.187*\"make\" + -0.183*\"way\" + -0.172*\"see\" + -0.149*\"get\" '\n",
      "  '+ -0.144*\"charact\"'),\n",
      " (1,\n",
      "  '0.324*\"marvel\" + -0.216*\"movi\" + 0.212*\"film\" + -0.211*\"villain\" + '\n",
      "  '-0.192*\"asian\" + -0.181*\"chine\" + 0.163*\"stori\" + -0.140*\"make\" + '\n",
      "  '0.120*\"start\" + -0.119*\"blend\"')]\n"
     ]
    },
    {
     "name": "stderr",
     "output_type": "stream",
     "text": [
      "/home/joelnyongesa/anaconda3/lib/python3.9/site-packages/gensim/models/lsimodel.py:932: DeprecationWarning: `scipy.sparse.sparsetools.csc_matvecs` is deprecated along with the `scipy.sparse.sparsetools` namespace. `scipy.sparse.sparsetools.csc_matvecs` will be removed in SciPy 1.14.0, and the `scipy.sparse.sparsetools` namespace will be removed in SciPy 2.0.0.\n",
      "  sparsetools.csc_matvecs(m, n, samples, corpus.indptr, corpus.indices,\n",
      "/home/joelnyongesa/anaconda3/lib/python3.9/site-packages/scipy/linalg/_special_matrices.py:154: DeprecationWarning: 'tri'/'tril/'triu' are deprecated as of SciPy 1.11.0 and will be removed in v1.13.0. Please use numpy.(tri/tril/triu) instead.\n",
      "  out = (1 - tri(m.shape[0], m.shape[1], k - 1, m.dtype.char)) * m\n",
      "/home/joelnyongesa/anaconda3/lib/python3.9/site-packages/scipy/linalg/_special_matrices.py:154: DeprecationWarning: 'tri'/'tril/'triu' are deprecated as of SciPy 1.11.0 and will be removed in v1.13.0. Please use numpy.(tri/tril/triu) instead.\n",
      "  out = (1 - tri(m.shape[0], m.shape[1], k - 1, m.dtype.char)) * m\n",
      "/home/joelnyongesa/anaconda3/lib/python3.9/site-packages/scipy/linalg/_special_matrices.py:154: DeprecationWarning: 'tri'/'tril/'triu' are deprecated as of SciPy 1.11.0 and will be removed in v1.13.0. Please use numpy.(tri/tril/triu) instead.\n",
      "  out = (1 - tri(m.shape[0], m.shape[1], k - 1, m.dtype.char)) * m\n"
     ]
    },
    {
     "name": "stdout",
     "output_type": "stream",
     "text": [
      "Coherence Value for 2 topics: nan\n",
      "LSA Model with 3 topics:\n",
      "[(0,\n",
      "  '-0.447*\"movi\" + -0.266*\"good\" + -0.239*\"just\" + -0.222*\"marvel\" + '\n",
      "  '-0.215*\"fight\" + -0.187*\"make\" + -0.183*\"way\" + -0.172*\"see\" + -0.149*\"get\" '\n",
      "  '+ -0.144*\"charact\"'),\n",
      " (1,\n",
      "  '0.324*\"marvel\" + -0.216*\"movi\" + 0.212*\"film\" + -0.211*\"villain\" + '\n",
      "  '-0.192*\"asian\" + -0.181*\"chine\" + 0.163*\"stori\" + -0.140*\"make\" + '\n",
      "  '0.120*\"start\" + -0.119*\"blend\"'),\n",
      " (2,\n",
      "  '0.320*\"movi\" + -0.253*\"way\" + 0.252*\"good\" + -0.191*\"chine\" + 0.170*\"great\" '\n",
      "  '+ -0.159*\"get\" + -0.149*\"cour\" + 0.144*\"stori\" + -0.137*\"type\" + '\n",
      "  '0.133*\"action\"')]\n"
     ]
    },
    {
     "name": "stderr",
     "output_type": "stream",
     "text": [
      "/home/joelnyongesa/anaconda3/lib/python3.9/site-packages/gensim/topic_coherence/direct_confirmation_measure.py:204: RuntimeWarning: divide by zero encountered in scalar divide\n",
      "  m_lr_i = np.log(numerator / denominator)\n",
      "/home/joelnyongesa/anaconda3/lib/python3.9/site-packages/gensim/topic_coherence/indirect_confirmation_measure.py:323: RuntimeWarning: invalid value encountered in scalar divide\n",
      "  return cv1.T.dot(cv2)[0, 0] / (_magnitude(cv1) * _magnitude(cv2))\n",
      "/home/joelnyongesa/anaconda3/lib/python3.9/site-packages/gensim/models/lsimodel.py:932: DeprecationWarning: `scipy.sparse.sparsetools.csc_matvecs` is deprecated along with the `scipy.sparse.sparsetools` namespace. `scipy.sparse.sparsetools.csc_matvecs` will be removed in SciPy 1.14.0, and the `scipy.sparse.sparsetools` namespace will be removed in SciPy 2.0.0.\n",
      "  sparsetools.csc_matvecs(m, n, samples, corpus.indptr, corpus.indices,\n",
      "/home/joelnyongesa/anaconda3/lib/python3.9/site-packages/scipy/linalg/_special_matrices.py:154: DeprecationWarning: 'tri'/'tril/'triu' are deprecated as of SciPy 1.11.0 and will be removed in v1.13.0. Please use numpy.(tri/tril/triu) instead.\n",
      "  out = (1 - tri(m.shape[0], m.shape[1], k - 1, m.dtype.char)) * m\n",
      "/home/joelnyongesa/anaconda3/lib/python3.9/site-packages/scipy/linalg/_special_matrices.py:154: DeprecationWarning: 'tri'/'tril/'triu' are deprecated as of SciPy 1.11.0 and will be removed in v1.13.0. Please use numpy.(tri/tril/triu) instead.\n",
      "  out = (1 - tri(m.shape[0], m.shape[1], k - 1, m.dtype.char)) * m\n",
      "/home/joelnyongesa/anaconda3/lib/python3.9/site-packages/scipy/linalg/_special_matrices.py:154: DeprecationWarning: 'tri'/'tril/'triu' are deprecated as of SciPy 1.11.0 and will be removed in v1.13.0. Please use numpy.(tri/tril/triu) instead.\n",
      "  out = (1 - tri(m.shape[0], m.shape[1], k - 1, m.dtype.char)) * m\n"
     ]
    },
    {
     "name": "stdout",
     "output_type": "stream",
     "text": [
      "Coherence Value for 3 topics: nan\n",
      "LSA Model with 4 topics:\n",
      "[(0,\n",
      "  '-0.447*\"movi\" + -0.266*\"good\" + -0.239*\"just\" + -0.222*\"marvel\" + '\n",
      "  '-0.215*\"fight\" + -0.187*\"make\" + -0.183*\"way\" + -0.172*\"see\" + -0.149*\"get\" '\n",
      "  '+ -0.144*\"charact\"'),\n",
      " (1,\n",
      "  '-0.324*\"marvel\" + 0.216*\"movi\" + -0.212*\"film\" + 0.211*\"villain\" + '\n",
      "  '0.192*\"asian\" + 0.181*\"chine\" + -0.163*\"stori\" + 0.140*\"make\" + '\n",
      "  '-0.120*\"start\" + 0.119*\"blend\"'),\n",
      " (2,\n",
      "  '0.320*\"movi\" + -0.253*\"way\" + 0.252*\"good\" + -0.191*\"chine\" + 0.170*\"great\" '\n",
      "  '+ -0.159*\"get\" + -0.149*\"cour\" + 0.144*\"stori\" + -0.137*\"type\" + '\n",
      "  '0.133*\"action\"'),\n",
      " (3,\n",
      "  '0.381*\"good\" + -0.312*\"film\" + 0.176*\"also\" + -0.175*\"fight\" + '\n",
      "  '-0.174*\"action\" + -0.149*\"way\" + 0.139*\"make\" + -0.139*\"just\" + '\n",
      "  '0.136*\"watch\" + -0.121*\"power\"')]\n"
     ]
    },
    {
     "name": "stderr",
     "output_type": "stream",
     "text": [
      "/home/joelnyongesa/anaconda3/lib/python3.9/site-packages/gensim/models/lsimodel.py:932: DeprecationWarning: `scipy.sparse.sparsetools.csc_matvecs` is deprecated along with the `scipy.sparse.sparsetools` namespace. `scipy.sparse.sparsetools.csc_matvecs` will be removed in SciPy 1.14.0, and the `scipy.sparse.sparsetools` namespace will be removed in SciPy 2.0.0.\n",
      "  sparsetools.csc_matvecs(m, n, samples, corpus.indptr, corpus.indices,\n",
      "/home/joelnyongesa/anaconda3/lib/python3.9/site-packages/scipy/linalg/_special_matrices.py:154: DeprecationWarning: 'tri'/'tril/'triu' are deprecated as of SciPy 1.11.0 and will be removed in v1.13.0. Please use numpy.(tri/tril/triu) instead.\n",
      "  out = (1 - tri(m.shape[0], m.shape[1], k - 1, m.dtype.char)) * m\n",
      "/home/joelnyongesa/anaconda3/lib/python3.9/site-packages/scipy/linalg/_special_matrices.py:154: DeprecationWarning: 'tri'/'tril/'triu' are deprecated as of SciPy 1.11.0 and will be removed in v1.13.0. Please use numpy.(tri/tril/triu) instead.\n",
      "  out = (1 - tri(m.shape[0], m.shape[1], k - 1, m.dtype.char)) * m\n",
      "/home/joelnyongesa/anaconda3/lib/python3.9/site-packages/scipy/linalg/_special_matrices.py:154: DeprecationWarning: 'tri'/'tril/'triu' are deprecated as of SciPy 1.11.0 and will be removed in v1.13.0. Please use numpy.(tri/tril/triu) instead.\n",
      "  out = (1 - tri(m.shape[0], m.shape[1], k - 1, m.dtype.char)) * m\n"
     ]
    },
    {
     "name": "stdout",
     "output_type": "stream",
     "text": [
      "Coherence Value for 4 topics: nan\n",
      "LSA Model with 5 topics:\n",
      "[(0,\n",
      "  '-0.447*\"movi\" + -0.266*\"good\" + -0.239*\"just\" + -0.222*\"marvel\" + '\n",
      "  '-0.215*\"fight\" + -0.187*\"make\" + -0.183*\"way\" + -0.172*\"see\" + -0.149*\"get\" '\n",
      "  '+ -0.144*\"charact\"'),\n",
      " (1,\n",
      "  '0.324*\"marvel\" + -0.216*\"movi\" + 0.212*\"film\" + -0.211*\"villain\" + '\n",
      "  '-0.192*\"asian\" + -0.181*\"chine\" + 0.163*\"stori\" + -0.140*\"make\" + '\n",
      "  '0.120*\"start\" + -0.119*\"blend\"'),\n",
      " (2,\n",
      "  '0.320*\"movi\" + -0.253*\"way\" + 0.252*\"good\" + -0.191*\"chine\" + 0.170*\"great\" '\n",
      "  '+ -0.159*\"get\" + -0.149*\"cour\" + 0.144*\"stori\" + -0.137*\"type\" + '\n",
      "  '0.133*\"action\"'),\n",
      " (3,\n",
      "  '0.381*\"good\" + -0.312*\"film\" + 0.176*\"also\" + -0.175*\"fight\" + '\n",
      "  '-0.174*\"action\" + -0.149*\"way\" + 0.139*\"make\" + -0.139*\"just\" + '\n",
      "  '0.136*\"watch\" + -0.121*\"power\"'),\n",
      " (4,\n",
      "  '-0.488*\"movi\" + 0.359*\"fight\" + -0.296*\"marvel\" + 0.255*\"scene\" + '\n",
      "  '0.189*\"stori\" + 0.171*\"much\" + 0.170*\"great\" + 0.143*\"good\" + -0.128*\"just\" '\n",
      "  '+ 0.125*\"way\"')]\n"
     ]
    },
    {
     "name": "stderr",
     "output_type": "stream",
     "text": [
      "/home/joelnyongesa/anaconda3/lib/python3.9/site-packages/gensim/models/lsimodel.py:932: DeprecationWarning: `scipy.sparse.sparsetools.csc_matvecs` is deprecated along with the `scipy.sparse.sparsetools` namespace. `scipy.sparse.sparsetools.csc_matvecs` will be removed in SciPy 1.14.0, and the `scipy.sparse.sparsetools` namespace will be removed in SciPy 2.0.0.\n",
      "  sparsetools.csc_matvecs(m, n, samples, corpus.indptr, corpus.indices,\n",
      "/home/joelnyongesa/anaconda3/lib/python3.9/site-packages/scipy/linalg/_special_matrices.py:154: DeprecationWarning: 'tri'/'tril/'triu' are deprecated as of SciPy 1.11.0 and will be removed in v1.13.0. Please use numpy.(tri/tril/triu) instead.\n",
      "  out = (1 - tri(m.shape[0], m.shape[1], k - 1, m.dtype.char)) * m\n",
      "/home/joelnyongesa/anaconda3/lib/python3.9/site-packages/scipy/linalg/_special_matrices.py:154: DeprecationWarning: 'tri'/'tril/'triu' are deprecated as of SciPy 1.11.0 and will be removed in v1.13.0. Please use numpy.(tri/tril/triu) instead.\n",
      "  out = (1 - tri(m.shape[0], m.shape[1], k - 1, m.dtype.char)) * m\n",
      "/home/joelnyongesa/anaconda3/lib/python3.9/site-packages/scipy/linalg/_special_matrices.py:154: DeprecationWarning: 'tri'/'tril/'triu' are deprecated as of SciPy 1.11.0 and will be removed in v1.13.0. Please use numpy.(tri/tril/triu) instead.\n",
      "  out = (1 - tri(m.shape[0], m.shape[1], k - 1, m.dtype.char)) * m\n"
     ]
    },
    {
     "name": "stdout",
     "output_type": "stream",
     "text": [
      "Coherence Value for 5 topics: nan\n",
      "LSA Model with 6 topics:\n",
      "[(0,\n",
      "  '-0.447*\"movi\" + -0.266*\"good\" + -0.239*\"just\" + -0.222*\"marvel\" + '\n",
      "  '-0.215*\"fight\" + -0.187*\"make\" + -0.183*\"way\" + -0.172*\"see\" + -0.149*\"get\" '\n",
      "  '+ -0.144*\"charact\"'),\n",
      " (1,\n",
      "  '0.324*\"marvel\" + -0.216*\"movi\" + 0.212*\"film\" + -0.211*\"villain\" + '\n",
      "  '-0.192*\"asian\" + -0.181*\"chine\" + 0.163*\"stori\" + -0.140*\"make\" + '\n",
      "  '0.120*\"start\" + -0.119*\"blend\"'),\n",
      " (2,\n",
      "  '-0.320*\"movi\" + 0.253*\"way\" + -0.252*\"good\" + 0.191*\"chine\" + '\n",
      "  '-0.170*\"great\" + 0.159*\"get\" + 0.149*\"cour\" + -0.144*\"stori\" + 0.137*\"type\" '\n",
      "  '+ -0.133*\"action\"'),\n",
      " (3,\n",
      "  '-0.381*\"good\" + 0.312*\"film\" + -0.176*\"also\" + 0.175*\"fight\" + '\n",
      "  '0.174*\"action\" + 0.149*\"way\" + -0.139*\"make\" + 0.139*\"just\" + '\n",
      "  '-0.136*\"watch\" + 0.121*\"power\"'),\n",
      " (4,\n",
      "  '-0.488*\"movi\" + 0.359*\"fight\" + -0.296*\"marvel\" + 0.255*\"scene\" + '\n",
      "  '0.189*\"stori\" + 0.171*\"much\" + 0.170*\"great\" + 0.143*\"good\" + -0.128*\"just\" '\n",
      "  '+ 0.125*\"way\"'),\n",
      " (5,\n",
      "  '-0.370*\"stori\" + 0.264*\"also\" + -0.192*\"fight\" + 0.162*\"well\" + '\n",
      "  '0.161*\"much\" + -0.157*\"good\" + 0.141*\"quit\" + 0.139*\"plot\" + 0.137*\"make\" + '\n",
      "  '0.134*\"tea\"')]\n"
     ]
    },
    {
     "name": "stderr",
     "output_type": "stream",
     "text": [
      "/home/joelnyongesa/anaconda3/lib/python3.9/site-packages/gensim/models/lsimodel.py:932: DeprecationWarning: `scipy.sparse.sparsetools.csc_matvecs` is deprecated along with the `scipy.sparse.sparsetools` namespace. `scipy.sparse.sparsetools.csc_matvecs` will be removed in SciPy 1.14.0, and the `scipy.sparse.sparsetools` namespace will be removed in SciPy 2.0.0.\n",
      "  sparsetools.csc_matvecs(m, n, samples, corpus.indptr, corpus.indices,\n",
      "/home/joelnyongesa/anaconda3/lib/python3.9/site-packages/scipy/linalg/_special_matrices.py:154: DeprecationWarning: 'tri'/'tril/'triu' are deprecated as of SciPy 1.11.0 and will be removed in v1.13.0. Please use numpy.(tri/tril/triu) instead.\n",
      "  out = (1 - tri(m.shape[0], m.shape[1], k - 1, m.dtype.char)) * m\n",
      "/home/joelnyongesa/anaconda3/lib/python3.9/site-packages/scipy/linalg/_special_matrices.py:154: DeprecationWarning: 'tri'/'tril/'triu' are deprecated as of SciPy 1.11.0 and will be removed in v1.13.0. Please use numpy.(tri/tril/triu) instead.\n",
      "  out = (1 - tri(m.shape[0], m.shape[1], k - 1, m.dtype.char)) * m\n",
      "/home/joelnyongesa/anaconda3/lib/python3.9/site-packages/scipy/linalg/_special_matrices.py:154: DeprecationWarning: 'tri'/'tril/'triu' are deprecated as of SciPy 1.11.0 and will be removed in v1.13.0. Please use numpy.(tri/tril/triu) instead.\n",
      "  out = (1 - tri(m.shape[0], m.shape[1], k - 1, m.dtype.char)) * m\n"
     ]
    },
    {
     "name": "stdout",
     "output_type": "stream",
     "text": [
      "Coherence Value for 6 topics: nan\n"
     ]
    },
    {
     "name": "stderr",
     "output_type": "stream",
     "text": [
      "/home/joelnyongesa/anaconda3/lib/python3.9/site-packages/gensim/models/lsimodel.py:932: DeprecationWarning: `scipy.sparse.sparsetools.csc_matvecs` is deprecated along with the `scipy.sparse.sparsetools` namespace. `scipy.sparse.sparsetools.csc_matvecs` will be removed in SciPy 1.14.0, and the `scipy.sparse.sparsetools` namespace will be removed in SciPy 2.0.0.\n",
      "  sparsetools.csc_matvecs(m, n, samples, corpus.indptr, corpus.indices,\n",
      "/home/joelnyongesa/anaconda3/lib/python3.9/site-packages/scipy/linalg/_special_matrices.py:154: DeprecationWarning: 'tri'/'tril/'triu' are deprecated as of SciPy 1.11.0 and will be removed in v1.13.0. Please use numpy.(tri/tril/triu) instead.\n",
      "  out = (1 - tri(m.shape[0], m.shape[1], k - 1, m.dtype.char)) * m\n",
      "/home/joelnyongesa/anaconda3/lib/python3.9/site-packages/scipy/linalg/_special_matrices.py:154: DeprecationWarning: 'tri'/'tril/'triu' are deprecated as of SciPy 1.11.0 and will be removed in v1.13.0. Please use numpy.(tri/tril/triu) instead.\n",
      "  out = (1 - tri(m.shape[0], m.shape[1], k - 1, m.dtype.char)) * m\n",
      "/home/joelnyongesa/anaconda3/lib/python3.9/site-packages/scipy/linalg/_special_matrices.py:154: DeprecationWarning: 'tri'/'tril/'triu' are deprecated as of SciPy 1.11.0 and will be removed in v1.13.0. Please use numpy.(tri/tril/triu) instead.\n",
      "  out = (1 - tri(m.shape[0], m.shape[1], k - 1, m.dtype.char)) * m\n"
     ]
    },
    {
     "name": "stdout",
     "output_type": "stream",
     "text": [
      "LSA Model with 7 topics:\n",
      "[(0,\n",
      "  '-0.447*\"movi\" + -0.266*\"good\" + -0.239*\"just\" + -0.222*\"marvel\" + '\n",
      "  '-0.215*\"fight\" + -0.187*\"make\" + -0.183*\"way\" + -0.172*\"see\" + -0.149*\"get\" '\n",
      "  '+ -0.144*\"charact\"'),\n",
      " (1,\n",
      "  '-0.324*\"marvel\" + 0.216*\"movi\" + -0.212*\"film\" + 0.211*\"villain\" + '\n",
      "  '0.192*\"asian\" + 0.181*\"chine\" + -0.163*\"stori\" + 0.140*\"make\" + '\n",
      "  '-0.120*\"start\" + 0.119*\"blend\"'),\n",
      " (2,\n",
      "  '-0.320*\"movi\" + 0.253*\"way\" + -0.252*\"good\" + 0.191*\"chine\" + '\n",
      "  '-0.170*\"great\" + 0.159*\"get\" + 0.149*\"cour\" + -0.144*\"stori\" + 0.137*\"type\" '\n",
      "  '+ -0.133*\"action\"'),\n",
      " (3,\n",
      "  '-0.381*\"good\" + 0.312*\"film\" + -0.176*\"also\" + 0.175*\"fight\" + '\n",
      "  '0.174*\"action\" + 0.149*\"way\" + -0.139*\"make\" + 0.139*\"just\" + '\n",
      "  '-0.136*\"watch\" + 0.121*\"power\"'),\n",
      " (4,\n",
      "  '0.488*\"movi\" + -0.359*\"fight\" + 0.296*\"marvel\" + -0.255*\"scene\" + '\n",
      "  '-0.189*\"stori\" + -0.171*\"much\" + -0.170*\"great\" + -0.143*\"good\" + '\n",
      "  '0.128*\"just\" + -0.125*\"way\"'),\n",
      " (5,\n",
      "  '0.370*\"stori\" + -0.264*\"also\" + 0.192*\"fight\" + -0.162*\"well\" + '\n",
      "  '-0.161*\"much\" + 0.157*\"good\" + -0.141*\"quit\" + -0.139*\"plot\" + '\n",
      "  '-0.137*\"make\" + -0.134*\"tea\"'),\n",
      " (6,\n",
      "  '0.394*\"film\" + 0.356*\"good\" + -0.320*\"great\" + -0.221*\"movi\" + -0.218*\"see\" '\n",
      "  '+ -0.139*\"action\" + -0.116*\"scene\" + 0.112*\"just\" + 0.112*\"marvel\" + '\n",
      "  '0.102*\"think\"')]\n",
      "Coherence Value for 7 topics: nan\n",
      "LSA Model with 8 topics:\n",
      "[(0,\n",
      "  '-0.447*\"movi\" + -0.266*\"good\" + -0.239*\"just\" + -0.222*\"marvel\" + '\n",
      "  '-0.215*\"fight\" + -0.187*\"make\" + -0.183*\"way\" + -0.172*\"see\" + -0.149*\"get\" '\n",
      "  '+ -0.144*\"charact\"'),\n",
      " (1,\n",
      "  '-0.324*\"marvel\" + 0.216*\"movi\" + -0.212*\"film\" + 0.211*\"villain\" + '\n",
      "  '0.192*\"asian\" + 0.181*\"chine\" + -0.163*\"stori\" + 0.140*\"make\" + '\n",
      "  '-0.120*\"start\" + 0.119*\"blend\"'),\n",
      " (2,\n",
      "  '0.320*\"movi\" + -0.253*\"way\" + 0.252*\"good\" + -0.191*\"chine\" + 0.170*\"great\" '\n",
      "  '+ -0.159*\"get\" + -0.149*\"cour\" + 0.144*\"stori\" + -0.137*\"type\" + '\n",
      "  '0.133*\"action\"'),\n",
      " (3,\n",
      "  '0.381*\"good\" + -0.312*\"film\" + 0.176*\"also\" + -0.175*\"fight\" + '\n",
      "  '-0.174*\"action\" + -0.149*\"way\" + 0.139*\"make\" + -0.139*\"just\" + '\n",
      "  '0.136*\"watch\" + -0.121*\"power\"'),\n",
      " (4,\n",
      "  '0.488*\"movi\" + -0.359*\"fight\" + 0.296*\"marvel\" + -0.255*\"scene\" + '\n",
      "  '-0.189*\"stori\" + -0.171*\"much\" + -0.170*\"great\" + -0.143*\"good\" + '\n",
      "  '0.128*\"just\" + -0.125*\"way\"'),\n",
      " (5,\n",
      "  '-0.370*\"stori\" + 0.264*\"also\" + -0.192*\"fight\" + 0.162*\"well\" + '\n",
      "  '0.161*\"much\" + -0.157*\"good\" + 0.141*\"quit\" + 0.139*\"plot\" + 0.137*\"make\" + '\n",
      "  '0.134*\"tea\"'),\n",
      " (6,\n",
      "  '0.394*\"film\" + 0.356*\"good\" + -0.320*\"great\" + -0.221*\"movi\" + -0.218*\"see\" '\n",
      "  '+ -0.139*\"action\" + -0.116*\"scene\" + 0.112*\"just\" + 0.112*\"marvel\" + '\n",
      "  '0.102*\"think\"'),\n",
      " (7,\n",
      "  '0.470*\"feel\" + -0.255*\"marvel\" + 0.232*\"charact\" + 0.201*\"action\" + '\n",
      "  '0.165*\"even\" + -0.159*\"look\" + 0.146*\"plot\" + -0.133*\"fight\" + 0.117*\"time\" '\n",
      "  '+ 0.116*\"wasn\"')]\n"
     ]
    },
    {
     "name": "stderr",
     "output_type": "stream",
     "text": [
      "/home/joelnyongesa/anaconda3/lib/python3.9/site-packages/gensim/models/lsimodel.py:932: DeprecationWarning: `scipy.sparse.sparsetools.csc_matvecs` is deprecated along with the `scipy.sparse.sparsetools` namespace. `scipy.sparse.sparsetools.csc_matvecs` will be removed in SciPy 1.14.0, and the `scipy.sparse.sparsetools` namespace will be removed in SciPy 2.0.0.\n",
      "  sparsetools.csc_matvecs(m, n, samples, corpus.indptr, corpus.indices,\n",
      "/home/joelnyongesa/anaconda3/lib/python3.9/site-packages/scipy/linalg/_special_matrices.py:154: DeprecationWarning: 'tri'/'tril/'triu' are deprecated as of SciPy 1.11.0 and will be removed in v1.13.0. Please use numpy.(tri/tril/triu) instead.\n",
      "  out = (1 - tri(m.shape[0], m.shape[1], k - 1, m.dtype.char)) * m\n",
      "/home/joelnyongesa/anaconda3/lib/python3.9/site-packages/scipy/linalg/_special_matrices.py:154: DeprecationWarning: 'tri'/'tril/'triu' are deprecated as of SciPy 1.11.0 and will be removed in v1.13.0. Please use numpy.(tri/tril/triu) instead.\n",
      "  out = (1 - tri(m.shape[0], m.shape[1], k - 1, m.dtype.char)) * m\n",
      "/home/joelnyongesa/anaconda3/lib/python3.9/site-packages/scipy/linalg/_special_matrices.py:154: DeprecationWarning: 'tri'/'tril/'triu' are deprecated as of SciPy 1.11.0 and will be removed in v1.13.0. Please use numpy.(tri/tril/triu) instead.\n",
      "  out = (1 - tri(m.shape[0], m.shape[1], k - 1, m.dtype.char)) * m\n"
     ]
    },
    {
     "name": "stdout",
     "output_type": "stream",
     "text": [
      "Coherence Value for 8 topics: nan\n",
      "LSA Model with 9 topics:\n",
      "[(0,\n",
      "  '-0.447*\"movi\" + -0.266*\"good\" + -0.239*\"just\" + -0.222*\"marvel\" + '\n",
      "  '-0.215*\"fight\" + -0.187*\"make\" + -0.183*\"way\" + -0.172*\"see\" + -0.149*\"get\" '\n",
      "  '+ -0.144*\"charact\"'),\n",
      " (1,\n",
      "  '0.324*\"marvel\" + -0.216*\"movi\" + 0.212*\"film\" + -0.211*\"villain\" + '\n",
      "  '-0.192*\"asian\" + -0.181*\"chine\" + 0.163*\"stori\" + -0.140*\"make\" + '\n",
      "  '0.120*\"start\" + -0.119*\"blend\"'),\n",
      " (2,\n",
      "  '-0.320*\"movi\" + 0.253*\"way\" + -0.252*\"good\" + 0.191*\"chine\" + '\n",
      "  '-0.170*\"great\" + 0.159*\"get\" + 0.149*\"cour\" + -0.144*\"stori\" + 0.137*\"type\" '\n",
      "  '+ -0.133*\"action\"'),\n",
      " (3,\n",
      "  '-0.381*\"good\" + 0.312*\"film\" + -0.176*\"also\" + 0.175*\"fight\" + '\n",
      "  '0.174*\"action\" + 0.149*\"way\" + -0.139*\"make\" + 0.139*\"just\" + '\n",
      "  '-0.136*\"watch\" + 0.121*\"power\"'),\n",
      " (4,\n",
      "  '0.488*\"movi\" + -0.359*\"fight\" + 0.296*\"marvel\" + -0.255*\"scene\" + '\n",
      "  '-0.189*\"stori\" + -0.171*\"much\" + -0.170*\"great\" + -0.143*\"good\" + '\n",
      "  '0.128*\"just\" + -0.125*\"way\"'),\n",
      " (5,\n",
      "  '-0.370*\"stori\" + 0.264*\"also\" + -0.192*\"fight\" + 0.162*\"well\" + '\n",
      "  '0.161*\"much\" + -0.157*\"good\" + 0.141*\"quit\" + 0.139*\"plot\" + 0.137*\"make\" + '\n",
      "  '0.134*\"tea\"'),\n",
      " (6,\n",
      "  '-0.394*\"film\" + -0.356*\"good\" + 0.320*\"great\" + 0.221*\"movi\" + 0.218*\"see\" '\n",
      "  '+ 0.139*\"action\" + 0.116*\"scene\" + -0.112*\"just\" + -0.112*\"marvel\" + '\n",
      "  '-0.102*\"think\"'),\n",
      " (7,\n",
      "  '-0.470*\"feel\" + 0.255*\"marvel\" + -0.232*\"charact\" + -0.201*\"action\" + '\n",
      "  '-0.165*\"even\" + 0.159*\"look\" + -0.146*\"plot\" + 0.133*\"fight\" + '\n",
      "  '-0.117*\"time\" + -0.116*\"wasn\"'),\n",
      " (8,\n",
      "  '0.279*\"marvel\" + 0.244*\"good\" + -0.235*\"just\" + 0.224*\"see\" + '\n",
      "  '-0.186*\"scene\" + 0.144*\"way\" + 0.134*\"usual\" + 0.128*\"effect\" + 0.128*\"lot\" '\n",
      "  '+ 0.124*\"well\"')]\n"
     ]
    },
    {
     "name": "stderr",
     "output_type": "stream",
     "text": [
      "/home/joelnyongesa/anaconda3/lib/python3.9/site-packages/gensim/models/lsimodel.py:932: DeprecationWarning: `scipy.sparse.sparsetools.csc_matvecs` is deprecated along with the `scipy.sparse.sparsetools` namespace. `scipy.sparse.sparsetools.csc_matvecs` will be removed in SciPy 1.14.0, and the `scipy.sparse.sparsetools` namespace will be removed in SciPy 2.0.0.\n",
      "  sparsetools.csc_matvecs(m, n, samples, corpus.indptr, corpus.indices,\n",
      "/home/joelnyongesa/anaconda3/lib/python3.9/site-packages/scipy/linalg/_special_matrices.py:154: DeprecationWarning: 'tri'/'tril/'triu' are deprecated as of SciPy 1.11.0 and will be removed in v1.13.0. Please use numpy.(tri/tril/triu) instead.\n",
      "  out = (1 - tri(m.shape[0], m.shape[1], k - 1, m.dtype.char)) * m\n",
      "/home/joelnyongesa/anaconda3/lib/python3.9/site-packages/scipy/linalg/_special_matrices.py:154: DeprecationWarning: 'tri'/'tril/'triu' are deprecated as of SciPy 1.11.0 and will be removed in v1.13.0. Please use numpy.(tri/tril/triu) instead.\n",
      "  out = (1 - tri(m.shape[0], m.shape[1], k - 1, m.dtype.char)) * m\n",
      "/home/joelnyongesa/anaconda3/lib/python3.9/site-packages/scipy/linalg/_special_matrices.py:154: DeprecationWarning: 'tri'/'tril/'triu' are deprecated as of SciPy 1.11.0 and will be removed in v1.13.0. Please use numpy.(tri/tril/triu) instead.\n",
      "  out = (1 - tri(m.shape[0], m.shape[1], k - 1, m.dtype.char)) * m\n"
     ]
    },
    {
     "name": "stdout",
     "output_type": "stream",
     "text": [
      "Coherence Value for 9 topics: nan\n",
      "LSA Model with 10 topics:\n",
      "[(0,\n",
      "  '-0.447*\"movi\" + -0.266*\"good\" + -0.239*\"just\" + -0.222*\"marvel\" + '\n",
      "  '-0.215*\"fight\" + -0.187*\"make\" + -0.183*\"way\" + -0.172*\"see\" + -0.149*\"get\" '\n",
      "  '+ -0.144*\"charact\"'),\n",
      " (1,\n",
      "  '0.324*\"marvel\" + -0.216*\"movi\" + 0.212*\"film\" + -0.211*\"villain\" + '\n",
      "  '-0.192*\"asian\" + -0.181*\"chine\" + 0.163*\"stori\" + -0.140*\"make\" + '\n",
      "  '0.120*\"start\" + -0.119*\"blend\"'),\n",
      " (2,\n",
      "  '-0.320*\"movi\" + 0.253*\"way\" + -0.252*\"good\" + 0.191*\"chine\" + '\n",
      "  '-0.170*\"great\" + 0.159*\"get\" + 0.149*\"cour\" + -0.144*\"stori\" + 0.137*\"type\" '\n",
      "  '+ -0.133*\"action\"'),\n",
      " (3,\n",
      "  '0.381*\"good\" + -0.312*\"film\" + 0.176*\"also\" + -0.175*\"fight\" + '\n",
      "  '-0.174*\"action\" + -0.149*\"way\" + 0.139*\"make\" + -0.139*\"just\" + '\n",
      "  '0.136*\"watch\" + -0.121*\"power\"'),\n",
      " (4,\n",
      "  '0.488*\"movi\" + -0.359*\"fight\" + 0.296*\"marvel\" + -0.255*\"scene\" + '\n",
      "  '-0.189*\"stori\" + -0.171*\"much\" + -0.170*\"great\" + -0.143*\"good\" + '\n",
      "  '0.128*\"just\" + -0.125*\"way\"'),\n",
      " (5,\n",
      "  '0.370*\"stori\" + -0.264*\"also\" + 0.192*\"fight\" + -0.162*\"well\" + '\n",
      "  '-0.161*\"much\" + 0.157*\"good\" + -0.141*\"quit\" + -0.139*\"plot\" + '\n",
      "  '-0.137*\"make\" + -0.134*\"tea\"'),\n",
      " (6,\n",
      "  '-0.394*\"film\" + -0.356*\"good\" + 0.320*\"great\" + 0.221*\"movi\" + 0.218*\"see\" '\n",
      "  '+ 0.139*\"action\" + 0.116*\"scene\" + -0.112*\"just\" + -0.112*\"marvel\" + '\n",
      "  '-0.102*\"think\"'),\n",
      " (7,\n",
      "  '0.470*\"feel\" + -0.255*\"marvel\" + 0.232*\"charact\" + 0.201*\"action\" + '\n",
      "  '0.165*\"even\" + -0.159*\"look\" + 0.146*\"plot\" + -0.133*\"fight\" + 0.117*\"time\" '\n",
      "  '+ 0.116*\"wasn\"'),\n",
      " (8,\n",
      "  '-0.279*\"marvel\" + -0.244*\"good\" + 0.235*\"just\" + -0.224*\"see\" + '\n",
      "  '0.186*\"scene\" + -0.144*\"way\" + -0.134*\"usual\" + -0.128*\"effect\" + '\n",
      "  '-0.128*\"lot\" + -0.124*\"well\"'),\n",
      " (9,\n",
      "  '-0.326*\"well\" + 0.281*\"good\" + -0.260*\"marvel\" + 0.198*\"get\" + '\n",
      "  '-0.149*\"think\" + -0.145*\"univer\" + -0.140*\"great\" + -0.133*\"scene\" + '\n",
      "  '0.131*\"give\" + 0.131*\"see\"')]\n"
     ]
    },
    {
     "name": "stderr",
     "output_type": "stream",
     "text": [
      "/home/joelnyongesa/anaconda3/lib/python3.9/site-packages/gensim/models/lsimodel.py:932: DeprecationWarning: `scipy.sparse.sparsetools.csc_matvecs` is deprecated along with the `scipy.sparse.sparsetools` namespace. `scipy.sparse.sparsetools.csc_matvecs` will be removed in SciPy 1.14.0, and the `scipy.sparse.sparsetools` namespace will be removed in SciPy 2.0.0.\n",
      "  sparsetools.csc_matvecs(m, n, samples, corpus.indptr, corpus.indices,\n",
      "/home/joelnyongesa/anaconda3/lib/python3.9/site-packages/scipy/linalg/_special_matrices.py:154: DeprecationWarning: 'tri'/'tril/'triu' are deprecated as of SciPy 1.11.0 and will be removed in v1.13.0. Please use numpy.(tri/tril/triu) instead.\n",
      "  out = (1 - tri(m.shape[0], m.shape[1], k - 1, m.dtype.char)) * m\n",
      "/home/joelnyongesa/anaconda3/lib/python3.9/site-packages/scipy/linalg/_special_matrices.py:154: DeprecationWarning: 'tri'/'tril/'triu' are deprecated as of SciPy 1.11.0 and will be removed in v1.13.0. Please use numpy.(tri/tril/triu) instead.\n",
      "  out = (1 - tri(m.shape[0], m.shape[1], k - 1, m.dtype.char)) * m\n",
      "/home/joelnyongesa/anaconda3/lib/python3.9/site-packages/scipy/linalg/_special_matrices.py:154: DeprecationWarning: 'tri'/'tril/'triu' are deprecated as of SciPy 1.11.0 and will be removed in v1.13.0. Please use numpy.(tri/tril/triu) instead.\n",
      "  out = (1 - tri(m.shape[0], m.shape[1], k - 1, m.dtype.char)) * m\n"
     ]
    },
    {
     "name": "stdout",
     "output_type": "stream",
     "text": [
      "Coherence Value for 10 topics: nan\n",
      "LSA Model with 11 topics:\n",
      "[(0,\n",
      "  '-0.447*\"movi\" + -0.266*\"good\" + -0.239*\"just\" + -0.222*\"marvel\" + '\n",
      "  '-0.215*\"fight\" + -0.187*\"make\" + -0.183*\"way\" + -0.172*\"see\" + -0.149*\"get\" '\n",
      "  '+ -0.144*\"charact\"'),\n",
      " (1,\n",
      "  '-0.324*\"marvel\" + 0.216*\"movi\" + -0.212*\"film\" + 0.211*\"villain\" + '\n",
      "  '0.192*\"asian\" + 0.181*\"chine\" + -0.163*\"stori\" + 0.140*\"make\" + '\n",
      "  '-0.120*\"start\" + 0.119*\"blend\"'),\n",
      " (2,\n",
      "  '-0.320*\"movi\" + 0.253*\"way\" + -0.252*\"good\" + 0.191*\"chine\" + '\n",
      "  '-0.170*\"great\" + 0.159*\"get\" + 0.149*\"cour\" + -0.144*\"stori\" + 0.137*\"type\" '\n",
      "  '+ -0.133*\"action\"'),\n",
      " (3,\n",
      "  '0.381*\"good\" + -0.312*\"film\" + 0.176*\"also\" + -0.175*\"fight\" + '\n",
      "  '-0.174*\"action\" + -0.149*\"way\" + 0.139*\"make\" + -0.139*\"just\" + '\n",
      "  '0.136*\"watch\" + -0.121*\"power\"'),\n",
      " (4,\n",
      "  '-0.488*\"movi\" + 0.359*\"fight\" + -0.296*\"marvel\" + 0.255*\"scene\" + '\n",
      "  '0.189*\"stori\" + 0.171*\"much\" + 0.170*\"great\" + 0.143*\"good\" + -0.128*\"just\" '\n",
      "  '+ 0.125*\"way\"'),\n",
      " (5,\n",
      "  '0.370*\"stori\" + -0.264*\"also\" + 0.192*\"fight\" + -0.162*\"well\" + '\n",
      "  '-0.161*\"much\" + 0.157*\"good\" + -0.141*\"quit\" + -0.139*\"plot\" + '\n",
      "  '-0.137*\"make\" + -0.134*\"tea\"'),\n",
      " (6,\n",
      "  '-0.394*\"film\" + -0.356*\"good\" + 0.320*\"great\" + 0.221*\"movi\" + 0.218*\"see\" '\n",
      "  '+ 0.139*\"action\" + 0.116*\"scene\" + -0.112*\"just\" + -0.112*\"marvel\" + '\n",
      "  '-0.102*\"think\"'),\n",
      " (7,\n",
      "  '0.470*\"feel\" + -0.255*\"marvel\" + 0.232*\"charact\" + 0.201*\"action\" + '\n",
      "  '0.165*\"even\" + -0.159*\"look\" + 0.146*\"plot\" + -0.133*\"fight\" + 0.117*\"time\" '\n",
      "  '+ 0.116*\"wasn\"'),\n",
      " (8,\n",
      "  '-0.279*\"marvel\" + -0.244*\"good\" + 0.235*\"just\" + -0.224*\"see\" + '\n",
      "  '0.186*\"scene\" + -0.144*\"way\" + -0.134*\"usual\" + -0.128*\"effect\" + '\n",
      "  '-0.128*\"lot\" + -0.124*\"well\"'),\n",
      " (9,\n",
      "  '-0.326*\"well\" + 0.281*\"good\" + -0.260*\"marvel\" + 0.198*\"get\" + '\n",
      "  '-0.149*\"think\" + -0.145*\"univer\" + -0.140*\"great\" + -0.133*\"scene\" + '\n",
      "  '0.131*\"give\" + 0.131*\"see\"'),\n",
      " (10,\n",
      "  '-0.244*\"get\" + 0.243*\"action\" + -0.220*\"marvel\" + -0.203*\"time\" + '\n",
      "  '0.159*\"even\" + -0.154*\"stori\" + 0.148*\"good\" + -0.146*\"charact\" + '\n",
      "  '0.130*\"first\" + -0.130*\"watch\"')]\n"
     ]
    },
    {
     "name": "stderr",
     "output_type": "stream",
     "text": [
      "/home/joelnyongesa/anaconda3/lib/python3.9/site-packages/gensim/models/lsimodel.py:932: DeprecationWarning: `scipy.sparse.sparsetools.csc_matvecs` is deprecated along with the `scipy.sparse.sparsetools` namespace. `scipy.sparse.sparsetools.csc_matvecs` will be removed in SciPy 1.14.0, and the `scipy.sparse.sparsetools` namespace will be removed in SciPy 2.0.0.\n",
      "  sparsetools.csc_matvecs(m, n, samples, corpus.indptr, corpus.indices,\n",
      "/home/joelnyongesa/anaconda3/lib/python3.9/site-packages/scipy/linalg/_special_matrices.py:154: DeprecationWarning: 'tri'/'tril/'triu' are deprecated as of SciPy 1.11.0 and will be removed in v1.13.0. Please use numpy.(tri/tril/triu) instead.\n",
      "  out = (1 - tri(m.shape[0], m.shape[1], k - 1, m.dtype.char)) * m\n",
      "/home/joelnyongesa/anaconda3/lib/python3.9/site-packages/scipy/linalg/_special_matrices.py:154: DeprecationWarning: 'tri'/'tril/'triu' are deprecated as of SciPy 1.11.0 and will be removed in v1.13.0. Please use numpy.(tri/tril/triu) instead.\n",
      "  out = (1 - tri(m.shape[0], m.shape[1], k - 1, m.dtype.char)) * m\n",
      "/home/joelnyongesa/anaconda3/lib/python3.9/site-packages/scipy/linalg/_special_matrices.py:154: DeprecationWarning: 'tri'/'tril/'triu' are deprecated as of SciPy 1.11.0 and will be removed in v1.13.0. Please use numpy.(tri/tril/triu) instead.\n",
      "  out = (1 - tri(m.shape[0], m.shape[1], k - 1, m.dtype.char)) * m\n"
     ]
    },
    {
     "name": "stdout",
     "output_type": "stream",
     "text": [
      "Coherence Value for 11 topics: nan\n"
     ]
    },
    {
     "data": {
      "image/png": "[encoded data removed]",
      "text/plain": [
       "<Figure size 432x288 with 1 Axes>"
      ]
     },
     "metadata": {
      "needs_background": "light"
     },
     "output_type": "display_data"
    }
   ],
   "source": [
    "from gensim.models import CoherenceModel, LsiModel\n",
    "import numpy as np\n",
    "\n",
    "\n",
    "model_list = []\n",
    "coherence_values = []\n",
    "for num_topics in range(2, 12):\n",
    "    model = LsiModel(corpus, num_topics=num_topics, id2word=id2word)\n",
    "    model_list.append(model)\n",
    "    \n",
    "    print(f\"LSA Model with {num_topics} topics:\")\n",
    "    pprint(model.print_topics())\n",
    "    \n",
    "    coherencemodel = CoherenceModel(model=model, texts=data['Stemming'], dictionary=id2word, coherence='c_v')\n",
    "    coherence = coherencemodel.get_coherence()\n",
    "    \n",
    "    print(f\"Coherence Value for {num_topics} topics: {coherence}\")\n",
    "    \n",
    "    coherence_values.append(coherence)\n",
    "\n",
    "\n",
    "clean_coherence_values = [value if not np.isnan(value) else 0 for value in coherence_values]  # Replace nan with 0\n",
    "\n",
    "plt.plot(range(2, 12), clean_coherence_values)\n",
    "plt.xlabel(\"Number of Topics\")\n",
    "plt.ylabel(\"Coherence score\")\n",
    "plt.legend((\"coherence_values\"), loc='best')\n",
    "plt.show()"
   ]
  },
  {
   "cell_type": "markdown",
   "metadata": {},
   "source": [
    "## Summarization of LDA Topics\n",
    "\n",
    "### Topic 1: Evolving Cinema and Audience Expectations\n",
    "- **Key Terms:** see, movie, phase, seem, now\n",
    "- **Description:** Discussions revolve around the evolving phases of movies and how they are perceived by audiences now, with expressions of affection and humor.\n",
    "\n",
    "### Topic 2: Cinematic Experience and Historical Impact\n",
    "- **Key Terms:** cinema, bad, low, come, friend\n",
    "- **Description:** Commentary on cinema experiences, possibly those considered to be of lower quality, and their impact on viewers and historical portrayal.\n",
    "\n",
    "### Topic 3: Narrative and Character Development\n",
    "- **Key Terms:** good, character, film, make, feel\n",
    "- **Description:** Insights into the quality of film narratives, the development of characters, and the feelings they evoke, alongside the craftsmanship of storytelling.\n",
    "\n",
    "### Topic 4: Musical Influence and Viewer's Regret\n",
    "- **Key Terms:** regret, music, go, obsess, find\n",
    "- **Description:** Reflections on the musical score and its impact on the viewer's experience, including emotions of regret and obsession.\n",
    "\n",
    "### Topic 5: Action Scenes and Visual Effects\n",
    "- **Key Terms:** fight, story, power, great, effect\n",
    "- **Description:** Appreciation for the powerful storytelling and great action scenes, accentuated by special effects and visuals.\n",
    "\n",
    "### Topic 6: Pacing and Creative Writing\n",
    "- **Key Terms:** slow, writer, usual, arm, dramatic\n",
    "- **Description:** Opinions on the pacing of movies, with specific mentions of the writing style and its departure from the usual, along with dramatic elements.\n",
    "\n",
    "### Topic 7: Overall Movie Enjoyment\n",
    "- **Key Terms:** movie, marvel, just, good, see\n",
    "- **Description:** General impressions of movies, particularly Marvel films, emphasizing the action and story quality that make them enjoyable.\n",
    "\n",
    "### Topic 8: Storytelling and Character Arcs\n",
    "- **Key Terms:** force, story, scene, part, develop\n",
    "- **Description:** Discussions on the forceful storytelling and scene development, and how they contribute to the solid performance and unfolding of character arcs.\n",
    "\n",
    "### Topic 9: Individuality and Superhero Tropes\n",
    "- **Key Terms:** bear, guess, care, superhero, single\n",
    "- **Description:** Thoughts on superhero films and the individual journey of characters, possibly critiquing certain tropes or highlighting personal care for the narratives.\n",
    "\n",
    "### Topic 10: Predictability and Cultural Myths\n",
    "- **Key Terms:** decent, sound, predict, claim, play\n",
    "- **Description:** Critiques of the predictability in movies, the authenticity of sound design, and the portrayal of mythological elements within the storytelling.\n"
   ]
  },
  {
   "cell_type": "markdown",
   "metadata": {},
   "source": [
    "## Summarization of LSA Topics\n",
    "\n",
    "### Topic 1: General Movie Critique\n",
    "- **Key Terms:** movie, good, just, marvel, fight\n",
    "- **Description:** A broad negative sentiment toward movies in general, with mentions of Marvel and fight scenes.\n",
    "\n",
    "### Topic 2: Cultural Representation in Film\n",
    "- **Key Terms:** marvel, movie, film, villain, asian\n",
    "- **Description:** Contrasting views on Marvel movies, with a focus on villains and Asian representation in film.\n",
    "\n",
    "### Topic 3: Movie Perspectives and Cultural Storytelling\n",
    "- **Key Terms:** movie, way, good, chinese, great\n",
    "- **Description:** Discussions around movies with an emphasis on good storytelling, possibly with Chinese cultural elements.\n",
    "\n",
    "### Topic 4: Film Criticism and Action Focus\n",
    "- **Key Terms:** good, film, fight, action, way\n",
    "- **Description:** Critical take on films, highlighting action sequences and their impact on the audience's perception of quality.\n",
    "\n",
    "### Topic 5: Narrative and Conflict in Movies\n",
    "- **Key Terms:** movie, fight, marvel, scene, story\n",
    "- **Description:** Analysis of movie narratives and fight scenes, indicating a tension between story depth and great visual moments.\n",
    "\n",
    "### Topic 6: Storytelling Nuances\n",
    "- **Key Terms:** story, also, fight, well, good\n",
    "- **Description:** A more nuanced look at storytelling that considers the 'also' elements beyond the main plot, including side stories and underlying themes.\n",
    "\n",
    "### Topic 7: Film Quality and Viewer Engagement\n",
    "- **Key Terms:** film, good, great, movie, see\n",
    "- **Description:** Negative perspective on film quality but acknowledges the greatness seen by viewers and the engaging action scenes.\n",
    "\n",
    "### Topic 8: Emotional Engagement and Character Depth\n",
    "- **Key Terms:** feel, marvel, character, action, even\n",
    "- **Description:** The emotional responses elicited by Marvel films, character development, and the effectiveness of action scenes.\n",
    "\n",
    "### Topic 9: Marvel Cinematic Universe and Visuals\n",
    "- **Key Terms:** marvel, good, just, see, scene\n",
    "- **Description:** A mix of positive and negative views on the Marvel Cinematic Universe, highlighting the visuals and the general reception.\n",
    "\n",
    "### Topic 10: Critical Reception and Thoughtful Insights\n",
    "- **Key Terms:** well, good, marvel, get, think\n",
    "- **Description:** Good reception of certain aspects of Marvel films, while also considering deeper thoughts on the universe it portrays and the scenes it creates.\n"
   ]
  },
  {
   "cell_type": "markdown",
   "metadata": {
    "id": "AfpMRCrRwN6Z"
   },
   "source": [
    "# **Question 2: Sentiment Analysis**"
   ]
  },
  {
   "cell_type": "markdown",
   "metadata": {
    "id": "1dCQEbDawWCw"
   },
   "source": [
    "(30 points). Sentiment analysis also known as opinion mining is a sub field within Natural Language Processing (NLP) that builds machine learning algorithms to classify a text according to the sentimental polarities of opinions it contains, e.g., positive, negative, neutral. The purpose of this question is to develop a machine learning classifier for sentiment analysis. Based on the dataset from assignment three, write a python program to implement a sentiment classifier and evaluate its performance. Notice: **80% data for training and 20% data for testing**.  \n",
    "\n",
    "1. Select features for the sentiment classification and explain why you select these features. Use a markdown cell to provide your explanation.\n",
    "\n",
    "2. Select two of the supervised learning algorithms/models from scikit-learn library: https://scikit-learn.org/stable/supervised_learning.html#supervised-learning, to build two sentiment classifiers respectively. Note: Cross-validation (5-fold or 10-fold) should be conducted. Here is the reference of cross-validation: https://scikit-learn.org/stable/modules/cross_validation.html.\n",
    "\n",
    "3. Compare the performance over accuracy, precision, recall, and F1 score for the two algorithms you selected. The test set must be used for model evaluation in this step. Here is the reference of how to calculate these metrics: https://towardsdatascience.com/accuracy-precision-recall-or-f1-331fb37c5cb9."
   ]
  },
  {
   "cell_type": "code",
   "execution_count": 32,
   "metadata": {
    "id": "vATjQNTY8buA"
   },
   "outputs": [],
   "source": [
    "# Write your code here\n",
    "data = pd.read_csv(\"Q4 reviews.csv\")\n"
   ]
  },
  {
   "cell_type": "code",
   "execution_count": null,
   "metadata": {},
   "outputs": [],
   "source": []
  },
  {
   "cell_type": "code",
   "execution_count": null,
   "metadata": {},
   "outputs": [],
   "source": []
  },
  {
   "cell_type": "code",
   "execution_count": null,
   "metadata": {},
   "outputs": [],
   "source": []
  },
  {
   "cell_type": "code",
   "execution_count": null,
   "metadata": {},
   "outputs": [],
   "source": []
  },
  {
   "cell_type": "code",
   "execution_count": null,
   "metadata": {},
   "outputs": [],
   "source": []
  },
  {
   "cell_type": "code",
   "execution_count": null,
   "metadata": {},
   "outputs": [],
   "source": []
  },
  {
   "cell_type": "markdown",
   "metadata": {
    "id": "E5mmYIfN8eYV"
   },
   "source": [
    "# **Question 3: House price prediction**"
   ]
  },
  {
   "cell_type": "markdown",
   "metadata": {
    "id": "hsi2y4z88ngX"
   },
   "source": [
    "(20 points). You are required to build a **regression** model to predict the house price with 79 explanatory variables describing (almost) every aspect of residential homes. The purpose of this question is to practice regression analysis, an supervised learning model. The training data, testing data, and data description files can be download from canvas. Here is an axample for implementation: https://towardsdatascience.com/linear-regression-in-python-predict-the-bay-areas-home-price-5c91c8378878.\n",
    "\n",
    "1. Conduct necessary Explatory Data Analysis (EDA) and data cleaning steps on the given dataset. Split data for training and testing.\n",
    "2. Based on the EDA results, select a number of features for the regression model. Shortly explain why you select those features.\n",
    "3. Develop a regression model. The train set should be used.\n",
    "4. Evaluate performance of the regression model you developed using appropriate evaluation metrics. The test set should be used."
   ]
  },
  {
   "cell_type": "code",
   "execution_count": 37,
   "metadata": {
    "id": "XfvMKJjIXS5G"
   },
   "outputs": [],
   "source": [
    "# Write your code here\n",
    "train_dataset = pd.read_csv(\"train.csv\")\n",
    "test_dataset = pd.read_csv(\"test.csv\")\n",
    "\n"
   ]
  },
  {
   "cell_type": "code",
   "execution_count": 38,
   "metadata": {},
   "outputs": [
    {
     "data": {
      "text/html": [
       "<div>\n",
       "<style scoped>\n",
       "    .dataframe tbody tr th:only-of-type {\n",
       "        vertical-align: middle;\n",
       "    }\n",
       "\n",
       "    .dataframe tbody tr th {\n",
       "        vertical-align: top;\n",
       "    }\n",
       "\n",
       "    .dataframe thead th {\n",
       "        text-align: right;\n",
       "    }\n",
       "</style>\n",
       "<table border=\"1\" class=\"dataframe\">\n",
       "  <thead>\n",
       "    <tr style=\"text-align: right;\">\n",
       "      <th></th>\n",
       "      <th>Id</th>\n",
       "      <th>MSSubClass</th>\n",
       "      <th>LotFrontage</th>\n",
       "      <th>LotArea</th>\n",
       "      <th>OverallQual</th>\n",
       "      <th>OverallCond</th>\n",
       "      <th>YearBuilt</th>\n",
       "      <th>YearRemodAdd</th>\n",
       "      <th>MasVnrArea</th>\n",
       "      <th>BsmtFinSF1</th>\n",
       "      <th>...</th>\n",
       "      <th>WoodDeckSF</th>\n",
       "      <th>OpenPorchSF</th>\n",
       "      <th>EnclosedPorch</th>\n",
       "      <th>3SsnPorch</th>\n",
       "      <th>ScreenPorch</th>\n",
       "      <th>PoolArea</th>\n",
       "      <th>MiscVal</th>\n",
       "      <th>MoSold</th>\n",
       "      <th>YrSold</th>\n",
       "      <th>SalePrice</th>\n",
       "    </tr>\n",
       "  </thead>\n",
       "  <tbody>\n",
       "    <tr>\n",
       "      <th>count</th>\n",
       "      <td>1460.000000</td>\n",
       "      <td>1460.000000</td>\n",
       "      <td>1201.000000</td>\n",
       "      <td>1460.000000</td>\n",
       "      <td>1460.000000</td>\n",
       "      <td>1460.000000</td>\n",
       "      <td>1460.000000</td>\n",
       "      <td>1460.000000</td>\n",
       "      <td>1452.000000</td>\n",
       "      <td>1460.000000</td>\n",
       "      <td>...</td>\n",
       "      <td>1460.000000</td>\n",
       "      <td>1460.000000</td>\n",
       "      <td>1460.000000</td>\n",
       "      <td>1460.000000</td>\n",
       "      <td>1460.000000</td>\n",
       "      <td>1460.000000</td>\n",
       "      <td>1460.000000</td>\n",
       "      <td>1460.000000</td>\n",
       "      <td>1460.000000</td>\n",
       "      <td>1460.000000</td>\n",
       "    </tr>\n",
       "    <tr>\n",
       "      <th>mean</th>\n",
       "      <td>730.500000</td>\n",
       "      <td>56.897260</td>\n",
       "      <td>70.049958</td>\n",
       "      <td>10516.828082</td>\n",
       "      <td>6.099315</td>\n",
       "      <td>5.575342</td>\n",
       "      <td>1971.267808</td>\n",
       "      <td>1984.865753</td>\n",
       "      <td>103.685262</td>\n",
       "      <td>443.639726</td>\n",
       "      <td>...</td>\n",
       "      <td>94.244521</td>\n",
       "      <td>46.660274</td>\n",
       "      <td>21.954110</td>\n",
       "      <td>3.409589</td>\n",
       "      <td>15.060959</td>\n",
       "      <td>2.758904</td>\n",
       "      <td>43.489041</td>\n",
       "      <td>6.321918</td>\n",
       "      <td>2007.815753</td>\n",
       "      <td>180921.195890</td>\n",
       "    </tr>\n",
       "    <tr>\n",
       "      <th>std</th>\n",
       "      <td>421.610009</td>\n",
       "      <td>42.300571</td>\n",
       "      <td>24.284752</td>\n",
       "      <td>9981.264932</td>\n",
       "      <td>1.382997</td>\n",
       "      <td>1.112799</td>\n",
       "      <td>30.202904</td>\n",
       "      <td>20.645407</td>\n",
       "      <td>181.066207</td>\n",
       "      <td>456.098091</td>\n",
       "      <td>...</td>\n",
       "      <td>125.338794</td>\n",
       "      <td>66.256028</td>\n",
       "      <td>61.119149</td>\n",
       "      <td>29.317331</td>\n",
       "      <td>55.757415</td>\n",
       "      <td>40.177307</td>\n",
       "      <td>496.123024</td>\n",
       "      <td>2.703626</td>\n",
       "      <td>1.328095</td>\n",
       "      <td>79442.502883</td>\n",
       "    </tr>\n",
       "    <tr>\n",
       "      <th>min</th>\n",
       "      <td>1.000000</td>\n",
       "      <td>20.000000</td>\n",
       "      <td>21.000000</td>\n",
       "      <td>1300.000000</td>\n",
       "      <td>1.000000</td>\n",
       "      <td>1.000000</td>\n",
       "      <td>1872.000000</td>\n",
       "      <td>1950.000000</td>\n",
       "      <td>0.000000</td>\n",
       "      <td>0.000000</td>\n",
       "      <td>...</td>\n",
       "      <td>0.000000</td>\n",
       "      <td>0.000000</td>\n",
       "      <td>0.000000</td>\n",
       "      <td>0.000000</td>\n",
       "      <td>0.000000</td>\n",
       "      <td>0.000000</td>\n",
       "      <td>0.000000</td>\n",
       "      <td>1.000000</td>\n",
       "      <td>2006.000000</td>\n",
       "      <td>34900.000000</td>\n",
       "    </tr>\n",
       "    <tr>\n",
       "      <th>25%</th>\n",
       "      <td>365.750000</td>\n",
       "      <td>20.000000</td>\n",
       "      <td>59.000000</td>\n",
       "      <td>7553.500000</td>\n",
       "      <td>5.000000</td>\n",
       "      <td>5.000000</td>\n",
       "      <td>1954.000000</td>\n",
       "      <td>1967.000000</td>\n",
       "      <td>0.000000</td>\n",
       "      <td>0.000000</td>\n",
       "      <td>...</td>\n",
       "      <td>0.000000</td>\n",
       "      <td>0.000000</td>\n",
       "      <td>0.000000</td>\n",
       "      <td>0.000000</td>\n",
       "      <td>0.000000</td>\n",
       "      <td>0.000000</td>\n",
       "      <td>0.000000</td>\n",
       "      <td>5.000000</td>\n",
       "      <td>2007.000000</td>\n",
       "      <td>129975.000000</td>\n",
       "    </tr>\n",
       "    <tr>\n",
       "      <th>50%</th>\n",
       "      <td>730.500000</td>\n",
       "      <td>50.000000</td>\n",
       "      <td>69.000000</td>\n",
       "      <td>9478.500000</td>\n",
       "      <td>6.000000</td>\n",
       "      <td>5.000000</td>\n",
       "      <td>1973.000000</td>\n",
       "      <td>1994.000000</td>\n",
       "      <td>0.000000</td>\n",
       "      <td>383.500000</td>\n",
       "      <td>...</td>\n",
       "      <td>0.000000</td>\n",
       "      <td>25.000000</td>\n",
       "      <td>0.000000</td>\n",
       "      <td>0.000000</td>\n",
       "      <td>0.000000</td>\n",
       "      <td>0.000000</td>\n",
       "      <td>0.000000</td>\n",
       "      <td>6.000000</td>\n",
       "      <td>2008.000000</td>\n",
       "      <td>163000.000000</td>\n",
       "    </tr>\n",
       "    <tr>\n",
       "      <th>75%</th>\n",
       "      <td>1095.250000</td>\n",
       "      <td>70.000000</td>\n",
       "      <td>80.000000</td>\n",
       "      <td>11601.500000</td>\n",
       "      <td>7.000000</td>\n",
       "      <td>6.000000</td>\n",
       "      <td>2000.000000</td>\n",
       "      <td>2004.000000</td>\n",
       "      <td>166.000000</td>\n",
       "      <td>712.250000</td>\n",
       "      <td>...</td>\n",
       "      <td>168.000000</td>\n",
       "      <td>68.000000</td>\n",
       "      <td>0.000000</td>\n",
       "      <td>0.000000</td>\n",
       "      <td>0.000000</td>\n",
       "      <td>0.000000</td>\n",
       "      <td>0.000000</td>\n",
       "      <td>8.000000</td>\n",
       "      <td>2009.000000</td>\n",
       "      <td>214000.000000</td>\n",
       "    </tr>\n",
       "    <tr>\n",
       "      <th>max</th>\n",
       "      <td>1460.000000</td>\n",
       "      <td>190.000000</td>\n",
       "      <td>313.000000</td>\n",
       "      <td>215245.000000</td>\n",
       "      <td>10.000000</td>\n",
       "      <td>9.000000</td>\n",
       "      <td>2010.000000</td>\n",
       "      <td>2010.000000</td>\n",
       "      <td>1600.000000</td>\n",
       "      <td>5644.000000</td>\n",
       "      <td>...</td>\n",
       "      <td>857.000000</td>\n",
       "      <td>547.000000</td>\n",
       "      <td>552.000000</td>\n",
       "      <td>508.000000</td>\n",
       "      <td>480.000000</td>\n",
       "      <td>738.000000</td>\n",
       "      <td>15500.000000</td>\n",
       "      <td>12.000000</td>\n",
       "      <td>2010.000000</td>\n",
       "      <td>755000.000000</td>\n",
       "    </tr>\n",
       "  </tbody>\n",
       "</table>\n",
       "<p>8 rows × 38 columns</p>\n",
       "</div>"
      ],
      "text/plain": [
       "                Id   MSSubClass  LotFrontage        LotArea  OverallQual  \\\n",
       "count  1460.000000  1460.000000  1201.000000    1460.000000  1460.000000   \n",
       "mean    730.500000    56.897260    70.049958   10516.828082     6.099315   \n",
       "std     421.610009    42.300571    24.284752    9981.264932     1.382997   \n",
       "min       1.000000    20.000000    21.000000    1300.000000     1.000000   \n",
       "25%     365.750000    20.000000    59.000000    7553.500000     5.000000   \n",
       "50%     730.500000    50.000000    69.000000    9478.500000     6.000000   \n",
       "75%    1095.250000    70.000000    80.000000   11601.500000     7.000000   \n",
       "max    1460.000000   190.000000   313.000000  215245.000000    10.000000   \n",
       "\n",
       "       OverallCond    YearBuilt  YearRemodAdd   MasVnrArea   BsmtFinSF1  ...  \\\n",
       "count  1460.000000  1460.000000   1460.000000  1452.000000  1460.000000  ...   \n",
       "mean      5.575342  1971.267808   1984.865753   103.685262   443.639726  ...   \n",
       "std       1.112799    30.202904     20.645407   181.066207   456.098091  ...   \n",
       "min       1.000000  1872.000000   1950.000000     0.000000     0.000000  ...   \n",
       "25%       5.000000  1954.000000   1967.000000     0.000000     0.000000  ...   \n",
       "50%       5.000000  1973.000000   1994.000000     0.000000   383.500000  ...   \n",
       "75%       6.000000  2000.000000   2004.000000   166.000000   712.250000  ...   \n",
       "max       9.000000  2010.000000   2010.000000  1600.000000  5644.000000  ...   \n",
       "\n",
       "        WoodDeckSF  OpenPorchSF  EnclosedPorch    3SsnPorch  ScreenPorch  \\\n",
       "count  1460.000000  1460.000000    1460.000000  1460.000000  1460.000000   \n",
       "mean     94.244521    46.660274      21.954110     3.409589    15.060959   \n",
       "std     125.338794    66.256028      61.119149    29.317331    55.757415   \n",
       "min       0.000000     0.000000       0.000000     0.000000     0.000000   \n",
       "25%       0.000000     0.000000       0.000000     0.000000     0.000000   \n",
       "50%       0.000000    25.000000       0.000000     0.000000     0.000000   \n",
       "75%     168.000000    68.000000       0.000000     0.000000     0.000000   \n",
       "max     857.000000   547.000000     552.000000   508.000000   480.000000   \n",
       "\n",
       "          PoolArea       MiscVal       MoSold       YrSold      SalePrice  \n",
       "count  1460.000000   1460.000000  1460.000000  1460.000000    1460.000000  \n",
       "mean      2.758904     43.489041     6.321918  2007.815753  180921.195890  \n",
       "std      40.177307    496.123024     2.703626     1.328095   79442.502883  \n",
       "min       0.000000      0.000000     1.000000  2006.000000   34900.000000  \n",
       "25%       0.000000      0.000000     5.000000  2007.000000  129975.000000  \n",
       "50%       0.000000      0.000000     6.000000  2008.000000  163000.000000  \n",
       "75%       0.000000      0.000000     8.000000  2009.000000  214000.000000  \n",
       "max     738.000000  15500.000000    12.000000  2010.000000  755000.000000  \n",
       "\n",
       "[8 rows x 38 columns]"
      ]
     },
     "execution_count": 38,
     "metadata": {},
     "output_type": "execute_result"
    }
   ],
   "source": [
    "train_dataset.describe()"
   ]
  },
  {
   "cell_type": "code",
   "execution_count": 39,
   "metadata": {},
   "outputs": [
    {
     "name": "stdout",
     "output_type": "stream",
     "text": [
      "Id                 0\n",
      "MSSubClass         0\n",
      "MSZoning           0\n",
      "LotFrontage      259\n",
      "LotArea            0\n",
      "                ... \n",
      "MoSold             0\n",
      "YrSold             0\n",
      "SaleType           0\n",
      "SaleCondition      0\n",
      "SalePrice          0\n",
      "Length: 81, dtype: int64\n"
     ]
    }
   ],
   "source": [
    "print(train_dataset.isnull().sum())"
   ]
  },
  {
   "cell_type": "code",
   "execution_count": 40,
   "metadata": {},
   "outputs": [
    {
     "name": "stdout",
     "output_type": "stream",
     "text": [
      "Id                 0\n",
      "MSSubClass         0\n",
      "MSZoning           4\n",
      "LotFrontage      227\n",
      "LotArea            0\n",
      "                ... \n",
      "MiscVal            0\n",
      "MoSold             0\n",
      "YrSold             0\n",
      "SaleType           1\n",
      "SaleCondition      0\n",
      "Length: 80, dtype: int64\n"
     ]
    }
   ],
   "source": [
    "print(test_dataset.isnull().sum())"
   ]
  },
  {
   "cell_type": "markdown",
   "metadata": {},
   "source": [
    "## EDA"
   ]
  },
  {
   "cell_type": "code",
   "execution_count": 41,
   "metadata": {},
   "outputs": [
    {
     "data": {
      "image/png": "[encoded data removed]",
      "text/plain": [
       "<Figure size 1440x1080 with 42 Axes>"
      ]
     },
     "metadata": {
      "needs_background": "light"
     },
     "output_type": "display_data"
    }
   ],
   "source": [
    "%matplotlib inline\n",
    "import matplotlib.pyplot as plt\n",
    "train_dataset.hist(bins=50, figsize=(20,15))\n",
    "plt.savefig(\"attribute_histogram_plots\")\n",
    "plt.show()"
   ]
  },
  {
   "cell_type": "code",
   "execution_count": 49,
   "metadata": {},
   "outputs": [
    {
     "name": "stdout",
     "output_type": "stream",
     "text": [
      "SalePrice        1.000000\n",
      "OverallQual      0.790982\n",
      "GrLivArea        0.708624\n",
      "GarageCars       0.640409\n",
      "GarageArea       0.623431\n",
      "TotalBsmtSF      0.613581\n",
      "1stFlrSF         0.605852\n",
      "FullBath         0.560664\n",
      "TotRmsAbvGrd     0.533723\n",
      "YearBuilt        0.522897\n",
      "YearRemodAdd     0.507101\n",
      "GarageYrBlt      0.486362\n",
      "MasVnrArea       0.477493\n",
      "Fireplaces       0.466929\n",
      "BsmtFinSF1       0.386420\n",
      "LotFrontage      0.351799\n",
      "WoodDeckSF       0.324413\n",
      "2ndFlrSF         0.319334\n",
      "OpenPorchSF      0.315856\n",
      "HalfBath         0.284108\n",
      "LotArea          0.263843\n",
      "BsmtFullBath     0.227122\n",
      "BsmtUnfSF        0.214479\n",
      "BedroomAbvGr     0.168213\n",
      "ScreenPorch      0.111447\n",
      "PoolArea         0.092404\n",
      "MoSold           0.046432\n",
      "3SsnPorch        0.044584\n",
      "BsmtFinSF2      -0.011378\n",
      "BsmtHalfBath    -0.016844\n",
      "MiscVal         -0.021190\n",
      "Id              -0.021917\n",
      "LowQualFinSF    -0.025606\n",
      "YrSold          -0.028923\n",
      "OverallCond     -0.077856\n",
      "MSSubClass      -0.084284\n",
      "EnclosedPorch   -0.128578\n",
      "KitchenAbvGr    -0.135907\n",
      "Name: SalePrice, dtype: float64\n"
     ]
    }
   ],
   "source": [
    "numeric_cols = train_dataset.select_dtypes(include=[np.number])\n",
    "\n",
    "corr_matrix = numeric_cols.corr()\n",
    "\n",
    "sorted_correlations = corr_matrix[\"SalePrice\"].sort_values(ascending=False)\n",
    "\n",
    "print(sorted_correlations)"
   ]
  },
  {
   "cell_type": "code",
   "execution_count": 43,
   "metadata": {},
   "outputs": [
    {
     "data": {
      "text/plain": [
       "<AxesSubplot:xlabel='OverallQual', ylabel='SalePrice'>"
      ]
     },
     "execution_count": 43,
     "metadata": {},
     "output_type": "execute_result"
    },
    {
     "data": {
      "image/png": "[encoded data removed]",
      "text/plain": [
       "<Figure size 432x288 with 1 Axes>"
      ]
     },
     "metadata": {
      "needs_background": "light"
     },
     "output_type": "display_data"
    }
   ],
   "source": [
    "train_dataset.plot(kind=\"scatter\", x=\"OverallQual\", y=\"SalePrice\", alpha=0.5)"
   ]
  },
  {
   "cell_type": "code",
   "execution_count": 44,
   "metadata": {},
   "outputs": [
    {
     "data": {
      "text/plain": [
       "<AxesSubplot:xlabel='GrLivArea', ylabel='SalePrice'>"
      ]
     },
     "execution_count": 44,
     "metadata": {},
     "output_type": "execute_result"
    },
    {
     "data": {
      "image/png": "[encoded data removed]",
      "text/plain": [
       "<Figure size 432x288 with 1 Axes>"
      ]
     },
     "metadata": {
      "needs_background": "light"
     },
     "output_type": "display_data"
    }
   ],
   "source": [
    "train_dataset.plot(kind=\"scatter\", x=\"GrLivArea\", y=\"SalePrice\", alpha=0.5)"
   ]
  },
  {
   "cell_type": "code",
   "execution_count": 45,
   "metadata": {},
   "outputs": [
    {
     "data": {
      "text/plain": [
       "<AxesSubplot:xlabel='GarageCars', ylabel='SalePrice'>"
      ]
     },
     "execution_count": 45,
     "metadata": {},
     "output_type": "execute_result"
    },
    {
     "data": {
      "image/png": "[encoded data removed]",
      "text/plain": [
       "<Figure size 432x288 with 1 Axes>"
      ]
     },
     "metadata": {
      "needs_background": "light"
     },
     "output_type": "display_data"
    }
   ],
   "source": [
    "\n",
    "train_dataset.plot(kind=\"scatter\", x=\"GarageCars\", y=\"SalePrice\", alpha=0.5)"
   ]
  },
  {
   "cell_type": "code",
   "execution_count": 46,
   "metadata": {},
   "outputs": [
    {
     "data": {
      "text/plain": [
       "<AxesSubplot:>"
      ]
     },
     "execution_count": 46,
     "metadata": {},
     "output_type": "execute_result"
    },
    {
     "data": {
      "image/png": "[encoded data removed]",
      "text/plain": [
       "<Figure size 432x288 with 1 Axes>"
      ]
     },
     "metadata": {
      "needs_background": "light"
     },
     "output_type": "display_data"
    }
   ],
   "source": [
    "train_dataset.boxplot(column=['OverallQual', 'GrLivArea', 'GarageCars', 'GarageArea'])"
   ]
  },
  {
   "cell_type": "code",
   "execution_count": 47,
   "metadata": {},
   "outputs": [
    {
     "data": {
      "text/plain": [
       "<AxesSubplot:>"
      ]
     },
     "execution_count": 47,
     "metadata": {},
     "output_type": "execute_result"
    },
    {
     "data": {
      "image/png": "[encoded data removed]",
      "text/plain": [
       "<Figure size 432x288 with 1 Axes>"
      ]
     },
     "metadata": {
      "needs_background": "light"
     },
     "output_type": "display_data"
    }
   ],
   "source": [
    "train_dataset.boxplot(column=['TotalBsmtSF', '1stFlrSF', 'FullBath', 'SalePrice'])"
   ]
  },
  {
   "cell_type": "code",
   "execution_count": 50,
   "metadata": {
    "scrolled": true
   },
   "outputs": [
    {
     "name": "stdout",
     "output_type": "stream",
     "text": [
      "Id                 int64\n",
      "MSSubClass         int64\n",
      "MSZoning          object\n",
      "LotFrontage      float64\n",
      "LotArea            int64\n",
      "                  ...   \n",
      "MoSold             int64\n",
      "YrSold             int64\n",
      "SaleType          object\n",
      "SaleCondition     object\n",
      "SalePrice          int64\n",
      "Length: 81, dtype: object\n"
     ]
    }
   ],
   "source": [
    "print(train_dataset.dtypes)"
   ]
  },
  {
   "cell_type": "code",
   "execution_count": 51,
   "metadata": {},
   "outputs": [],
   "source": [
    "train_dataset = train_dataset.apply(pd.to_numeric, errors='coerce')\n",
    "test_dataset = test_dataset.apply(pd.to_numeric, errors='coerce')"
   ]
  },
  {
   "cell_type": "code",
   "execution_count": 52,
   "metadata": {},
   "outputs": [],
   "source": [
    "train_dataset.fillna(train_dataset.mean(), inplace=True)\n",
    "test_dataset.fillna(test_dataset.mean(), inplace=True)"
   ]
  },
  {
   "cell_type": "code",
   "execution_count": 53,
   "metadata": {},
   "outputs": [
    {
     "name": "stdout",
     "output_type": "stream",
     "text": [
      "Id                  0\n",
      "MSSubClass          0\n",
      "MSZoning         1460\n",
      "LotFrontage         0\n",
      "LotArea             0\n",
      "                 ... \n",
      "MoSold              0\n",
      "YrSold              0\n",
      "SaleType         1460\n",
      "SaleCondition    1460\n",
      "SalePrice           0\n",
      "Length: 81, dtype: int64\n",
      "Id                  0\n",
      "MSSubClass          0\n",
      "MSZoning         1459\n",
      "LotFrontage         0\n",
      "LotArea             0\n",
      "                 ... \n",
      "MiscVal             0\n",
      "MoSold              0\n",
      "YrSold              0\n",
      "SaleType         1459\n",
      "SaleCondition    1459\n",
      "Length: 80, dtype: int64\n"
     ]
    }
   ],
   "source": [
    "print(train_dataset.isnull().sum())\n",
    "print(test_dataset.isnull().sum())"
   ]
  },
  {
   "cell_type": "code",
   "execution_count": 54,
   "metadata": {},
   "outputs": [],
   "source": [
    "\n",
    "train_dataset.fillna(train_dataset.mean(), inplace = True)\n",
    "test_dataset.fillna(test_dataset.mean(), inplace = True)"
   ]
  },
  {
   "cell_type": "code",
   "execution_count": 55,
   "metadata": {},
   "outputs": [
    {
     "name": "stdout",
     "output_type": "stream",
     "text": [
      "Id                  0\n",
      "MSSubClass          0\n",
      "MSZoning         1460\n",
      "LotFrontage         0\n",
      "LotArea             0\n",
      "                 ... \n",
      "MoSold              0\n",
      "YrSold              0\n",
      "SaleType         1460\n",
      "SaleCondition    1460\n",
      "SalePrice           0\n",
      "Length: 81, dtype: int64\n"
     ]
    }
   ],
   "source": [
    "print(train_dataset.isnull().sum())"
   ]
  },
  {
   "cell_type": "code",
   "execution_count": 56,
   "metadata": {},
   "outputs": [
    {
     "name": "stdout",
     "output_type": "stream",
     "text": [
      "Id                  0\n",
      "MSSubClass          0\n",
      "MSZoning         1459\n",
      "LotFrontage         0\n",
      "LotArea             0\n",
      "                 ... \n",
      "MiscVal             0\n",
      "MoSold              0\n",
      "YrSold              0\n",
      "SaleType         1459\n",
      "SaleCondition    1459\n",
      "Length: 80, dtype: int64\n"
     ]
    }
   ],
   "source": [
    "\n",
    "print(test_dataset.isnull().sum())"
   ]
  },
  {
   "cell_type": "markdown",
   "metadata": {},
   "source": [
    "## Data Encoding"
   ]
  },
  {
   "cell_type": "code",
   "execution_count": 57,
   "metadata": {},
   "outputs": [],
   "source": [
    "from sklearn.preprocessing import LabelEncoder\n",
    "columns = ('GarageCond', 'LandContour', 'RoofStyle', 'RoofMatl', 'Heating', 'MiscFeature', 'SaleType', 'GarageType', 'Electrical', 'SaleCondition', 'Foundation', 'Exterior1st', 'Exterior2nd', 'MasVnrType', 'FireplaceQu', 'LotConfig', 'Neighborhood', 'Condition1', 'Condition2', 'Utilities', 'BldgType', 'HouseStyle','PoolQC', 'BsmtQual', 'BsmtCond', 'GarageQual','BsmtExposure', 'ExterQual', 'ExterCond','HeatingQC', 'KitchenQual', 'BsmtFinType1','BsmtFinType2', 'Functional', 'Fence', 'GarageFinish', 'LandSlope','LotShape', 'PavedDrive', 'Street', 'Alley', 'CentralAir', 'MSSubClass', 'OverallCond', 'YrSold', 'MoSold', 'MSZoning')\n",
    "for column in columns:\n",
    "    encoder = LabelEncoder()\n",
    "    encoder.fit(list(train_dataset[column].values))\n",
    "    train_dataset[column] = encoder.transform(list(train_dataset[column].values))"
   ]
  },
  {
   "cell_type": "code",
   "execution_count": 58,
   "metadata": {},
   "outputs": [],
   "source": [
    "for column in columns:\n",
    "    encoder_test = LabelEncoder()\n",
    "    encoder_test.fit(list(test_dataset[column].values))\n",
    "    test_dataset[column] = encoder_test.transform(list(test_dataset[column].values))"
   ]
  },
  {
   "cell_type": "code",
   "execution_count": 59,
   "metadata": {},
   "outputs": [],
   "source": [
    "x_values = train_dataset[train_dataset.columns[:80]] "
   ]
  },
  {
   "cell_type": "code",
   "execution_count": 60,
   "metadata": {},
   "outputs": [],
   "source": [
    "\n",
    "x_test_values = test_dataset[test_dataset.columns[:80]]"
   ]
  },
  {
   "cell_type": "code",
   "execution_count": 61,
   "metadata": {},
   "outputs": [],
   "source": [
    "\n",
    "y_values = train_dataset['SalePrice']"
   ]
  },
  {
   "cell_type": "markdown",
   "metadata": {},
   "source": [
    "## Training the Model"
   ]
  },
  {
   "cell_type": "code",
   "execution_count": 62,
   "metadata": {},
   "outputs": [
    {
     "name": "stderr",
     "output_type": "stream",
     "text": [
      "/home/joelnyongesa/anaconda3/lib/python3.9/site-packages/pandas/core/algorithms.py:1743: DeprecationWarning: is_sparse is deprecated and will be removed in a future version. Check `isinstance(dtype, pd.SparseDtype)` instead.\n",
      "  return lib.map_infer(values, mapper, convert=convert)\n",
      "/home/joelnyongesa/anaconda3/lib/python3.9/site-packages/pandas/core/algorithms.py:1743: DeprecationWarning: is_sparse is deprecated and will be removed in a future version. Check `isinstance(dtype, pd.SparseDtype)` instead.\n",
      "  return lib.map_infer(values, mapper, convert=convert)\n",
      "/home/joelnyongesa/anaconda3/lib/python3.9/site-packages/pandas/core/algorithms.py:1743: DeprecationWarning: is_sparse is deprecated and will be removed in a future version. Check `isinstance(dtype, pd.SparseDtype)` instead.\n",
      "  return lib.map_infer(values, mapper, convert=convert)\n",
      "/home/joelnyongesa/anaconda3/lib/python3.9/site-packages/pandas/core/algorithms.py:1743: DeprecationWarning: is_sparse is deprecated and will be removed in a future version. Check `isinstance(dtype, pd.SparseDtype)` instead.\n",
      "  return lib.map_infer(values, mapper, convert=convert)\n",
      "/home/joelnyongesa/anaconda3/lib/python3.9/site-packages/pandas/core/algorithms.py:1743: DeprecationWarning: is_sparse is deprecated and will be removed in a future version. Check `isinstance(dtype, pd.SparseDtype)` instead.\n",
      "  return lib.map_infer(values, mapper, convert=convert)\n",
      "/home/joelnyongesa/anaconda3/lib/python3.9/site-packages/pandas/core/algorithms.py:1743: DeprecationWarning: is_sparse is deprecated and will be removed in a future version. Check `isinstance(dtype, pd.SparseDtype)` instead.\n",
      "  return lib.map_infer(values, mapper, convert=convert)\n",
      "/home/joelnyongesa/anaconda3/lib/python3.9/site-packages/pandas/core/algorithms.py:1743: DeprecationWarning: is_sparse is deprecated and will be removed in a future version. Check `isinstance(dtype, pd.SparseDtype)` instead.\n",
      "  return lib.map_infer(values, mapper, convert=convert)\n",
      "/home/joelnyongesa/anaconda3/lib/python3.9/site-packages/pandas/core/algorithms.py:1743: DeprecationWarning: is_sparse is deprecated and will be removed in a future version. Check `isinstance(dtype, pd.SparseDtype)` instead.\n",
      "  return lib.map_infer(values, mapper, convert=convert)\n",
      "/home/joelnyongesa/anaconda3/lib/python3.9/site-packages/pandas/core/algorithms.py:1743: DeprecationWarning: is_sparse is deprecated and will be removed in a future version. Check `isinstance(dtype, pd.SparseDtype)` instead.\n",
      "  return lib.map_infer(values, mapper, convert=convert)\n",
      "/home/joelnyongesa/anaconda3/lib/python3.9/site-packages/pandas/core/algorithms.py:1743: DeprecationWarning: is_sparse is deprecated and will be removed in a future version. Check `isinstance(dtype, pd.SparseDtype)` instead.\n",
      "  return lib.map_infer(values, mapper, convert=convert)\n",
      "/home/joelnyongesa/anaconda3/lib/python3.9/site-packages/pandas/core/algorithms.py:1743: DeprecationWarning: is_sparse is deprecated and will be removed in a future version. Check `isinstance(dtype, pd.SparseDtype)` instead.\n",
      "  return lib.map_infer(values, mapper, convert=convert)\n",
      "/home/joelnyongesa/anaconda3/lib/python3.9/site-packages/pandas/core/algorithms.py:1743: DeprecationWarning: is_sparse is deprecated and will be removed in a future version. Check `isinstance(dtype, pd.SparseDtype)` instead.\n",
      "  return lib.map_infer(values, mapper, convert=convert)\n",
      "/home/joelnyongesa/anaconda3/lib/python3.9/site-packages/pandas/core/algorithms.py:1743: DeprecationWarning: is_sparse is deprecated and will be removed in a future version. Check `isinstance(dtype, pd.SparseDtype)` instead.\n",
      "  return lib.map_infer(values, mapper, convert=convert)\n",
      "/home/joelnyongesa/anaconda3/lib/python3.9/site-packages/pandas/core/algorithms.py:1743: DeprecationWarning: is_sparse is deprecated and will be removed in a future version. Check `isinstance(dtype, pd.SparseDtype)` instead.\n",
      "  return lib.map_infer(values, mapper, convert=convert)\n",
      "/home/joelnyongesa/anaconda3/lib/python3.9/site-packages/pandas/core/algorithms.py:1743: DeprecationWarning: is_sparse is deprecated and will be removed in a future version. Check `isinstance(dtype, pd.SparseDtype)` instead.\n",
      "  return lib.map_infer(values, mapper, convert=convert)\n",
      "/home/joelnyongesa/anaconda3/lib/python3.9/site-packages/pandas/core/algorithms.py:1743: DeprecationWarning: is_sparse is deprecated and will be removed in a future version. Check `isinstance(dtype, pd.SparseDtype)` instead.\n",
      "  return lib.map_infer(values, mapper, convert=convert)\n",
      "/home/joelnyongesa/anaconda3/lib/python3.9/site-packages/pandas/core/algorithms.py:1743: DeprecationWarning: is_sparse is deprecated and will be removed in a future version. Check `isinstance(dtype, pd.SparseDtype)` instead.\n",
      "  return lib.map_infer(values, mapper, convert=convert)\n",
      "/home/joelnyongesa/anaconda3/lib/python3.9/site-packages/pandas/core/algorithms.py:1743: DeprecationWarning: is_sparse is deprecated and will be removed in a future version. Check `isinstance(dtype, pd.SparseDtype)` instead.\n",
      "  return lib.map_infer(values, mapper, convert=convert)\n",
      "/home/joelnyongesa/anaconda3/lib/python3.9/site-packages/pandas/core/algorithms.py:1743: DeprecationWarning: is_sparse is deprecated and will be removed in a future version. Check `isinstance(dtype, pd.SparseDtype)` instead.\n",
      "  return lib.map_infer(values, mapper, convert=convert)\n",
      "/home/joelnyongesa/anaconda3/lib/python3.9/site-packages/pandas/core/algorithms.py:1743: DeprecationWarning: is_sparse is deprecated and will be removed in a future version. Check `isinstance(dtype, pd.SparseDtype)` instead.\n",
      "  return lib.map_infer(values, mapper, convert=convert)\n",
      "/home/joelnyongesa/anaconda3/lib/python3.9/site-packages/pandas/core/algorithms.py:1743: DeprecationWarning: is_sparse is deprecated and will be removed in a future version. Check `isinstance(dtype, pd.SparseDtype)` instead.\n",
      "  return lib.map_infer(values, mapper, convert=convert)\n",
      "/home/joelnyongesa/anaconda3/lib/python3.9/site-packages/pandas/core/algorithms.py:1743: DeprecationWarning: is_sparse is deprecated and will be removed in a future version. Check `isinstance(dtype, pd.SparseDtype)` instead.\n",
      "  return lib.map_infer(values, mapper, convert=convert)\n",
      "/home/joelnyongesa/anaconda3/lib/python3.9/site-packages/pandas/core/algorithms.py:1743: DeprecationWarning: is_sparse is deprecated and will be removed in a future version. Check `isinstance(dtype, pd.SparseDtype)` instead.\n",
      "  return lib.map_infer(values, mapper, convert=convert)\n",
      "/home/joelnyongesa/anaconda3/lib/python3.9/site-packages/pandas/core/algorithms.py:1743: DeprecationWarning: is_sparse is deprecated and will be removed in a future version. Check `isinstance(dtype, pd.SparseDtype)` instead.\n",
      "  return lib.map_infer(values, mapper, convert=convert)\n",
      "/home/joelnyongesa/anaconda3/lib/python3.9/site-packages/pandas/core/algorithms.py:1743: DeprecationWarning: is_sparse is deprecated and will be removed in a future version. Check `isinstance(dtype, pd.SparseDtype)` instead.\n",
      "  return lib.map_infer(values, mapper, convert=convert)\n",
      "/home/joelnyongesa/anaconda3/lib/python3.9/site-packages/pandas/core/algorithms.py:1743: DeprecationWarning: is_sparse is deprecated and will be removed in a future version. Check `isinstance(dtype, pd.SparseDtype)` instead.\n",
      "  return lib.map_infer(values, mapper, convert=convert)\n",
      "/home/joelnyongesa/anaconda3/lib/python3.9/site-packages/pandas/core/algorithms.py:1743: DeprecationWarning: is_sparse is deprecated and will be removed in a future version. Check `isinstance(dtype, pd.SparseDtype)` instead.\n",
      "  return lib.map_infer(values, mapper, convert=convert)\n",
      "/home/joelnyongesa/anaconda3/lib/python3.9/site-packages/pandas/core/algorithms.py:1743: DeprecationWarning: is_sparse is deprecated and will be removed in a future version. Check `isinstance(dtype, pd.SparseDtype)` instead.\n",
      "  return lib.map_infer(values, mapper, convert=convert)\n",
      "/home/joelnyongesa/anaconda3/lib/python3.9/site-packages/pandas/core/algorithms.py:1743: DeprecationWarning: is_sparse is deprecated and will be removed in a future version. Check `isinstance(dtype, pd.SparseDtype)` instead.\n",
      "  return lib.map_infer(values, mapper, convert=convert)\n",
      "/home/joelnyongesa/anaconda3/lib/python3.9/site-packages/pandas/core/algorithms.py:1743: DeprecationWarning: is_sparse is deprecated and will be removed in a future version. Check `isinstance(dtype, pd.SparseDtype)` instead.\n",
      "  return lib.map_infer(values, mapper, convert=convert)\n",
      "/home/joelnyongesa/anaconda3/lib/python3.9/site-packages/pandas/core/algorithms.py:1743: DeprecationWarning: is_sparse is deprecated and will be removed in a future version. Check `isinstance(dtype, pd.SparseDtype)` instead.\n",
      "  return lib.map_infer(values, mapper, convert=convert)\n",
      "/home/joelnyongesa/anaconda3/lib/python3.9/site-packages/pandas/core/algorithms.py:1743: DeprecationWarning: is_sparse is deprecated and will be removed in a future version. Check `isinstance(dtype, pd.SparseDtype)` instead.\n",
      "  return lib.map_infer(values, mapper, convert=convert)\n",
      "/home/joelnyongesa/anaconda3/lib/python3.9/site-packages/pandas/core/algorithms.py:1743: DeprecationWarning: is_sparse is deprecated and will be removed in a future version. Check `isinstance(dtype, pd.SparseDtype)` instead.\n",
      "  return lib.map_infer(values, mapper, convert=convert)\n",
      "/home/joelnyongesa/anaconda3/lib/python3.9/site-packages/pandas/core/algorithms.py:1743: DeprecationWarning: is_sparse is deprecated and will be removed in a future version. Check `isinstance(dtype, pd.SparseDtype)` instead.\n",
      "  return lib.map_infer(values, mapper, convert=convert)\n",
      "/home/joelnyongesa/anaconda3/lib/python3.9/site-packages/pandas/core/algorithms.py:1743: DeprecationWarning: is_sparse is deprecated and will be removed in a future version. Check `isinstance(dtype, pd.SparseDtype)` instead.\n",
      "  return lib.map_infer(values, mapper, convert=convert)\n",
      "/home/joelnyongesa/anaconda3/lib/python3.9/site-packages/pandas/core/algorithms.py:1743: DeprecationWarning: is_sparse is deprecated and will be removed in a future version. Check `isinstance(dtype, pd.SparseDtype)` instead.\n",
      "  return lib.map_infer(values, mapper, convert=convert)\n",
      "/home/joelnyongesa/anaconda3/lib/python3.9/site-packages/pandas/core/algorithms.py:1743: DeprecationWarning: is_sparse is deprecated and will be removed in a future version. Check `isinstance(dtype, pd.SparseDtype)` instead.\n",
      "  return lib.map_infer(values, mapper, convert=convert)\n",
      "/home/joelnyongesa/anaconda3/lib/python3.9/site-packages/pandas/core/algorithms.py:1743: DeprecationWarning: is_sparse is deprecated and will be removed in a future version. Check `isinstance(dtype, pd.SparseDtype)` instead.\n",
      "  return lib.map_infer(values, mapper, convert=convert)\n",
      "/home/joelnyongesa/anaconda3/lib/python3.9/site-packages/pandas/core/algorithms.py:1743: DeprecationWarning: is_sparse is deprecated and will be removed in a future version. Check `isinstance(dtype, pd.SparseDtype)` instead.\n",
      "  return lib.map_infer(values, mapper, convert=convert)\n",
      "/home/joelnyongesa/anaconda3/lib/python3.9/site-packages/pandas/core/algorithms.py:1743: DeprecationWarning: is_sparse is deprecated and will be removed in a future version. Check `isinstance(dtype, pd.SparseDtype)` instead.\n",
      "  return lib.map_infer(values, mapper, convert=convert)\n",
      "/home/joelnyongesa/anaconda3/lib/python3.9/site-packages/pandas/core/algorithms.py:1743: DeprecationWarning: is_sparse is deprecated and will be removed in a future version. Check `isinstance(dtype, pd.SparseDtype)` instead.\n",
      "  return lib.map_infer(values, mapper, convert=convert)\n",
      "/home/joelnyongesa/anaconda3/lib/python3.9/site-packages/pandas/core/algorithms.py:1743: DeprecationWarning: is_sparse is deprecated and will be removed in a future version. Check `isinstance(dtype, pd.SparseDtype)` instead.\n",
      "  return lib.map_infer(values, mapper, convert=convert)\n",
      "/home/joelnyongesa/anaconda3/lib/python3.9/site-packages/pandas/core/algorithms.py:1743: DeprecationWarning: is_sparse is deprecated and will be removed in a future version. Check `isinstance(dtype, pd.SparseDtype)` instead.\n",
      "  return lib.map_infer(values, mapper, convert=convert)\n",
      "/home/joelnyongesa/anaconda3/lib/python3.9/site-packages/pandas/core/algorithms.py:1743: DeprecationWarning: is_sparse is deprecated and will be removed in a future version. Check `isinstance(dtype, pd.SparseDtype)` instead.\n",
      "  return lib.map_infer(values, mapper, convert=convert)\n",
      "/home/joelnyongesa/anaconda3/lib/python3.9/site-packages/pandas/core/algorithms.py:1743: DeprecationWarning: is_sparse is deprecated and will be removed in a future version. Check `isinstance(dtype, pd.SparseDtype)` instead.\n",
      "  return lib.map_infer(values, mapper, convert=convert)\n",
      "/home/joelnyongesa/anaconda3/lib/python3.9/site-packages/pandas/core/algorithms.py:1743: DeprecationWarning: is_sparse is deprecated and will be removed in a future version. Check `isinstance(dtype, pd.SparseDtype)` instead.\n",
      "  return lib.map_infer(values, mapper, convert=convert)\n",
      "/home/joelnyongesa/anaconda3/lib/python3.9/site-packages/pandas/core/algorithms.py:1743: DeprecationWarning: is_sparse is deprecated and will be removed in a future version. Check `isinstance(dtype, pd.SparseDtype)` instead.\n",
      "  return lib.map_infer(values, mapper, convert=convert)\n",
      "/home/joelnyongesa/anaconda3/lib/python3.9/site-packages/pandas/core/algorithms.py:1743: DeprecationWarning: is_sparse is deprecated and will be removed in a future version. Check `isinstance(dtype, pd.SparseDtype)` instead.\n",
      "  return lib.map_infer(values, mapper, convert=convert)\n",
      "/home/joelnyongesa/anaconda3/lib/python3.9/site-packages/pandas/core/algorithms.py:1743: DeprecationWarning: is_sparse is deprecated and will be removed in a future version. Check `isinstance(dtype, pd.SparseDtype)` instead.\n",
      "  return lib.map_infer(values, mapper, convert=convert)\n",
      "/home/joelnyongesa/anaconda3/lib/python3.9/site-packages/pandas/core/algorithms.py:1743: DeprecationWarning: is_sparse is deprecated and will be removed in a future version. Check `isinstance(dtype, pd.SparseDtype)` instead.\n",
      "  return lib.map_infer(values, mapper, convert=convert)\n",
      "/home/joelnyongesa/anaconda3/lib/python3.9/site-packages/pandas/core/algorithms.py:1743: DeprecationWarning: is_sparse is deprecated and will be removed in a future version. Check `isinstance(dtype, pd.SparseDtype)` instead.\n",
      "  return lib.map_infer(values, mapper, convert=convert)\n",
      "/home/joelnyongesa/anaconda3/lib/python3.9/site-packages/pandas/core/algorithms.py:1743: DeprecationWarning: is_sparse is deprecated and will be removed in a future version. Check `isinstance(dtype, pd.SparseDtype)` instead.\n",
      "  return lib.map_infer(values, mapper, convert=convert)\n",
      "/home/joelnyongesa/anaconda3/lib/python3.9/site-packages/pandas/core/algorithms.py:1743: DeprecationWarning: is_sparse is deprecated and will be removed in a future version. Check `isinstance(dtype, pd.SparseDtype)` instead.\n",
      "  return lib.map_infer(values, mapper, convert=convert)\n",
      "/home/joelnyongesa/anaconda3/lib/python3.9/site-packages/pandas/core/algorithms.py:1743: DeprecationWarning: is_sparse is deprecated and will be removed in a future version. Check `isinstance(dtype, pd.SparseDtype)` instead.\n",
      "  return lib.map_infer(values, mapper, convert=convert)\n",
      "/home/joelnyongesa/anaconda3/lib/python3.9/site-packages/pandas/core/algorithms.py:1743: DeprecationWarning: is_sparse is deprecated and will be removed in a future version. Check `isinstance(dtype, pd.SparseDtype)` instead.\n",
      "  return lib.map_infer(values, mapper, convert=convert)\n",
      "/home/joelnyongesa/anaconda3/lib/python3.9/site-packages/pandas/core/algorithms.py:1743: DeprecationWarning: is_sparse is deprecated and will be removed in a future version. Check `isinstance(dtype, pd.SparseDtype)` instead.\n",
      "  return lib.map_infer(values, mapper, convert=convert)\n",
      "/home/joelnyongesa/anaconda3/lib/python3.9/site-packages/pandas/core/algorithms.py:1743: DeprecationWarning: is_sparse is deprecated and will be removed in a future version. Check `isinstance(dtype, pd.SparseDtype)` instead.\n",
      "  return lib.map_infer(values, mapper, convert=convert)\n",
      "/home/joelnyongesa/anaconda3/lib/python3.9/site-packages/pandas/core/algorithms.py:1743: DeprecationWarning: is_sparse is deprecated and will be removed in a future version. Check `isinstance(dtype, pd.SparseDtype)` instead.\n",
      "  return lib.map_infer(values, mapper, convert=convert)\n",
      "/home/joelnyongesa/anaconda3/lib/python3.9/site-packages/pandas/core/algorithms.py:1743: DeprecationWarning: is_sparse is deprecated and will be removed in a future version. Check `isinstance(dtype, pd.SparseDtype)` instead.\n",
      "  return lib.map_infer(values, mapper, convert=convert)\n",
      "/home/joelnyongesa/anaconda3/lib/python3.9/site-packages/pandas/core/algorithms.py:1743: DeprecationWarning: is_sparse is deprecated and will be removed in a future version. Check `isinstance(dtype, pd.SparseDtype)` instead.\n",
      "  return lib.map_infer(values, mapper, convert=convert)\n",
      "/home/joelnyongesa/anaconda3/lib/python3.9/site-packages/pandas/core/algorithms.py:1743: DeprecationWarning: is_sparse is deprecated and will be removed in a future version. Check `isinstance(dtype, pd.SparseDtype)` instead.\n",
      "  return lib.map_infer(values, mapper, convert=convert)\n",
      "/home/joelnyongesa/anaconda3/lib/python3.9/site-packages/pandas/core/algorithms.py:1743: DeprecationWarning: is_sparse is deprecated and will be removed in a future version. Check `isinstance(dtype, pd.SparseDtype)` instead.\n",
      "  return lib.map_infer(values, mapper, convert=convert)\n",
      "/home/joelnyongesa/anaconda3/lib/python3.9/site-packages/pandas/core/algorithms.py:1743: DeprecationWarning: is_sparse is deprecated and will be removed in a future version. Check `isinstance(dtype, pd.SparseDtype)` instead.\n",
      "  return lib.map_infer(values, mapper, convert=convert)\n",
      "/home/joelnyongesa/anaconda3/lib/python3.9/site-packages/pandas/core/algorithms.py:1743: DeprecationWarning: is_sparse is deprecated and will be removed in a future version. Check `isinstance(dtype, pd.SparseDtype)` instead.\n",
      "  return lib.map_infer(values, mapper, convert=convert)\n",
      "/home/joelnyongesa/anaconda3/lib/python3.9/site-packages/pandas/core/algorithms.py:1743: DeprecationWarning: is_sparse is deprecated and will be removed in a future version. Check `isinstance(dtype, pd.SparseDtype)` instead.\n",
      "  return lib.map_infer(values, mapper, convert=convert)\n",
      "/home/joelnyongesa/anaconda3/lib/python3.9/site-packages/pandas/core/algorithms.py:1743: DeprecationWarning: is_sparse is deprecated and will be removed in a future version. Check `isinstance(dtype, pd.SparseDtype)` instead.\n",
      "  return lib.map_infer(values, mapper, convert=convert)\n",
      "/home/joelnyongesa/anaconda3/lib/python3.9/site-packages/pandas/core/algorithms.py:1743: DeprecationWarning: is_sparse is deprecated and will be removed in a future version. Check `isinstance(dtype, pd.SparseDtype)` instead.\n",
      "  return lib.map_infer(values, mapper, convert=convert)\n",
      "/home/joelnyongesa/anaconda3/lib/python3.9/site-packages/pandas/core/algorithms.py:1743: DeprecationWarning: is_sparse is deprecated and will be removed in a future version. Check `isinstance(dtype, pd.SparseDtype)` instead.\n",
      "  return lib.map_infer(values, mapper, convert=convert)\n",
      "/home/joelnyongesa/anaconda3/lib/python3.9/site-packages/pandas/core/algorithms.py:1743: DeprecationWarning: is_sparse is deprecated and will be removed in a future version. Check `isinstance(dtype, pd.SparseDtype)` instead.\n",
      "  return lib.map_infer(values, mapper, convert=convert)\n",
      "/home/joelnyongesa/anaconda3/lib/python3.9/site-packages/pandas/core/algorithms.py:1743: DeprecationWarning: is_sparse is deprecated and will be removed in a future version. Check `isinstance(dtype, pd.SparseDtype)` instead.\n",
      "  return lib.map_infer(values, mapper, convert=convert)\n",
      "/home/joelnyongesa/anaconda3/lib/python3.9/site-packages/pandas/core/algorithms.py:1743: DeprecationWarning: is_sparse is deprecated and will be removed in a future version. Check `isinstance(dtype, pd.SparseDtype)` instead.\n",
      "  return lib.map_infer(values, mapper, convert=convert)\n",
      "/home/joelnyongesa/anaconda3/lib/python3.9/site-packages/pandas/core/algorithms.py:1743: DeprecationWarning: is_sparse is deprecated and will be removed in a future version. Check `isinstance(dtype, pd.SparseDtype)` instead.\n",
      "  return lib.map_infer(values, mapper, convert=convert)\n",
      "/home/joelnyongesa/anaconda3/lib/python3.9/site-packages/pandas/core/algorithms.py:1743: DeprecationWarning: is_sparse is deprecated and will be removed in a future version. Check `isinstance(dtype, pd.SparseDtype)` instead.\n",
      "  return lib.map_infer(values, mapper, convert=convert)\n",
      "/home/joelnyongesa/anaconda3/lib/python3.9/site-packages/pandas/core/algorithms.py:1743: DeprecationWarning: is_sparse is deprecated and will be removed in a future version. Check `isinstance(dtype, pd.SparseDtype)` instead.\n",
      "  return lib.map_infer(values, mapper, convert=convert)\n",
      "/home/joelnyongesa/anaconda3/lib/python3.9/site-packages/pandas/core/algorithms.py:1743: DeprecationWarning: is_sparse is deprecated and will be removed in a future version. Check `isinstance(dtype, pd.SparseDtype)` instead.\n",
      "  return lib.map_infer(values, mapper, convert=convert)\n",
      "/home/joelnyongesa/anaconda3/lib/python3.9/site-packages/pandas/core/algorithms.py:1743: DeprecationWarning: is_sparse is deprecated and will be removed in a future version. Check `isinstance(dtype, pd.SparseDtype)` instead.\n",
      "  return lib.map_infer(values, mapper, convert=convert)\n",
      "/home/joelnyongesa/anaconda3/lib/python3.9/site-packages/pandas/core/algorithms.py:1743: DeprecationWarning: is_sparse is deprecated and will be removed in a future version. Check `isinstance(dtype, pd.SparseDtype)` instead.\n",
      "  return lib.map_infer(values, mapper, convert=convert)\n",
      "/home/joelnyongesa/anaconda3/lib/python3.9/site-packages/pandas/core/algorithms.py:1743: DeprecationWarning: is_sparse is deprecated and will be removed in a future version. Check `isinstance(dtype, pd.SparseDtype)` instead.\n",
      "  return lib.map_infer(values, mapper, convert=convert)\n",
      "/home/joelnyongesa/anaconda3/lib/python3.9/site-packages/pandas/core/algorithms.py:1743: DeprecationWarning: is_sparse is deprecated and will be removed in a future version. Check `isinstance(dtype, pd.SparseDtype)` instead.\n",
      "  return lib.map_infer(values, mapper, convert=convert)\n",
      "/home/joelnyongesa/anaconda3/lib/python3.9/site-packages/pandas/core/algorithms.py:1743: DeprecationWarning: is_sparse is deprecated and will be removed in a future version. Check `isinstance(dtype, pd.SparseDtype)` instead.\n",
      "  return lib.map_infer(values, mapper, convert=convert)\n",
      "/home/joelnyongesa/anaconda3/lib/python3.9/site-packages/pandas/core/algorithms.py:1743: DeprecationWarning: is_sparse is deprecated and will be removed in a future version. Check `isinstance(dtype, pd.SparseDtype)` instead.\n",
      "  return lib.map_infer(values, mapper, convert=convert)\n",
      "/home/joelnyongesa/anaconda3/lib/python3.9/site-packages/pandas/core/algorithms.py:1743: DeprecationWarning: is_sparse is deprecated and will be removed in a future version. Check `isinstance(dtype, pd.SparseDtype)` instead.\n",
      "  return lib.map_infer(values, mapper, convert=convert)\n",
      "/home/joelnyongesa/anaconda3/lib/python3.9/site-packages/pandas/core/algorithms.py:1743: DeprecationWarning: is_sparse is deprecated and will be removed in a future version. Check `isinstance(dtype, pd.SparseDtype)` instead.\n",
      "  return lib.map_infer(values, mapper, convert=convert)\n",
      "/home/joelnyongesa/anaconda3/lib/python3.9/site-packages/pandas/core/algorithms.py:1743: DeprecationWarning: is_sparse is deprecated and will be removed in a future version. Check `isinstance(dtype, pd.SparseDtype)` instead.\n",
      "  return lib.map_infer(values, mapper, convert=convert)\n",
      "/home/joelnyongesa/anaconda3/lib/python3.9/site-packages/pandas/core/algorithms.py:1743: DeprecationWarning: is_sparse is deprecated and will be removed in a future version. Check `isinstance(dtype, pd.SparseDtype)` instead.\n",
      "  return lib.map_infer(values, mapper, convert=convert)\n",
      "/home/joelnyongesa/anaconda3/lib/python3.9/site-packages/pandas/core/algorithms.py:1743: DeprecationWarning: is_sparse is deprecated and will be removed in a future version. Check `isinstance(dtype, pd.SparseDtype)` instead.\n",
      "  return lib.map_infer(values, mapper, convert=convert)\n",
      "/home/joelnyongesa/anaconda3/lib/python3.9/site-packages/pandas/core/algorithms.py:1743: DeprecationWarning: is_sparse is deprecated and will be removed in a future version. Check `isinstance(dtype, pd.SparseDtype)` instead.\n",
      "  return lib.map_infer(values, mapper, convert=convert)\n",
      "/home/joelnyongesa/anaconda3/lib/python3.9/site-packages/pandas/core/algorithms.py:1743: DeprecationWarning: is_sparse is deprecated and will be removed in a future version. Check `isinstance(dtype, pd.SparseDtype)` instead.\n",
      "  return lib.map_infer(values, mapper, convert=convert)\n",
      "/home/joelnyongesa/anaconda3/lib/python3.9/site-packages/pandas/core/algorithms.py:1743: DeprecationWarning: is_sparse is deprecated and will be removed in a future version. Check `isinstance(dtype, pd.SparseDtype)` instead.\n",
      "  return lib.map_infer(values, mapper, convert=convert)\n",
      "/home/joelnyongesa/anaconda3/lib/python3.9/site-packages/pandas/core/algorithms.py:1743: DeprecationWarning: is_sparse is deprecated and will be removed in a future version. Check `isinstance(dtype, pd.SparseDtype)` instead.\n",
      "  return lib.map_infer(values, mapper, convert=convert)\n",
      "/home/joelnyongesa/anaconda3/lib/python3.9/site-packages/pandas/core/algorithms.py:1743: DeprecationWarning: is_sparse is deprecated and will be removed in a future version. Check `isinstance(dtype, pd.SparseDtype)` instead.\n",
      "  return lib.map_infer(values, mapper, convert=convert)\n",
      "/home/joelnyongesa/anaconda3/lib/python3.9/site-packages/pandas/core/algorithms.py:1743: DeprecationWarning: is_sparse is deprecated and will be removed in a future version. Check `isinstance(dtype, pd.SparseDtype)` instead.\n",
      "  return lib.map_infer(values, mapper, convert=convert)\n",
      "/home/joelnyongesa/anaconda3/lib/python3.9/site-packages/pandas/core/algorithms.py:1743: DeprecationWarning: is_sparse is deprecated and will be removed in a future version. Check `isinstance(dtype, pd.SparseDtype)` instead.\n",
      "  return lib.map_infer(values, mapper, convert=convert)\n",
      "/home/joelnyongesa/anaconda3/lib/python3.9/site-packages/pandas/core/algorithms.py:1743: DeprecationWarning: is_sparse is deprecated and will be removed in a future version. Check `isinstance(dtype, pd.SparseDtype)` instead.\n",
      "  return lib.map_infer(values, mapper, convert=convert)\n",
      "/home/joelnyongesa/anaconda3/lib/python3.9/site-packages/pandas/core/algorithms.py:1743: DeprecationWarning: is_sparse is deprecated and will be removed in a future version. Check `isinstance(dtype, pd.SparseDtype)` instead.\n",
      "  return lib.map_infer(values, mapper, convert=convert)\n",
      "/home/joelnyongesa/anaconda3/lib/python3.9/site-packages/pandas/core/algorithms.py:1743: DeprecationWarning: is_sparse is deprecated and will be removed in a future version. Check `isinstance(dtype, pd.SparseDtype)` instead.\n",
      "  return lib.map_infer(values, mapper, convert=convert)\n",
      "/home/joelnyongesa/anaconda3/lib/python3.9/site-packages/pandas/core/algorithms.py:1743: DeprecationWarning: is_sparse is deprecated and will be removed in a future version. Check `isinstance(dtype, pd.SparseDtype)` instead.\n",
      "  return lib.map_infer(values, mapper, convert=convert)\n",
      "/home/joelnyongesa/anaconda3/lib/python3.9/site-packages/pandas/core/algorithms.py:1743: DeprecationWarning: is_sparse is deprecated and will be removed in a future version. Check `isinstance(dtype, pd.SparseDtype)` instead.\n",
      "  return lib.map_infer(values, mapper, convert=convert)\n",
      "/home/joelnyongesa/anaconda3/lib/python3.9/site-packages/pandas/core/algorithms.py:1743: DeprecationWarning: is_sparse is deprecated and will be removed in a future version. Check `isinstance(dtype, pd.SparseDtype)` instead.\n",
      "  return lib.map_infer(values, mapper, convert=convert)\n",
      "/home/joelnyongesa/anaconda3/lib/python3.9/site-packages/pandas/core/algorithms.py:1743: DeprecationWarning: is_sparse is deprecated and will be removed in a future version. Check `isinstance(dtype, pd.SparseDtype)` instead.\n",
      "  return lib.map_infer(values, mapper, convert=convert)\n",
      "/home/joelnyongesa/anaconda3/lib/python3.9/site-packages/pandas/core/algorithms.py:1743: DeprecationWarning: is_sparse is deprecated and will be removed in a future version. Check `isinstance(dtype, pd.SparseDtype)` instead.\n",
      "  return lib.map_infer(values, mapper, convert=convert)\n",
      "/home/joelnyongesa/anaconda3/lib/python3.9/site-packages/pandas/core/algorithms.py:1743: DeprecationWarning: is_sparse is deprecated and will be removed in a future version. Check `isinstance(dtype, pd.SparseDtype)` instead.\n",
      "  return lib.map_infer(values, mapper, convert=convert)\n",
      "/home/joelnyongesa/anaconda3/lib/python3.9/site-packages/pandas/core/algorithms.py:1743: DeprecationWarning: is_sparse is deprecated and will be removed in a future version. Check `isinstance(dtype, pd.SparseDtype)` instead.\n",
      "  return lib.map_infer(values, mapper, convert=convert)\n",
      "/home/joelnyongesa/anaconda3/lib/python3.9/site-packages/pandas/core/algorithms.py:1743: DeprecationWarning: is_sparse is deprecated and will be removed in a future version. Check `isinstance(dtype, pd.SparseDtype)` instead.\n",
      "  return lib.map_infer(values, mapper, convert=convert)\n",
      "/home/joelnyongesa/anaconda3/lib/python3.9/site-packages/pandas/core/algorithms.py:1743: DeprecationWarning: is_sparse is deprecated and will be removed in a future version. Check `isinstance(dtype, pd.SparseDtype)` instead.\n",
      "  return lib.map_infer(values, mapper, convert=convert)\n",
      "/home/joelnyongesa/anaconda3/lib/python3.9/site-packages/pandas/core/algorithms.py:1743: DeprecationWarning: is_sparse is deprecated and will be removed in a future version. Check `isinstance(dtype, pd.SparseDtype)` instead.\n",
      "  return lib.map_infer(values, mapper, convert=convert)\n",
      "/home/joelnyongesa/anaconda3/lib/python3.9/site-packages/pandas/core/algorithms.py:1743: DeprecationWarning: is_sparse is deprecated and will be removed in a future version. Check `isinstance(dtype, pd.SparseDtype)` instead.\n",
      "  return lib.map_infer(values, mapper, convert=convert)\n",
      "/home/joelnyongesa/anaconda3/lib/python3.9/site-packages/pandas/core/algorithms.py:1743: DeprecationWarning: is_sparse is deprecated and will be removed in a future version. Check `isinstance(dtype, pd.SparseDtype)` instead.\n",
      "  return lib.map_infer(values, mapper, convert=convert)\n",
      "/home/joelnyongesa/anaconda3/lib/python3.9/site-packages/pandas/core/algorithms.py:1743: DeprecationWarning: is_sparse is deprecated and will be removed in a future version. Check `isinstance(dtype, pd.SparseDtype)` instead.\n",
      "  return lib.map_infer(values, mapper, convert=convert)\n",
      "/home/joelnyongesa/anaconda3/lib/python3.9/site-packages/pandas/core/algorithms.py:1743: DeprecationWarning: is_sparse is deprecated and will be removed in a future version. Check `isinstance(dtype, pd.SparseDtype)` instead.\n",
      "  return lib.map_infer(values, mapper, convert=convert)\n",
      "/home/joelnyongesa/anaconda3/lib/python3.9/site-packages/pandas/core/algorithms.py:1743: DeprecationWarning: is_sparse is deprecated and will be removed in a future version. Check `isinstance(dtype, pd.SparseDtype)` instead.\n",
      "  return lib.map_infer(values, mapper, convert=convert)\n",
      "/home/joelnyongesa/anaconda3/lib/python3.9/site-packages/pandas/core/algorithms.py:1743: DeprecationWarning: is_sparse is deprecated and will be removed in a future version. Check `isinstance(dtype, pd.SparseDtype)` instead.\n",
      "  return lib.map_infer(values, mapper, convert=convert)\n",
      "/home/joelnyongesa/anaconda3/lib/python3.9/site-packages/pandas/core/algorithms.py:1743: DeprecationWarning: is_sparse is deprecated and will be removed in a future version. Check `isinstance(dtype, pd.SparseDtype)` instead.\n",
      "  return lib.map_infer(values, mapper, convert=convert)\n",
      "/home/joelnyongesa/anaconda3/lib/python3.9/site-packages/pandas/core/algorithms.py:1743: DeprecationWarning: is_sparse is deprecated and will be removed in a future version. Check `isinstance(dtype, pd.SparseDtype)` instead.\n",
      "  return lib.map_infer(values, mapper, convert=convert)\n",
      "/home/joelnyongesa/anaconda3/lib/python3.9/site-packages/pandas/core/algorithms.py:1743: DeprecationWarning: is_sparse is deprecated and will be removed in a future version. Check `isinstance(dtype, pd.SparseDtype)` instead.\n",
      "  return lib.map_infer(values, mapper, convert=convert)\n",
      "/home/joelnyongesa/anaconda3/lib/python3.9/site-packages/pandas/core/algorithms.py:1743: DeprecationWarning: is_sparse is deprecated and will be removed in a future version. Check `isinstance(dtype, pd.SparseDtype)` instead.\n",
      "  return lib.map_infer(values, mapper, convert=convert)\n",
      "/home/joelnyongesa/anaconda3/lib/python3.9/site-packages/pandas/core/algorithms.py:1743: DeprecationWarning: is_sparse is deprecated and will be removed in a future version. Check `isinstance(dtype, pd.SparseDtype)` instead.\n",
      "  return lib.map_infer(values, mapper, convert=convert)\n",
      "/home/joelnyongesa/anaconda3/lib/python3.9/site-packages/pandas/core/algorithms.py:1743: DeprecationWarning: is_sparse is deprecated and will be removed in a future version. Check `isinstance(dtype, pd.SparseDtype)` instead.\n",
      "  return lib.map_infer(values, mapper, convert=convert)\n",
      "/home/joelnyongesa/anaconda3/lib/python3.9/site-packages/pandas/core/algorithms.py:1743: DeprecationWarning: is_sparse is deprecated and will be removed in a future version. Check `isinstance(dtype, pd.SparseDtype)` instead.\n",
      "  return lib.map_infer(values, mapper, convert=convert)\n",
      "/home/joelnyongesa/anaconda3/lib/python3.9/site-packages/pandas/core/algorithms.py:1743: DeprecationWarning: is_sparse is deprecated and will be removed in a future version. Check `isinstance(dtype, pd.SparseDtype)` instead.\n",
      "  return lib.map_infer(values, mapper, convert=convert)\n",
      "/home/joelnyongesa/anaconda3/lib/python3.9/site-packages/pandas/core/algorithms.py:1743: DeprecationWarning: is_sparse is deprecated and will be removed in a future version. Check `isinstance(dtype, pd.SparseDtype)` instead.\n",
      "  return lib.map_infer(values, mapper, convert=convert)\n",
      "/home/joelnyongesa/anaconda3/lib/python3.9/site-packages/pandas/core/algorithms.py:1743: DeprecationWarning: is_sparse is deprecated and will be removed in a future version. Check `isinstance(dtype, pd.SparseDtype)` instead.\n",
      "  return lib.map_infer(values, mapper, convert=convert)\n",
      "/home/joelnyongesa/anaconda3/lib/python3.9/site-packages/pandas/core/algorithms.py:1743: DeprecationWarning: is_sparse is deprecated and will be removed in a future version. Check `isinstance(dtype, pd.SparseDtype)` instead.\n",
      "  return lib.map_infer(values, mapper, convert=convert)\n",
      "/home/joelnyongesa/anaconda3/lib/python3.9/site-packages/pandas/core/algorithms.py:1743: DeprecationWarning: is_sparse is deprecated and will be removed in a future version. Check `isinstance(dtype, pd.SparseDtype)` instead.\n",
      "  return lib.map_infer(values, mapper, convert=convert)\n",
      "/home/joelnyongesa/anaconda3/lib/python3.9/site-packages/pandas/core/algorithms.py:1743: DeprecationWarning: is_sparse is deprecated and will be removed in a future version. Check `isinstance(dtype, pd.SparseDtype)` instead.\n",
      "  return lib.map_infer(values, mapper, convert=convert)\n",
      "/home/joelnyongesa/anaconda3/lib/python3.9/site-packages/pandas/core/algorithms.py:1743: DeprecationWarning: is_sparse is deprecated and will be removed in a future version. Check `isinstance(dtype, pd.SparseDtype)` instead.\n",
      "  return lib.map_infer(values, mapper, convert=convert)\n",
      "/home/joelnyongesa/anaconda3/lib/python3.9/site-packages/pandas/core/algorithms.py:1743: DeprecationWarning: is_sparse is deprecated and will be removed in a future version. Check `isinstance(dtype, pd.SparseDtype)` instead.\n",
      "  return lib.map_infer(values, mapper, convert=convert)\n",
      "/home/joelnyongesa/anaconda3/lib/python3.9/site-packages/pandas/core/algorithms.py:1743: DeprecationWarning: is_sparse is deprecated and will be removed in a future version. Check `isinstance(dtype, pd.SparseDtype)` instead.\n",
      "  return lib.map_infer(values, mapper, convert=convert)\n",
      "/home/joelnyongesa/anaconda3/lib/python3.9/site-packages/pandas/core/algorithms.py:1743: DeprecationWarning: is_sparse is deprecated and will be removed in a future version. Check `isinstance(dtype, pd.SparseDtype)` instead.\n",
      "  return lib.map_infer(values, mapper, convert=convert)\n",
      "/home/joelnyongesa/anaconda3/lib/python3.9/site-packages/pandas/core/algorithms.py:1743: DeprecationWarning: is_sparse is deprecated and will be removed in a future version. Check `isinstance(dtype, pd.SparseDtype)` instead.\n",
      "  return lib.map_infer(values, mapper, convert=convert)\n",
      "/home/joelnyongesa/anaconda3/lib/python3.9/site-packages/pandas/core/algorithms.py:1743: DeprecationWarning: is_sparse is deprecated and will be removed in a future version. Check `isinstance(dtype, pd.SparseDtype)` instead.\n",
      "  return lib.map_infer(values, mapper, convert=convert)\n",
      "/home/joelnyongesa/anaconda3/lib/python3.9/site-packages/pandas/core/algorithms.py:1743: DeprecationWarning: is_sparse is deprecated and will be removed in a future version. Check `isinstance(dtype, pd.SparseDtype)` instead.\n",
      "  return lib.map_infer(values, mapper, convert=convert)\n",
      "/home/joelnyongesa/anaconda3/lib/python3.9/site-packages/pandas/core/algorithms.py:1743: DeprecationWarning: is_sparse is deprecated and will be removed in a future version. Check `isinstance(dtype, pd.SparseDtype)` instead.\n",
      "  return lib.map_infer(values, mapper, convert=convert)\n",
      "/home/joelnyongesa/anaconda3/lib/python3.9/site-packages/pandas/core/algorithms.py:1743: DeprecationWarning: is_sparse is deprecated and will be removed in a future version. Check `isinstance(dtype, pd.SparseDtype)` instead.\n",
      "  return lib.map_infer(values, mapper, convert=convert)\n",
      "/home/joelnyongesa/anaconda3/lib/python3.9/site-packages/pandas/core/algorithms.py:1743: DeprecationWarning: is_sparse is deprecated and will be removed in a future version. Check `isinstance(dtype, pd.SparseDtype)` instead.\n",
      "  return lib.map_infer(values, mapper, convert=convert)\n",
      "/home/joelnyongesa/anaconda3/lib/python3.9/site-packages/pandas/core/algorithms.py:1743: DeprecationWarning: is_sparse is deprecated and will be removed in a future version. Check `isinstance(dtype, pd.SparseDtype)` instead.\n",
      "  return lib.map_infer(values, mapper, convert=convert)\n",
      "/home/joelnyongesa/anaconda3/lib/python3.9/site-packages/pandas/core/algorithms.py:1743: DeprecationWarning: is_sparse is deprecated and will be removed in a future version. Check `isinstance(dtype, pd.SparseDtype)` instead.\n",
      "  return lib.map_infer(values, mapper, convert=convert)\n",
      "/home/joelnyongesa/anaconda3/lib/python3.9/site-packages/pandas/core/algorithms.py:1743: DeprecationWarning: is_sparse is deprecated and will be removed in a future version. Check `isinstance(dtype, pd.SparseDtype)` instead.\n",
      "  return lib.map_infer(values, mapper, convert=convert)\n",
      "/home/joelnyongesa/anaconda3/lib/python3.9/site-packages/pandas/core/algorithms.py:1743: DeprecationWarning: is_sparse is deprecated and will be removed in a future version. Check `isinstance(dtype, pd.SparseDtype)` instead.\n",
      "  return lib.map_infer(values, mapper, convert=convert)\n",
      "/home/joelnyongesa/anaconda3/lib/python3.9/site-packages/pandas/core/algorithms.py:1743: DeprecationWarning: is_sparse is deprecated and will be removed in a future version. Check `isinstance(dtype, pd.SparseDtype)` instead.\n",
      "  return lib.map_infer(values, mapper, convert=convert)\n",
      "/home/joelnyongesa/anaconda3/lib/python3.9/site-packages/pandas/core/algorithms.py:1743: DeprecationWarning: is_sparse is deprecated and will be removed in a future version. Check `isinstance(dtype, pd.SparseDtype)` instead.\n",
      "  return lib.map_infer(values, mapper, convert=convert)\n",
      "/home/joelnyongesa/anaconda3/lib/python3.9/site-packages/pandas/core/algorithms.py:1743: DeprecationWarning: is_sparse is deprecated and will be removed in a future version. Check `isinstance(dtype, pd.SparseDtype)` instead.\n",
      "  return lib.map_infer(values, mapper, convert=convert)\n",
      "/home/joelnyongesa/anaconda3/lib/python3.9/site-packages/pandas/core/algorithms.py:1743: DeprecationWarning: is_sparse is deprecated and will be removed in a future version. Check `isinstance(dtype, pd.SparseDtype)` instead.\n",
      "  return lib.map_infer(values, mapper, convert=convert)\n",
      "/home/joelnyongesa/anaconda3/lib/python3.9/site-packages/pandas/core/algorithms.py:1743: DeprecationWarning: is_sparse is deprecated and will be removed in a future version. Check `isinstance(dtype, pd.SparseDtype)` instead.\n",
      "  return lib.map_infer(values, mapper, convert=convert)\n",
      "/home/joelnyongesa/anaconda3/lib/python3.9/site-packages/pandas/core/algorithms.py:1743: DeprecationWarning: is_sparse is deprecated and will be removed in a future version. Check `isinstance(dtype, pd.SparseDtype)` instead.\n",
      "  return lib.map_infer(values, mapper, convert=convert)\n",
      "/home/joelnyongesa/anaconda3/lib/python3.9/site-packages/pandas/core/algorithms.py:1743: DeprecationWarning: is_sparse is deprecated and will be removed in a future version. Check `isinstance(dtype, pd.SparseDtype)` instead.\n",
      "  return lib.map_infer(values, mapper, convert=convert)\n",
      "/home/joelnyongesa/anaconda3/lib/python3.9/site-packages/pandas/core/algorithms.py:1743: DeprecationWarning: is_sparse is deprecated and will be removed in a future version. Check `isinstance(dtype, pd.SparseDtype)` instead.\n",
      "  return lib.map_infer(values, mapper, convert=convert)\n",
      "/home/joelnyongesa/anaconda3/lib/python3.9/site-packages/pandas/core/algorithms.py:1743: DeprecationWarning: is_sparse is deprecated and will be removed in a future version. Check `isinstance(dtype, pd.SparseDtype)` instead.\n",
      "  return lib.map_infer(values, mapper, convert=convert)\n",
      "/home/joelnyongesa/anaconda3/lib/python3.9/site-packages/pandas/core/algorithms.py:1743: DeprecationWarning: is_sparse is deprecated and will be removed in a future version. Check `isinstance(dtype, pd.SparseDtype)` instead.\n",
      "  return lib.map_infer(values, mapper, convert=convert)\n",
      "/home/joelnyongesa/anaconda3/lib/python3.9/site-packages/pandas/core/algorithms.py:1743: DeprecationWarning: is_sparse is deprecated and will be removed in a future version. Check `isinstance(dtype, pd.SparseDtype)` instead.\n",
      "  return lib.map_infer(values, mapper, convert=convert)\n",
      "/home/joelnyongesa/anaconda3/lib/python3.9/site-packages/pandas/core/algorithms.py:1743: DeprecationWarning: is_sparse is deprecated and will be removed in a future version. Check `isinstance(dtype, pd.SparseDtype)` instead.\n",
      "  return lib.map_infer(values, mapper, convert=convert)\n",
      "/home/joelnyongesa/anaconda3/lib/python3.9/site-packages/pandas/core/algorithms.py:1743: DeprecationWarning: is_sparse is deprecated and will be removed in a future version. Check `isinstance(dtype, pd.SparseDtype)` instead.\n",
      "  return lib.map_infer(values, mapper, convert=convert)\n",
      "/home/joelnyongesa/anaconda3/lib/python3.9/site-packages/pandas/core/algorithms.py:1743: DeprecationWarning: is_sparse is deprecated and will be removed in a future version. Check `isinstance(dtype, pd.SparseDtype)` instead.\n",
      "  return lib.map_infer(values, mapper, convert=convert)\n",
      "/home/joelnyongesa/anaconda3/lib/python3.9/site-packages/pandas/core/algorithms.py:1743: DeprecationWarning: is_sparse is deprecated and will be removed in a future version. Check `isinstance(dtype, pd.SparseDtype)` instead.\n",
      "  return lib.map_infer(values, mapper, convert=convert)\n",
      "/home/joelnyongesa/anaconda3/lib/python3.9/site-packages/pandas/core/algorithms.py:1743: DeprecationWarning: is_sparse is deprecated and will be removed in a future version. Check `isinstance(dtype, pd.SparseDtype)` instead.\n",
      "  return lib.map_infer(values, mapper, convert=convert)\n",
      "/home/joelnyongesa/anaconda3/lib/python3.9/site-packages/pandas/core/algorithms.py:1743: DeprecationWarning: is_sparse is deprecated and will be removed in a future version. Check `isinstance(dtype, pd.SparseDtype)` instead.\n",
      "  return lib.map_infer(values, mapper, convert=convert)\n",
      "/home/joelnyongesa/anaconda3/lib/python3.9/site-packages/pandas/core/algorithms.py:1743: DeprecationWarning: is_sparse is deprecated and will be removed in a future version. Check `isinstance(dtype, pd.SparseDtype)` instead.\n",
      "  return lib.map_infer(values, mapper, convert=convert)\n",
      "/home/joelnyongesa/anaconda3/lib/python3.9/site-packages/pandas/core/algorithms.py:1743: DeprecationWarning: is_sparse is deprecated and will be removed in a future version. Check `isinstance(dtype, pd.SparseDtype)` instead.\n",
      "  return lib.map_infer(values, mapper, convert=convert)\n",
      "/home/joelnyongesa/anaconda3/lib/python3.9/site-packages/pandas/core/algorithms.py:1743: DeprecationWarning: is_sparse is deprecated and will be removed in a future version. Check `isinstance(dtype, pd.SparseDtype)` instead.\n",
      "  return lib.map_infer(values, mapper, convert=convert)\n",
      "/home/joelnyongesa/anaconda3/lib/python3.9/site-packages/pandas/core/algorithms.py:1743: DeprecationWarning: is_sparse is deprecated and will be removed in a future version. Check `isinstance(dtype, pd.SparseDtype)` instead.\n",
      "  return lib.map_infer(values, mapper, convert=convert)\n"
     ]
    },
    {
     "data": {
      "text/plain": [
       "0.8135133793821676"
      ]
     },
     "execution_count": 62,
     "metadata": {},
     "output_type": "execute_result"
    }
   ],
   "source": [
    "from sklearn.linear_model import LinearRegression\n",
    "reg_model = LinearRegression()\n",
    "reg_model.fit(x_values, y_values)\n",
    "reg_model.score(x_values, y_values)"
   ]
  },
  {
   "cell_type": "markdown",
   "metadata": {},
   "source": [
    "## Predicting the House Sale Price"
   ]
  },
  {
   "cell_type": "code",
   "execution_count": 63,
   "metadata": {},
   "outputs": [
    {
     "name": "stderr",
     "output_type": "stream",
     "text": [
      "/home/joelnyongesa/anaconda3/lib/python3.9/site-packages/pandas/core/algorithms.py:1743: DeprecationWarning: is_sparse is deprecated and will be removed in a future version. Check `isinstance(dtype, pd.SparseDtype)` instead.\n",
      "  return lib.map_infer(values, mapper, convert=convert)\n",
      "/home/joelnyongesa/anaconda3/lib/python3.9/site-packages/pandas/core/algorithms.py:1743: DeprecationWarning: is_sparse is deprecated and will be removed in a future version. Check `isinstance(dtype, pd.SparseDtype)` instead.\n",
      "  return lib.map_infer(values, mapper, convert=convert)\n",
      "/home/joelnyongesa/anaconda3/lib/python3.9/site-packages/pandas/core/algorithms.py:1743: DeprecationWarning: is_sparse is deprecated and will be removed in a future version. Check `isinstance(dtype, pd.SparseDtype)` instead.\n",
      "  return lib.map_infer(values, mapper, convert=convert)\n",
      "/home/joelnyongesa/anaconda3/lib/python3.9/site-packages/pandas/core/algorithms.py:1743: DeprecationWarning: is_sparse is deprecated and will be removed in a future version. Check `isinstance(dtype, pd.SparseDtype)` instead.\n",
      "  return lib.map_infer(values, mapper, convert=convert)\n",
      "/home/joelnyongesa/anaconda3/lib/python3.9/site-packages/pandas/core/algorithms.py:1743: DeprecationWarning: is_sparse is deprecated and will be removed in a future version. Check `isinstance(dtype, pd.SparseDtype)` instead.\n",
      "  return lib.map_infer(values, mapper, convert=convert)\n",
      "/home/joelnyongesa/anaconda3/lib/python3.9/site-packages/pandas/core/algorithms.py:1743: DeprecationWarning: is_sparse is deprecated and will be removed in a future version. Check `isinstance(dtype, pd.SparseDtype)` instead.\n",
      "  return lib.map_infer(values, mapper, convert=convert)\n",
      "/home/joelnyongesa/anaconda3/lib/python3.9/site-packages/pandas/core/algorithms.py:1743: DeprecationWarning: is_sparse is deprecated and will be removed in a future version. Check `isinstance(dtype, pd.SparseDtype)` instead.\n",
      "  return lib.map_infer(values, mapper, convert=convert)\n",
      "/home/joelnyongesa/anaconda3/lib/python3.9/site-packages/pandas/core/algorithms.py:1743: DeprecationWarning: is_sparse is deprecated and will be removed in a future version. Check `isinstance(dtype, pd.SparseDtype)` instead.\n",
      "  return lib.map_infer(values, mapper, convert=convert)\n",
      "/home/joelnyongesa/anaconda3/lib/python3.9/site-packages/pandas/core/algorithms.py:1743: DeprecationWarning: is_sparse is deprecated and will be removed in a future version. Check `isinstance(dtype, pd.SparseDtype)` instead.\n",
      "  return lib.map_infer(values, mapper, convert=convert)\n",
      "/home/joelnyongesa/anaconda3/lib/python3.9/site-packages/pandas/core/algorithms.py:1743: DeprecationWarning: is_sparse is deprecated and will be removed in a future version. Check `isinstance(dtype, pd.SparseDtype)` instead.\n",
      "  return lib.map_infer(values, mapper, convert=convert)\n",
      "/home/joelnyongesa/anaconda3/lib/python3.9/site-packages/pandas/core/algorithms.py:1743: DeprecationWarning: is_sparse is deprecated and will be removed in a future version. Check `isinstance(dtype, pd.SparseDtype)` instead.\n",
      "  return lib.map_infer(values, mapper, convert=convert)\n",
      "/home/joelnyongesa/anaconda3/lib/python3.9/site-packages/pandas/core/algorithms.py:1743: DeprecationWarning: is_sparse is deprecated and will be removed in a future version. Check `isinstance(dtype, pd.SparseDtype)` instead.\n",
      "  return lib.map_infer(values, mapper, convert=convert)\n",
      "/home/joelnyongesa/anaconda3/lib/python3.9/site-packages/pandas/core/algorithms.py:1743: DeprecationWarning: is_sparse is deprecated and will be removed in a future version. Check `isinstance(dtype, pd.SparseDtype)` instead.\n",
      "  return lib.map_infer(values, mapper, convert=convert)\n",
      "/home/joelnyongesa/anaconda3/lib/python3.9/site-packages/pandas/core/algorithms.py:1743: DeprecationWarning: is_sparse is deprecated and will be removed in a future version. Check `isinstance(dtype, pd.SparseDtype)` instead.\n",
      "  return lib.map_infer(values, mapper, convert=convert)\n",
      "/home/joelnyongesa/anaconda3/lib/python3.9/site-packages/pandas/core/algorithms.py:1743: DeprecationWarning: is_sparse is deprecated and will be removed in a future version. Check `isinstance(dtype, pd.SparseDtype)` instead.\n",
      "  return lib.map_infer(values, mapper, convert=convert)\n",
      "/home/joelnyongesa/anaconda3/lib/python3.9/site-packages/pandas/core/algorithms.py:1743: DeprecationWarning: is_sparse is deprecated and will be removed in a future version. Check `isinstance(dtype, pd.SparseDtype)` instead.\n",
      "  return lib.map_infer(values, mapper, convert=convert)\n",
      "/home/joelnyongesa/anaconda3/lib/python3.9/site-packages/pandas/core/algorithms.py:1743: DeprecationWarning: is_sparse is deprecated and will be removed in a future version. Check `isinstance(dtype, pd.SparseDtype)` instead.\n",
      "  return lib.map_infer(values, mapper, convert=convert)\n",
      "/home/joelnyongesa/anaconda3/lib/python3.9/site-packages/pandas/core/algorithms.py:1743: DeprecationWarning: is_sparse is deprecated and will be removed in a future version. Check `isinstance(dtype, pd.SparseDtype)` instead.\n",
      "  return lib.map_infer(values, mapper, convert=convert)\n",
      "/home/joelnyongesa/anaconda3/lib/python3.9/site-packages/pandas/core/algorithms.py:1743: DeprecationWarning: is_sparse is deprecated and will be removed in a future version. Check `isinstance(dtype, pd.SparseDtype)` instead.\n",
      "  return lib.map_infer(values, mapper, convert=convert)\n",
      "/home/joelnyongesa/anaconda3/lib/python3.9/site-packages/pandas/core/algorithms.py:1743: DeprecationWarning: is_sparse is deprecated and will be removed in a future version. Check `isinstance(dtype, pd.SparseDtype)` instead.\n",
      "  return lib.map_infer(values, mapper, convert=convert)\n",
      "/home/joelnyongesa/anaconda3/lib/python3.9/site-packages/pandas/core/algorithms.py:1743: DeprecationWarning: is_sparse is deprecated and will be removed in a future version. Check `isinstance(dtype, pd.SparseDtype)` instead.\n",
      "  return lib.map_infer(values, mapper, convert=convert)\n",
      "/home/joelnyongesa/anaconda3/lib/python3.9/site-packages/pandas/core/algorithms.py:1743: DeprecationWarning: is_sparse is deprecated and will be removed in a future version. Check `isinstance(dtype, pd.SparseDtype)` instead.\n",
      "  return lib.map_infer(values, mapper, convert=convert)\n",
      "/home/joelnyongesa/anaconda3/lib/python3.9/site-packages/pandas/core/algorithms.py:1743: DeprecationWarning: is_sparse is deprecated and will be removed in a future version. Check `isinstance(dtype, pd.SparseDtype)` instead.\n",
      "  return lib.map_infer(values, mapper, convert=convert)\n",
      "/home/joelnyongesa/anaconda3/lib/python3.9/site-packages/pandas/core/algorithms.py:1743: DeprecationWarning: is_sparse is deprecated and will be removed in a future version. Check `isinstance(dtype, pd.SparseDtype)` instead.\n",
      "  return lib.map_infer(values, mapper, convert=convert)\n",
      "/home/joelnyongesa/anaconda3/lib/python3.9/site-packages/pandas/core/algorithms.py:1743: DeprecationWarning: is_sparse is deprecated and will be removed in a future version. Check `isinstance(dtype, pd.SparseDtype)` instead.\n",
      "  return lib.map_infer(values, mapper, convert=convert)\n",
      "/home/joelnyongesa/anaconda3/lib/python3.9/site-packages/pandas/core/algorithms.py:1743: DeprecationWarning: is_sparse is deprecated and will be removed in a future version. Check `isinstance(dtype, pd.SparseDtype)` instead.\n",
      "  return lib.map_infer(values, mapper, convert=convert)\n",
      "/home/joelnyongesa/anaconda3/lib/python3.9/site-packages/pandas/core/algorithms.py:1743: DeprecationWarning: is_sparse is deprecated and will be removed in a future version. Check `isinstance(dtype, pd.SparseDtype)` instead.\n",
      "  return lib.map_infer(values, mapper, convert=convert)\n",
      "/home/joelnyongesa/anaconda3/lib/python3.9/site-packages/pandas/core/algorithms.py:1743: DeprecationWarning: is_sparse is deprecated and will be removed in a future version. Check `isinstance(dtype, pd.SparseDtype)` instead.\n",
      "  return lib.map_infer(values, mapper, convert=convert)\n",
      "/home/joelnyongesa/anaconda3/lib/python3.9/site-packages/pandas/core/algorithms.py:1743: DeprecationWarning: is_sparse is deprecated and will be removed in a future version. Check `isinstance(dtype, pd.SparseDtype)` instead.\n",
      "  return lib.map_infer(values, mapper, convert=convert)\n",
      "/home/joelnyongesa/anaconda3/lib/python3.9/site-packages/pandas/core/algorithms.py:1743: DeprecationWarning: is_sparse is deprecated and will be removed in a future version. Check `isinstance(dtype, pd.SparseDtype)` instead.\n",
      "  return lib.map_infer(values, mapper, convert=convert)\n",
      "/home/joelnyongesa/anaconda3/lib/python3.9/site-packages/pandas/core/algorithms.py:1743: DeprecationWarning: is_sparse is deprecated and will be removed in a future version. Check `isinstance(dtype, pd.SparseDtype)` instead.\n",
      "  return lib.map_infer(values, mapper, convert=convert)\n",
      "/home/joelnyongesa/anaconda3/lib/python3.9/site-packages/pandas/core/algorithms.py:1743: DeprecationWarning: is_sparse is deprecated and will be removed in a future version. Check `isinstance(dtype, pd.SparseDtype)` instead.\n",
      "  return lib.map_infer(values, mapper, convert=convert)\n",
      "/home/joelnyongesa/anaconda3/lib/python3.9/site-packages/pandas/core/algorithms.py:1743: DeprecationWarning: is_sparse is deprecated and will be removed in a future version. Check `isinstance(dtype, pd.SparseDtype)` instead.\n",
      "  return lib.map_infer(values, mapper, convert=convert)\n",
      "/home/joelnyongesa/anaconda3/lib/python3.9/site-packages/pandas/core/algorithms.py:1743: DeprecationWarning: is_sparse is deprecated and will be removed in a future version. Check `isinstance(dtype, pd.SparseDtype)` instead.\n",
      "  return lib.map_infer(values, mapper, convert=convert)\n",
      "/home/joelnyongesa/anaconda3/lib/python3.9/site-packages/pandas/core/algorithms.py:1743: DeprecationWarning: is_sparse is deprecated and will be removed in a future version. Check `isinstance(dtype, pd.SparseDtype)` instead.\n",
      "  return lib.map_infer(values, mapper, convert=convert)\n",
      "/home/joelnyongesa/anaconda3/lib/python3.9/site-packages/pandas/core/algorithms.py:1743: DeprecationWarning: is_sparse is deprecated and will be removed in a future version. Check `isinstance(dtype, pd.SparseDtype)` instead.\n",
      "  return lib.map_infer(values, mapper, convert=convert)\n",
      "/home/joelnyongesa/anaconda3/lib/python3.9/site-packages/pandas/core/algorithms.py:1743: DeprecationWarning: is_sparse is deprecated and will be removed in a future version. Check `isinstance(dtype, pd.SparseDtype)` instead.\n",
      "  return lib.map_infer(values, mapper, convert=convert)\n",
      "/home/joelnyongesa/anaconda3/lib/python3.9/site-packages/pandas/core/algorithms.py:1743: DeprecationWarning: is_sparse is deprecated and will be removed in a future version. Check `isinstance(dtype, pd.SparseDtype)` instead.\n",
      "  return lib.map_infer(values, mapper, convert=convert)\n",
      "/home/joelnyongesa/anaconda3/lib/python3.9/site-packages/pandas/core/algorithms.py:1743: DeprecationWarning: is_sparse is deprecated and will be removed in a future version. Check `isinstance(dtype, pd.SparseDtype)` instead.\n",
      "  return lib.map_infer(values, mapper, convert=convert)\n",
      "/home/joelnyongesa/anaconda3/lib/python3.9/site-packages/pandas/core/algorithms.py:1743: DeprecationWarning: is_sparse is deprecated and will be removed in a future version. Check `isinstance(dtype, pd.SparseDtype)` instead.\n",
      "  return lib.map_infer(values, mapper, convert=convert)\n",
      "/home/joelnyongesa/anaconda3/lib/python3.9/site-packages/pandas/core/algorithms.py:1743: DeprecationWarning: is_sparse is deprecated and will be removed in a future version. Check `isinstance(dtype, pd.SparseDtype)` instead.\n",
      "  return lib.map_infer(values, mapper, convert=convert)\n",
      "/home/joelnyongesa/anaconda3/lib/python3.9/site-packages/pandas/core/algorithms.py:1743: DeprecationWarning: is_sparse is deprecated and will be removed in a future version. Check `isinstance(dtype, pd.SparseDtype)` instead.\n",
      "  return lib.map_infer(values, mapper, convert=convert)\n",
      "/home/joelnyongesa/anaconda3/lib/python3.9/site-packages/pandas/core/algorithms.py:1743: DeprecationWarning: is_sparse is deprecated and will be removed in a future version. Check `isinstance(dtype, pd.SparseDtype)` instead.\n",
      "  return lib.map_infer(values, mapper, convert=convert)\n",
      "/home/joelnyongesa/anaconda3/lib/python3.9/site-packages/pandas/core/algorithms.py:1743: DeprecationWarning: is_sparse is deprecated and will be removed in a future version. Check `isinstance(dtype, pd.SparseDtype)` instead.\n",
      "  return lib.map_infer(values, mapper, convert=convert)\n",
      "/home/joelnyongesa/anaconda3/lib/python3.9/site-packages/pandas/core/algorithms.py:1743: DeprecationWarning: is_sparse is deprecated and will be removed in a future version. Check `isinstance(dtype, pd.SparseDtype)` instead.\n",
      "  return lib.map_infer(values, mapper, convert=convert)\n",
      "/home/joelnyongesa/anaconda3/lib/python3.9/site-packages/pandas/core/algorithms.py:1743: DeprecationWarning: is_sparse is deprecated and will be removed in a future version. Check `isinstance(dtype, pd.SparseDtype)` instead.\n",
      "  return lib.map_infer(values, mapper, convert=convert)\n",
      "/home/joelnyongesa/anaconda3/lib/python3.9/site-packages/pandas/core/algorithms.py:1743: DeprecationWarning: is_sparse is deprecated and will be removed in a future version. Check `isinstance(dtype, pd.SparseDtype)` instead.\n",
      "  return lib.map_infer(values, mapper, convert=convert)\n",
      "/home/joelnyongesa/anaconda3/lib/python3.9/site-packages/pandas/core/algorithms.py:1743: DeprecationWarning: is_sparse is deprecated and will be removed in a future version. Check `isinstance(dtype, pd.SparseDtype)` instead.\n",
      "  return lib.map_infer(values, mapper, convert=convert)\n",
      "/home/joelnyongesa/anaconda3/lib/python3.9/site-packages/pandas/core/algorithms.py:1743: DeprecationWarning: is_sparse is deprecated and will be removed in a future version. Check `isinstance(dtype, pd.SparseDtype)` instead.\n",
      "  return lib.map_infer(values, mapper, convert=convert)\n",
      "/home/joelnyongesa/anaconda3/lib/python3.9/site-packages/pandas/core/algorithms.py:1743: DeprecationWarning: is_sparse is deprecated and will be removed in a future version. Check `isinstance(dtype, pd.SparseDtype)` instead.\n",
      "  return lib.map_infer(values, mapper, convert=convert)\n",
      "/home/joelnyongesa/anaconda3/lib/python3.9/site-packages/pandas/core/algorithms.py:1743: DeprecationWarning: is_sparse is deprecated and will be removed in a future version. Check `isinstance(dtype, pd.SparseDtype)` instead.\n",
      "  return lib.map_infer(values, mapper, convert=convert)\n",
      "/home/joelnyongesa/anaconda3/lib/python3.9/site-packages/pandas/core/algorithms.py:1743: DeprecationWarning: is_sparse is deprecated and will be removed in a future version. Check `isinstance(dtype, pd.SparseDtype)` instead.\n",
      "  return lib.map_infer(values, mapper, convert=convert)\n",
      "/home/joelnyongesa/anaconda3/lib/python3.9/site-packages/pandas/core/algorithms.py:1743: DeprecationWarning: is_sparse is deprecated and will be removed in a future version. Check `isinstance(dtype, pd.SparseDtype)` instead.\n",
      "  return lib.map_infer(values, mapper, convert=convert)\n",
      "/home/joelnyongesa/anaconda3/lib/python3.9/site-packages/pandas/core/algorithms.py:1743: DeprecationWarning: is_sparse is deprecated and will be removed in a future version. Check `isinstance(dtype, pd.SparseDtype)` instead.\n",
      "  return lib.map_infer(values, mapper, convert=convert)\n",
      "/home/joelnyongesa/anaconda3/lib/python3.9/site-packages/pandas/core/algorithms.py:1743: DeprecationWarning: is_sparse is deprecated and will be removed in a future version. Check `isinstance(dtype, pd.SparseDtype)` instead.\n",
      "  return lib.map_infer(values, mapper, convert=convert)\n",
      "/home/joelnyongesa/anaconda3/lib/python3.9/site-packages/pandas/core/algorithms.py:1743: DeprecationWarning: is_sparse is deprecated and will be removed in a future version. Check `isinstance(dtype, pd.SparseDtype)` instead.\n",
      "  return lib.map_infer(values, mapper, convert=convert)\n",
      "/home/joelnyongesa/anaconda3/lib/python3.9/site-packages/pandas/core/algorithms.py:1743: DeprecationWarning: is_sparse is deprecated and will be removed in a future version. Check `isinstance(dtype, pd.SparseDtype)` instead.\n",
      "  return lib.map_infer(values, mapper, convert=convert)\n",
      "/home/joelnyongesa/anaconda3/lib/python3.9/site-packages/pandas/core/algorithms.py:1743: DeprecationWarning: is_sparse is deprecated and will be removed in a future version. Check `isinstance(dtype, pd.SparseDtype)` instead.\n",
      "  return lib.map_infer(values, mapper, convert=convert)\n",
      "/home/joelnyongesa/anaconda3/lib/python3.9/site-packages/pandas/core/algorithms.py:1743: DeprecationWarning: is_sparse is deprecated and will be removed in a future version. Check `isinstance(dtype, pd.SparseDtype)` instead.\n",
      "  return lib.map_infer(values, mapper, convert=convert)\n",
      "/home/joelnyongesa/anaconda3/lib/python3.9/site-packages/pandas/core/algorithms.py:1743: DeprecationWarning: is_sparse is deprecated and will be removed in a future version. Check `isinstance(dtype, pd.SparseDtype)` instead.\n",
      "  return lib.map_infer(values, mapper, convert=convert)\n",
      "/home/joelnyongesa/anaconda3/lib/python3.9/site-packages/pandas/core/algorithms.py:1743: DeprecationWarning: is_sparse is deprecated and will be removed in a future version. Check `isinstance(dtype, pd.SparseDtype)` instead.\n",
      "  return lib.map_infer(values, mapper, convert=convert)\n",
      "/home/joelnyongesa/anaconda3/lib/python3.9/site-packages/pandas/core/algorithms.py:1743: DeprecationWarning: is_sparse is deprecated and will be removed in a future version. Check `isinstance(dtype, pd.SparseDtype)` instead.\n",
      "  return lib.map_infer(values, mapper, convert=convert)\n",
      "/home/joelnyongesa/anaconda3/lib/python3.9/site-packages/pandas/core/algorithms.py:1743: DeprecationWarning: is_sparse is deprecated and will be removed in a future version. Check `isinstance(dtype, pd.SparseDtype)` instead.\n",
      "  return lib.map_infer(values, mapper, convert=convert)\n",
      "/home/joelnyongesa/anaconda3/lib/python3.9/site-packages/pandas/core/algorithms.py:1743: DeprecationWarning: is_sparse is deprecated and will be removed in a future version. Check `isinstance(dtype, pd.SparseDtype)` instead.\n",
      "  return lib.map_infer(values, mapper, convert=convert)\n",
      "/home/joelnyongesa/anaconda3/lib/python3.9/site-packages/pandas/core/algorithms.py:1743: DeprecationWarning: is_sparse is deprecated and will be removed in a future version. Check `isinstance(dtype, pd.SparseDtype)` instead.\n",
      "  return lib.map_infer(values, mapper, convert=convert)\n",
      "/home/joelnyongesa/anaconda3/lib/python3.9/site-packages/pandas/core/algorithms.py:1743: DeprecationWarning: is_sparse is deprecated and will be removed in a future version. Check `isinstance(dtype, pd.SparseDtype)` instead.\n",
      "  return lib.map_infer(values, mapper, convert=convert)\n",
      "/home/joelnyongesa/anaconda3/lib/python3.9/site-packages/pandas/core/algorithms.py:1743: DeprecationWarning: is_sparse is deprecated and will be removed in a future version. Check `isinstance(dtype, pd.SparseDtype)` instead.\n",
      "  return lib.map_infer(values, mapper, convert=convert)\n",
      "/home/joelnyongesa/anaconda3/lib/python3.9/site-packages/pandas/core/algorithms.py:1743: DeprecationWarning: is_sparse is deprecated and will be removed in a future version. Check `isinstance(dtype, pd.SparseDtype)` instead.\n",
      "  return lib.map_infer(values, mapper, convert=convert)\n",
      "/home/joelnyongesa/anaconda3/lib/python3.9/site-packages/pandas/core/algorithms.py:1743: DeprecationWarning: is_sparse is deprecated and will be removed in a future version. Check `isinstance(dtype, pd.SparseDtype)` instead.\n",
      "  return lib.map_infer(values, mapper, convert=convert)\n",
      "/home/joelnyongesa/anaconda3/lib/python3.9/site-packages/pandas/core/algorithms.py:1743: DeprecationWarning: is_sparse is deprecated and will be removed in a future version. Check `isinstance(dtype, pd.SparseDtype)` instead.\n",
      "  return lib.map_infer(values, mapper, convert=convert)\n",
      "/home/joelnyongesa/anaconda3/lib/python3.9/site-packages/pandas/core/algorithms.py:1743: DeprecationWarning: is_sparse is deprecated and will be removed in a future version. Check `isinstance(dtype, pd.SparseDtype)` instead.\n",
      "  return lib.map_infer(values, mapper, convert=convert)\n",
      "/home/joelnyongesa/anaconda3/lib/python3.9/site-packages/pandas/core/algorithms.py:1743: DeprecationWarning: is_sparse is deprecated and will be removed in a future version. Check `isinstance(dtype, pd.SparseDtype)` instead.\n",
      "  return lib.map_infer(values, mapper, convert=convert)\n",
      "/home/joelnyongesa/anaconda3/lib/python3.9/site-packages/pandas/core/algorithms.py:1743: DeprecationWarning: is_sparse is deprecated and will be removed in a future version. Check `isinstance(dtype, pd.SparseDtype)` instead.\n",
      "  return lib.map_infer(values, mapper, convert=convert)\n",
      "/home/joelnyongesa/anaconda3/lib/python3.9/site-packages/pandas/core/algorithms.py:1743: DeprecationWarning: is_sparse is deprecated and will be removed in a future version. Check `isinstance(dtype, pd.SparseDtype)` instead.\n",
      "  return lib.map_infer(values, mapper, convert=convert)\n",
      "/home/joelnyongesa/anaconda3/lib/python3.9/site-packages/pandas/core/algorithms.py:1743: DeprecationWarning: is_sparse is deprecated and will be removed in a future version. Check `isinstance(dtype, pd.SparseDtype)` instead.\n",
      "  return lib.map_infer(values, mapper, convert=convert)\n",
      "/home/joelnyongesa/anaconda3/lib/python3.9/site-packages/pandas/core/algorithms.py:1743: DeprecationWarning: is_sparse is deprecated and will be removed in a future version. Check `isinstance(dtype, pd.SparseDtype)` instead.\n",
      "  return lib.map_infer(values, mapper, convert=convert)\n",
      "/home/joelnyongesa/anaconda3/lib/python3.9/site-packages/pandas/core/algorithms.py:1743: DeprecationWarning: is_sparse is deprecated and will be removed in a future version. Check `isinstance(dtype, pd.SparseDtype)` instead.\n",
      "  return lib.map_infer(values, mapper, convert=convert)\n",
      "/home/joelnyongesa/anaconda3/lib/python3.9/site-packages/pandas/core/algorithms.py:1743: DeprecationWarning: is_sparse is deprecated and will be removed in a future version. Check `isinstance(dtype, pd.SparseDtype)` instead.\n",
      "  return lib.map_infer(values, mapper, convert=convert)\n",
      "/home/joelnyongesa/anaconda3/lib/python3.9/site-packages/pandas/core/algorithms.py:1743: DeprecationWarning: is_sparse is deprecated and will be removed in a future version. Check `isinstance(dtype, pd.SparseDtype)` instead.\n",
      "  return lib.map_infer(values, mapper, convert=convert)\n",
      "/home/joelnyongesa/anaconda3/lib/python3.9/site-packages/pandas/core/algorithms.py:1743: DeprecationWarning: is_sparse is deprecated and will be removed in a future version. Check `isinstance(dtype, pd.SparseDtype)` instead.\n",
      "  return lib.map_infer(values, mapper, convert=convert)\n"
     ]
    }
   ],
   "source": [
    "predicted = reg_model.predict(x_test_values)"
   ]
  },
  {
   "cell_type": "code",
   "execution_count": 64,
   "metadata": {},
   "outputs": [
    {
     "data": {
      "text/html": [
       "<div>\n",
       "<style scoped>\n",
       "    .dataframe tbody tr th:only-of-type {\n",
       "        vertical-align: middle;\n",
       "    }\n",
       "\n",
       "    .dataframe tbody tr th {\n",
       "        vertical-align: top;\n",
       "    }\n",
       "\n",
       "    .dataframe thead th {\n",
       "        text-align: right;\n",
       "    }\n",
       "</style>\n",
       "<table border=\"1\" class=\"dataframe\">\n",
       "  <thead>\n",
       "    <tr style=\"text-align: right;\">\n",
       "      <th></th>\n",
       "      <th>Predicted House Price Values</th>\n",
       "    </tr>\n",
       "  </thead>\n",
       "  <tbody>\n",
       "    <tr>\n",
       "      <th>0</th>\n",
       "      <td>116554.069775</td>\n",
       "    </tr>\n",
       "    <tr>\n",
       "      <th>1</th>\n",
       "      <td>151362.702797</td>\n",
       "    </tr>\n",
       "    <tr>\n",
       "      <th>2</th>\n",
       "      <td>170786.346810</td>\n",
       "    </tr>\n",
       "    <tr>\n",
       "      <th>3</th>\n",
       "      <td>197939.017805</td>\n",
       "    </tr>\n",
       "    <tr>\n",
       "      <th>4</th>\n",
       "      <td>192306.078574</td>\n",
       "    </tr>\n",
       "    <tr>\n",
       "      <th>...</th>\n",
       "      <td>...</td>\n",
       "    </tr>\n",
       "    <tr>\n",
       "      <th>1454</th>\n",
       "      <td>57292.367917</td>\n",
       "    </tr>\n",
       "    <tr>\n",
       "      <th>1455</th>\n",
       "      <td>64527.075453</td>\n",
       "    </tr>\n",
       "    <tr>\n",
       "      <th>1456</th>\n",
       "      <td>170735.232571</td>\n",
       "    </tr>\n",
       "    <tr>\n",
       "      <th>1457</th>\n",
       "      <td>94878.025551</td>\n",
       "    </tr>\n",
       "    <tr>\n",
       "      <th>1458</th>\n",
       "      <td>250784.294169</td>\n",
       "    </tr>\n",
       "  </tbody>\n",
       "</table>\n",
       "<p>1459 rows × 1 columns</p>\n",
       "</div>"
      ],
      "text/plain": [
       "      Predicted House Price Values\n",
       "0                    116554.069775\n",
       "1                    151362.702797\n",
       "2                    170786.346810\n",
       "3                    197939.017805\n",
       "4                    192306.078574\n",
       "...                            ...\n",
       "1454                  57292.367917\n",
       "1455                  64527.075453\n",
       "1456                 170735.232571\n",
       "1457                  94878.025551\n",
       "1458                 250784.294169\n",
       "\n",
       "[1459 rows x 1 columns]"
      ]
     },
     "execution_count": 64,
     "metadata": {},
     "output_type": "execute_result"
    }
   ],
   "source": [
    "pd.DataFrame({'Predicted House Price Values': predicted})"
   ]
  },
  {
   "cell_type": "markdown",
   "metadata": {
    "id": "_BbswDvnEX-k"
   },
   "source": [
    "# **Question 4: Using Pre-trained LLMs**"
   ]
  },
  {
   "cell_type": "markdown",
   "metadata": {
    "id": "xKwKTnW1EX-k"
   },
   "source": [
    "(20 points)\n",
    "Utilize a **Pre-trained Language Model (PLM) from the Hugging Face Repository** for predicting sentiment polarities on the data you collected in Assignment 3. \n",
    "\n",
    "Then, choose a relevant LLM from their repository, such as GPT-3, BERT, or RoBERTa or any other related models. \n",
    "1. (5 points) Provide a brief description of the PLM you selected, including its original pretraining data sources,  number of parameters, and any task-specific fine-tuning if applied.\n",
    "2. (10 points) Use the selected PLM to perform the sentiment analysis on the data collected in Assignment 3. Only use the model in the **zero-shot** setting, NO finetuning is required. Evaluate performance of the model by comparing with the groundtruths (labels you annotated) on Accuracy, Precision, Recall, and F1 metrics. \n",
    "3. (5 points) Discuss the advantages and disadvantages of the selected PLM, and any challenges encountered during the implementation. This will enable a comprehensive understanding of the chosen LLM's applicability and effectiveness for the given task.\n"
   ]
  },
  {
   "cell_type": "code",
   "execution_count": null,
   "metadata": {
    "id": "BJgHWnOhFm-C"
   },
   "outputs": [],
   "source": [
    "# Write your code here\n",
    "\n",
    "\n"
   ]
  }
 ],
 "metadata": {
  "colab": {
   "provenance": []
  },
  "kernelspec": {
   "display_name": "Python 3 (ipykernel)",
   "language": "python",
   "name": "python3"
  },
  "language_info": {
   "codemirror_mode": {
    "name": "ipython",
    "version": 3
   },
   "file_extension": ".py",
   "mimetype": "text/x-python",
   "name": "python",
   "nbconvert_exporter": "python",
   "pygments_lexer": "ipython3",
   "version": "3.9.12"
  }
 },
 "nbformat": 4,
 "nbformat_minor": 1
}
